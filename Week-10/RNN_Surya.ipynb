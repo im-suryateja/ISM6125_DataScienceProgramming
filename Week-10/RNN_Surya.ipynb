{
 "cells": [
  {
   "attachments": {},
   "cell_type": "markdown",
   "id": "7aca3a80",
   "metadata": {},
   "source": [
    "### Surya Teja Pidakala\n",
    "### U99286608"
   ]
  },
  {
   "cell_type": "code",
   "execution_count": 1,
   "id": "ed7890fa",
   "metadata": {},
   "outputs": [],
   "source": [
    "import tensorflow as tf\n",
    "from tensorflow import keras\n",
    "from sklearn.metrics import mean_squared_error\n",
    "\n",
    "\n",
    "# Common imports\n",
    "import numpy as np\n",
    "import os\n",
    "import datetime as dt\n",
    "# to make this notebook's output stable across runs\n",
    "np.random.seed(42)\n",
    "# To plot pretty figures\n",
    "%matplotlib inline\n",
    "import matplotlib as mpl\n",
    "import matplotlib.pyplot as plt\n",
    "mpl.rc('axes', labelsize=14)\n",
    "mpl.rc('xtick', labelsize=12)\n",
    "mpl.rc('ytick', labelsize=12)\n",
    "import pandas as pd\n",
    "import seaborn as sns\n"
   ]
  },
  {
   "cell_type": "code",
   "execution_count": 2,
   "id": "c5e329a7",
   "metadata": {},
   "outputs": [],
   "source": [
    "mrf = pd.read_csv(\"C:/Users/suman/Downloads/mrfdata.csv\")"
   ]
  },
  {
   "cell_type": "code",
   "execution_count": 3,
   "id": "872a7130",
   "metadata": {},
   "outputs": [
    {
     "data": {
      "text/html": [
       "<div>\n",
       "<style scoped>\n",
       "    .dataframe tbody tr th:only-of-type {\n",
       "        vertical-align: middle;\n",
       "    }\n",
       "\n",
       "    .dataframe tbody tr th {\n",
       "        vertical-align: top;\n",
       "    }\n",
       "\n",
       "    .dataframe thead th {\n",
       "        text-align: right;\n",
       "    }\n",
       "</style>\n",
       "<table border=\"1\" class=\"dataframe\">\n",
       "  <thead>\n",
       "    <tr style=\"text-align: right;\">\n",
       "      <th></th>\n",
       "      <th>Date</th>\n",
       "      <th>Open</th>\n",
       "      <th>High</th>\n",
       "      <th>Low</th>\n",
       "      <th>Close</th>\n",
       "      <th>Adj Close</th>\n",
       "      <th>Volume</th>\n",
       "    </tr>\n",
       "  </thead>\n",
       "  <tbody>\n",
       "    <tr>\n",
       "      <th>0</th>\n",
       "      <td>4/25/2022</td>\n",
       "      <td>68550.00000</td>\n",
       "      <td>69499.00000</td>\n",
       "      <td>68235.35156</td>\n",
       "      <td>69115.89844</td>\n",
       "      <td>68987.04688</td>\n",
       "      <td>9387</td>\n",
       "    </tr>\n",
       "    <tr>\n",
       "      <th>1</th>\n",
       "      <td>4/26/2022</td>\n",
       "      <td>69500.00000</td>\n",
       "      <td>71537.89844</td>\n",
       "      <td>69225.00000</td>\n",
       "      <td>71331.50000</td>\n",
       "      <td>71198.51563</td>\n",
       "      <td>16723</td>\n",
       "    </tr>\n",
       "    <tr>\n",
       "      <th>2</th>\n",
       "      <td>4/27/2022</td>\n",
       "      <td>70315.00000</td>\n",
       "      <td>72599.89844</td>\n",
       "      <td>70200.00000</td>\n",
       "      <td>72218.95313</td>\n",
       "      <td>72084.31250</td>\n",
       "      <td>14670</td>\n",
       "    </tr>\n",
       "    <tr>\n",
       "      <th>3</th>\n",
       "      <td>4/28/2022</td>\n",
       "      <td>72648.00000</td>\n",
       "      <td>72648.00000</td>\n",
       "      <td>71254.00000</td>\n",
       "      <td>72330.70313</td>\n",
       "      <td>72195.85938</td>\n",
       "      <td>11877</td>\n",
       "    </tr>\n",
       "    <tr>\n",
       "      <th>4</th>\n",
       "      <td>4/29/2022</td>\n",
       "      <td>72330.00000</td>\n",
       "      <td>73400.00000</td>\n",
       "      <td>71801.29688</td>\n",
       "      <td>72729.00000</td>\n",
       "      <td>72593.40625</td>\n",
       "      <td>11934</td>\n",
       "    </tr>\n",
       "    <tr>\n",
       "      <th>...</th>\n",
       "      <td>...</td>\n",
       "      <td>...</td>\n",
       "      <td>...</td>\n",
       "      <td>...</td>\n",
       "      <td>...</td>\n",
       "      <td>...</td>\n",
       "      <td>...</td>\n",
       "    </tr>\n",
       "    <tr>\n",
       "      <th>95</th>\n",
       "      <td>9/9/2022</td>\n",
       "      <td>85838.35156</td>\n",
       "      <td>85990.00000</td>\n",
       "      <td>84013.00000</td>\n",
       "      <td>84208.04688</td>\n",
       "      <td>84202.33594</td>\n",
       "      <td>6406</td>\n",
       "    </tr>\n",
       "    <tr>\n",
       "      <th>96</th>\n",
       "      <td>9/12/2022</td>\n",
       "      <td>84550.00000</td>\n",
       "      <td>85900.00000</td>\n",
       "      <td>84250.00000</td>\n",
       "      <td>85808.29688</td>\n",
       "      <td>85802.47656</td>\n",
       "      <td>8568</td>\n",
       "    </tr>\n",
       "    <tr>\n",
       "      <th>97</th>\n",
       "      <td>9/13/2022</td>\n",
       "      <td>86000.10156</td>\n",
       "      <td>86350.00000</td>\n",
       "      <td>85315.04688</td>\n",
       "      <td>85551.25000</td>\n",
       "      <td>85545.44531</td>\n",
       "      <td>5533</td>\n",
       "    </tr>\n",
       "    <tr>\n",
       "      <th>98</th>\n",
       "      <td>9/14/2022</td>\n",
       "      <td>83750.00000</td>\n",
       "      <td>86444.04688</td>\n",
       "      <td>83750.00000</td>\n",
       "      <td>86071.70313</td>\n",
       "      <td>86065.86719</td>\n",
       "      <td>9618</td>\n",
       "    </tr>\n",
       "    <tr>\n",
       "      <th>99</th>\n",
       "      <td>9/15/2022</td>\n",
       "      <td>86488.00000</td>\n",
       "      <td>93887.00000</td>\n",
       "      <td>85685.14844</td>\n",
       "      <td>92868.45313</td>\n",
       "      <td>92862.14844</td>\n",
       "      <td>66242</td>\n",
       "    </tr>\n",
       "  </tbody>\n",
       "</table>\n",
       "<p>100 rows × 7 columns</p>\n",
       "</div>"
      ],
      "text/plain": [
       "         Date         Open         High          Low        Close   \n",
       "0   4/25/2022  68550.00000  69499.00000  68235.35156  69115.89844  \\\n",
       "1   4/26/2022  69500.00000  71537.89844  69225.00000  71331.50000   \n",
       "2   4/27/2022  70315.00000  72599.89844  70200.00000  72218.95313   \n",
       "3   4/28/2022  72648.00000  72648.00000  71254.00000  72330.70313   \n",
       "4   4/29/2022  72330.00000  73400.00000  71801.29688  72729.00000   \n",
       "..        ...          ...          ...          ...          ...   \n",
       "95   9/9/2022  85838.35156  85990.00000  84013.00000  84208.04688   \n",
       "96  9/12/2022  84550.00000  85900.00000  84250.00000  85808.29688   \n",
       "97  9/13/2022  86000.10156  86350.00000  85315.04688  85551.25000   \n",
       "98  9/14/2022  83750.00000  86444.04688  83750.00000  86071.70313   \n",
       "99  9/15/2022  86488.00000  93887.00000  85685.14844  92868.45313   \n",
       "\n",
       "      Adj Close  Volume  \n",
       "0   68987.04688    9387  \n",
       "1   71198.51563   16723  \n",
       "2   72084.31250   14670  \n",
       "3   72195.85938   11877  \n",
       "4   72593.40625   11934  \n",
       "..          ...     ...  \n",
       "95  84202.33594    6406  \n",
       "96  85802.47656    8568  \n",
       "97  85545.44531    5533  \n",
       "98  86065.86719    9618  \n",
       "99  92862.14844   66242  \n",
       "\n",
       "[100 rows x 7 columns]"
      ]
     },
     "execution_count": 3,
     "metadata": {},
     "output_type": "execute_result"
    }
   ],
   "source": [
    "mrf"
   ]
  },
  {
   "cell_type": "code",
   "execution_count": 4,
   "id": "85e6deb0",
   "metadata": {},
   "outputs": [
    {
     "name": "stdout",
     "output_type": "stream",
     "text": [
      "<class 'pandas.core.frame.DataFrame'>\n",
      "RangeIndex: 100 entries, 0 to 99\n",
      "Data columns (total 7 columns):\n",
      " #   Column     Non-Null Count  Dtype  \n",
      "---  ------     --------------  -----  \n",
      " 0   Date       100 non-null    object \n",
      " 1   Open       100 non-null    float64\n",
      " 2   High       100 non-null    float64\n",
      " 3   Low        100 non-null    float64\n",
      " 4   Close      100 non-null    float64\n",
      " 5   Adj Close  100 non-null    float64\n",
      " 6   Volume     100 non-null    int64  \n",
      "dtypes: float64(5), int64(1), object(1)\n",
      "memory usage: 5.6+ KB\n"
     ]
    }
   ],
   "source": [
    "mrf.info()"
   ]
  },
  {
   "cell_type": "code",
   "execution_count": 5,
   "id": "1c792dc2",
   "metadata": {},
   "outputs": [],
   "source": [
    "#We will use the closing price of each stock. So dropping all unnecessary columns.\n",
    "\n",
    "mrf =mrf[mrf.columns.difference(['Open', 'High', 'Low', 'Adj Close', 'Volume'])].reset_index()"
   ]
  },
  {
   "cell_type": "code",
   "execution_count": 6,
   "id": "b362ded5",
   "metadata": {},
   "outputs": [
    {
     "name": "stdout",
     "output_type": "stream",
     "text": [
      "<class 'pandas.core.frame.DataFrame'>\n",
      "RangeIndex: 100 entries, 0 to 99\n",
      "Data columns (total 3 columns):\n",
      " #   Column  Non-Null Count  Dtype  \n",
      "---  ------  --------------  -----  \n",
      " 0   index   100 non-null    int64  \n",
      " 1   Close   100 non-null    float64\n",
      " 2   Date    100 non-null    object \n",
      "dtypes: float64(1), int64(1), object(1)\n",
      "memory usage: 2.5+ KB\n"
     ]
    }
   ],
   "source": [
    "mrf.info()"
   ]
  },
  {
   "cell_type": "code",
   "execution_count": 7,
   "id": "cad248b3",
   "metadata": {},
   "outputs": [
    {
     "data": {
      "image/png": "[encoded data removed]",
      "text/plain": [
       "<Figure size 640x480 with 1 Axes>"
      ]
     },
     "metadata": {},
     "output_type": "display_data"
    }
   ],
   "source": [
    "#Plot close\n",
    "\n",
    "plt.plot(mrf['Close'])\n",
    "plt.show()"
   ]
  },
  {
   "cell_type": "markdown",
   "id": "05167f3f",
   "metadata": {},
   "source": [
    "# RESHAPE the data set!"
   ]
  },
  {
   "cell_type": "code",
   "execution_count": 8,
   "id": "89a1a682",
   "metadata": {
    "scrolled": true
   },
   "outputs": [
    {
     "name": "stdout",
     "output_type": "stream",
     "text": [
      "<class 'pandas.core.frame.DataFrame'>\n",
      "RangeIndex: 100 entries, 0 to 99\n",
      "Data columns (total 3 columns):\n",
      " #   Column  Non-Null Count  Dtype  \n",
      "---  ------  --------------  -----  \n",
      " 0   index   100 non-null    int64  \n",
      " 1   Close   100 non-null    float64\n",
      " 2   Date    100 non-null    object \n",
      "dtypes: float64(1), int64(1), object(1)\n",
      "memory usage: 2.5+ KB\n"
     ]
    }
   ],
   "source": [
    "mrf.info()"
   ]
  },
  {
   "cell_type": "code",
   "execution_count": 9,
   "id": "568646b8",
   "metadata": {},
   "outputs": [],
   "source": [
    "mrf = mrf.drop(['index'], axis=1)"
   ]
  },
  {
   "cell_type": "code",
   "execution_count": 10,
   "id": "4d681aac",
   "metadata": {},
   "outputs": [
    {
     "data": {
      "text/plain": [
       "(100, 2)"
      ]
     },
     "execution_count": 10,
     "metadata": {},
     "output_type": "execute_result"
    }
   ],
   "source": [
    "mrf.shape"
   ]
  },
  {
   "cell_type": "code",
   "execution_count": 11,
   "id": "b8776dad",
   "metadata": {},
   "outputs": [
    {
     "data": {
      "text/html": [
       "<div>\n",
       "<style scoped>\n",
       "    .dataframe tbody tr th:only-of-type {\n",
       "        vertical-align: middle;\n",
       "    }\n",
       "\n",
       "    .dataframe tbody tr th {\n",
       "        vertical-align: top;\n",
       "    }\n",
       "\n",
       "    .dataframe thead th {\n",
       "        text-align: right;\n",
       "    }\n",
       "</style>\n",
       "<table border=\"1\" class=\"dataframe\">\n",
       "  <thead>\n",
       "    <tr style=\"text-align: right;\">\n",
       "      <th></th>\n",
       "      <th>Close</th>\n",
       "    </tr>\n",
       "    <tr>\n",
       "      <th>Date</th>\n",
       "      <th></th>\n",
       "    </tr>\n",
       "  </thead>\n",
       "  <tbody>\n",
       "    <tr>\n",
       "      <th>4/25/2022</th>\n",
       "      <td>1</td>\n",
       "    </tr>\n",
       "    <tr>\n",
       "      <th>4/26/2022</th>\n",
       "      <td>1</td>\n",
       "    </tr>\n",
       "    <tr>\n",
       "      <th>4/27/2022</th>\n",
       "      <td>1</td>\n",
       "    </tr>\n",
       "    <tr>\n",
       "      <th>4/28/2022</th>\n",
       "      <td>1</td>\n",
       "    </tr>\n",
       "    <tr>\n",
       "      <th>4/29/2022</th>\n",
       "      <td>1</td>\n",
       "    </tr>\n",
       "    <tr>\n",
       "      <th>...</th>\n",
       "      <td>...</td>\n",
       "    </tr>\n",
       "    <tr>\n",
       "      <th>9/5/2022</th>\n",
       "      <td>1</td>\n",
       "    </tr>\n",
       "    <tr>\n",
       "      <th>9/6/2022</th>\n",
       "      <td>1</td>\n",
       "    </tr>\n",
       "    <tr>\n",
       "      <th>9/7/2022</th>\n",
       "      <td>1</td>\n",
       "    </tr>\n",
       "    <tr>\n",
       "      <th>9/8/2022</th>\n",
       "      <td>1</td>\n",
       "    </tr>\n",
       "    <tr>\n",
       "      <th>9/9/2022</th>\n",
       "      <td>1</td>\n",
       "    </tr>\n",
       "  </tbody>\n",
       "</table>\n",
       "<p>100 rows × 1 columns</p>\n",
       "</div>"
      ],
      "text/plain": [
       "           Close\n",
       "Date            \n",
       "4/25/2022      1\n",
       "4/26/2022      1\n",
       "4/27/2022      1\n",
       "4/28/2022      1\n",
       "4/29/2022      1\n",
       "...          ...\n",
       "9/5/2022       1\n",
       "9/6/2022       1\n",
       "9/7/2022       1\n",
       "9/8/2022       1\n",
       "9/9/2022       1\n",
       "\n",
       "[100 rows x 1 columns]"
      ]
     },
     "execution_count": 11,
     "metadata": {},
     "output_type": "execute_result"
    }
   ],
   "source": [
    "mrf.groupby(['Date']).count()"
   ]
  },
  {
   "cell_type": "code",
   "execution_count": 12,
   "id": "9cf85b06",
   "metadata": {},
   "outputs": [
    {
     "data": {
      "text/html": [
       "<div>\n",
       "<style scoped>\n",
       "    .dataframe tbody tr th:only-of-type {\n",
       "        vertical-align: middle;\n",
       "    }\n",
       "\n",
       "    .dataframe tbody tr th {\n",
       "        vertical-align: top;\n",
       "    }\n",
       "\n",
       "    .dataframe thead th {\n",
       "        text-align: right;\n",
       "    }\n",
       "</style>\n",
       "<table border=\"1\" class=\"dataframe\">\n",
       "  <thead>\n",
       "    <tr style=\"text-align: right;\">\n",
       "      <th></th>\n",
       "      <th>Close</th>\n",
       "      <th>Date</th>\n",
       "    </tr>\n",
       "  </thead>\n",
       "  <tbody>\n",
       "    <tr>\n",
       "      <th>0</th>\n",
       "      <td>69115.89844</td>\n",
       "      <td>4/25/2022</td>\n",
       "    </tr>\n",
       "    <tr>\n",
       "      <th>1</th>\n",
       "      <td>71331.50000</td>\n",
       "      <td>4/26/2022</td>\n",
       "    </tr>\n",
       "    <tr>\n",
       "      <th>2</th>\n",
       "      <td>72218.95313</td>\n",
       "      <td>4/27/2022</td>\n",
       "    </tr>\n",
       "    <tr>\n",
       "      <th>3</th>\n",
       "      <td>72330.70313</td>\n",
       "      <td>4/28/2022</td>\n",
       "    </tr>\n",
       "    <tr>\n",
       "      <th>4</th>\n",
       "      <td>72729.00000</td>\n",
       "      <td>4/29/2022</td>\n",
       "    </tr>\n",
       "  </tbody>\n",
       "</table>\n",
       "</div>"
      ],
      "text/plain": [
       "         Close       Date\n",
       "0  69115.89844  4/25/2022\n",
       "1  71331.50000  4/26/2022\n",
       "2  72218.95313  4/27/2022\n",
       "3  72330.70313  4/28/2022\n",
       "4  72729.00000  4/29/2022"
      ]
     },
     "execution_count": 12,
     "metadata": {},
     "output_type": "execute_result"
    }
   ],
   "source": [
    "mrf.head(5)"
   ]
  },
  {
   "cell_type": "code",
   "execution_count": 14,
   "id": "343c3511",
   "metadata": {},
   "outputs": [
    {
     "data": {
      "text/plain": [
       "<Axes: xlabel='Date', ylabel='Close'>"
      ]
     },
     "execution_count": 14,
     "metadata": {},
     "output_type": "execute_result"
    },
    {
     "data": {
      "image/png": "[encoded data removed]",
      "text/plain": [
       "<Figure size 640x480 with 1 Axes>"
      ]
     },
     "metadata": {},
     "output_type": "display_data"
    }
   ],
   "source": [
    "plt.figure\n",
    "sns.lineplot(x='Date', y='Close',data=mrf)"
   ]
  },
  {
   "cell_type": "code",
   "execution_count": 15,
   "id": "2c1fd870",
   "metadata": {},
   "outputs": [
    {
     "data": {
      "text/html": [
       "<div>\n",
       "<style scoped>\n",
       "    .dataframe tbody tr th:only-of-type {\n",
       "        vertical-align: middle;\n",
       "    }\n",
       "\n",
       "    .dataframe tbody tr th {\n",
       "        vertical-align: top;\n",
       "    }\n",
       "\n",
       "    .dataframe thead th {\n",
       "        text-align: right;\n",
       "    }\n",
       "</style>\n",
       "<table border=\"1\" class=\"dataframe\">\n",
       "  <thead>\n",
       "    <tr style=\"text-align: right;\">\n",
       "      <th></th>\n",
       "      <th>Close</th>\n",
       "      <th>Date</th>\n",
       "    </tr>\n",
       "  </thead>\n",
       "  <tbody>\n",
       "    <tr>\n",
       "      <th>0</th>\n",
       "      <td>69115.89844</td>\n",
       "      <td>4/25/2022</td>\n",
       "    </tr>\n",
       "    <tr>\n",
       "      <th>1</th>\n",
       "      <td>71331.50000</td>\n",
       "      <td>4/26/2022</td>\n",
       "    </tr>\n",
       "    <tr>\n",
       "      <th>2</th>\n",
       "      <td>72218.95313</td>\n",
       "      <td>4/27/2022</td>\n",
       "    </tr>\n",
       "    <tr>\n",
       "      <th>3</th>\n",
       "      <td>72330.70313</td>\n",
       "      <td>4/28/2022</td>\n",
       "    </tr>\n",
       "    <tr>\n",
       "      <th>4</th>\n",
       "      <td>72729.00000</td>\n",
       "      <td>4/29/2022</td>\n",
       "    </tr>\n",
       "    <tr>\n",
       "      <th>5</th>\n",
       "      <td>72597.50000</td>\n",
       "      <td>5/2/2022</td>\n",
       "    </tr>\n",
       "    <tr>\n",
       "      <th>6</th>\n",
       "      <td>71878.35156</td>\n",
       "      <td>5/4/2022</td>\n",
       "    </tr>\n",
       "    <tr>\n",
       "      <th>7</th>\n",
       "      <td>71182.14844</td>\n",
       "      <td>5/5/2022</td>\n",
       "    </tr>\n",
       "    <tr>\n",
       "      <th>8</th>\n",
       "      <td>69913.60156</td>\n",
       "      <td>5/6/2022</td>\n",
       "    </tr>\n",
       "    <tr>\n",
       "      <th>9</th>\n",
       "      <td>68578.00000</td>\n",
       "      <td>5/9/2022</td>\n",
       "    </tr>\n",
       "  </tbody>\n",
       "</table>\n",
       "</div>"
      ],
      "text/plain": [
       "         Close       Date\n",
       "0  69115.89844  4/25/2022\n",
       "1  71331.50000  4/26/2022\n",
       "2  72218.95313  4/27/2022\n",
       "3  72330.70313  4/28/2022\n",
       "4  72729.00000  4/29/2022\n",
       "5  72597.50000   5/2/2022\n",
       "6  71878.35156   5/4/2022\n",
       "7  71182.14844   5/5/2022\n",
       "8  69913.60156   5/6/2022\n",
       "9  68578.00000   5/9/2022"
      ]
     },
     "execution_count": 15,
     "metadata": {},
     "output_type": "execute_result"
    }
   ],
   "source": [
    "mrf.head(10)"
   ]
  },
  {
   "cell_type": "code",
   "execution_count": 16,
   "id": "0edd34f7",
   "metadata": {},
   "outputs": [
    {
     "data": {
      "text/plain": [
       "array([[69115.89844, 71331.5    , 72218.95313, 72330.70313, 72729.     ,\n",
       "        72597.5    , 71878.35156, 71182.14844, 69913.60156, 68578.     ],\n",
       "       [68810.04688, 68110.70313, 67622.04688, 72050.89844, 72528.39844,\n",
       "        74006.75   , 74687.64844, 73434.75   , 74104.95313, 73386.20313],\n",
       "       [74395.5    , 74824.25   , 75060.95313, 74654.85156, 75388.04688,\n",
       "        77649.45313, 76331.5    , 75872.79688, 76460.35156, 74712.29688],\n",
       "       [71659.     , 70653.54688, 70425.75   , 69952.25   , 68558.54688,\n",
       "        68202.25   , 68441.70313, 67176.60156, 68124.54688, 66651.54688],\n",
       "       [68091.54688, 68040.60156, 69006.20313, 70553.     , 71221.75   ,\n",
       "        72268.64844, 71523.75   , 70800.89844, 72194.29688, 71776.45313],\n",
       "       [71221.14844, 73230.20313, 75337.89844, 76044.95313, 76375.85156,\n",
       "        76664.64844, 77273.75   , 77414.89844, 79558.10156, 80742.5    ],\n",
       "       [79941.79688, 79784.60156, 80178.39844, 79400.60156, 80834.04688,\n",
       "        80150.20313, 80864.95313, 83046.5    , 83818.14844, 86950.35156],\n",
       "       [88173.14844, 88738.95313, 88711.79688, 88895.45313, 87717.5    ,\n",
       "        83466.60156, 82500.70313, 83130.85156, 86971.45313, 86853.60156],\n",
       "       [87591.54688, 86825.89844, 84828.25   , 85895.45313, 85264.5    ,\n",
       "        85445.     , 85272.25   , 84418.64844, 85364.95313, 85142.75   ],\n",
       "       [84356.89844, 84254.04688, 85257.70313, 85133.29688, 85396.39844,\n",
       "        84208.04688, 85808.29688, 85551.25   , 86071.70313, 92868.45313]])"
      ]
     },
     "execution_count": 16,
     "metadata": {},
     "output_type": "execute_result"
    }
   ],
   "source": [
    "# Re-organize the data set by day and hours\n",
    "\n",
    "temp = np.array(mrf['Close']).reshape(10,10)\n",
    "temp"
   ]
  },
  {
   "cell_type": "code",
   "execution_count": 98,
   "id": "c5aa0c02",
   "metadata": {},
   "outputs": [
    {
     "data": {
      "text/plain": [
       "(100, 2)"
      ]
     },
     "execution_count": 98,
     "metadata": {},
     "output_type": "execute_result"
    }
   ],
   "source": [
    "mrf.shape"
   ]
  },
  {
   "cell_type": "code",
   "execution_count": 17,
   "id": "815441ff",
   "metadata": {},
   "outputs": [
    {
     "data": {
      "text/html": [
       "<div>\n",
       "<style scoped>\n",
       "    .dataframe tbody tr th:only-of-type {\n",
       "        vertical-align: middle;\n",
       "    }\n",
       "\n",
       "    .dataframe tbody tr th {\n",
       "        vertical-align: top;\n",
       "    }\n",
       "\n",
       "    .dataframe thead th {\n",
       "        text-align: right;\n",
       "    }\n",
       "</style>\n",
       "<table border=\"1\" class=\"dataframe\">\n",
       "  <thead>\n",
       "    <tr style=\"text-align: right;\">\n",
       "      <th></th>\n",
       "      <th>0</th>\n",
       "      <th>1</th>\n",
       "      <th>2</th>\n",
       "      <th>3</th>\n",
       "      <th>4</th>\n",
       "      <th>5</th>\n",
       "      <th>6</th>\n",
       "      <th>7</th>\n",
       "      <th>8</th>\n",
       "      <th>9</th>\n",
       "    </tr>\n",
       "  </thead>\n",
       "  <tbody>\n",
       "    <tr>\n",
       "      <th>0</th>\n",
       "      <td>69115.89844</td>\n",
       "      <td>71331.50000</td>\n",
       "      <td>72218.95313</td>\n",
       "      <td>72330.70313</td>\n",
       "      <td>72729.00000</td>\n",
       "      <td>72597.50000</td>\n",
       "      <td>71878.35156</td>\n",
       "      <td>71182.14844</td>\n",
       "      <td>69913.60156</td>\n",
       "      <td>68578.00000</td>\n",
       "    </tr>\n",
       "    <tr>\n",
       "      <th>1</th>\n",
       "      <td>68810.04688</td>\n",
       "      <td>68110.70313</td>\n",
       "      <td>67622.04688</td>\n",
       "      <td>72050.89844</td>\n",
       "      <td>72528.39844</td>\n",
       "      <td>74006.75000</td>\n",
       "      <td>74687.64844</td>\n",
       "      <td>73434.75000</td>\n",
       "      <td>74104.95313</td>\n",
       "      <td>73386.20313</td>\n",
       "    </tr>\n",
       "    <tr>\n",
       "      <th>2</th>\n",
       "      <td>74395.50000</td>\n",
       "      <td>74824.25000</td>\n",
       "      <td>75060.95313</td>\n",
       "      <td>74654.85156</td>\n",
       "      <td>75388.04688</td>\n",
       "      <td>77649.45313</td>\n",
       "      <td>76331.50000</td>\n",
       "      <td>75872.79688</td>\n",
       "      <td>76460.35156</td>\n",
       "      <td>74712.29688</td>\n",
       "    </tr>\n",
       "    <tr>\n",
       "      <th>3</th>\n",
       "      <td>71659.00000</td>\n",
       "      <td>70653.54688</td>\n",
       "      <td>70425.75000</td>\n",
       "      <td>69952.25000</td>\n",
       "      <td>68558.54688</td>\n",
       "      <td>68202.25000</td>\n",
       "      <td>68441.70313</td>\n",
       "      <td>67176.60156</td>\n",
       "      <td>68124.54688</td>\n",
       "      <td>66651.54688</td>\n",
       "    </tr>\n",
       "    <tr>\n",
       "      <th>4</th>\n",
       "      <td>68091.54688</td>\n",
       "      <td>68040.60156</td>\n",
       "      <td>69006.20313</td>\n",
       "      <td>70553.00000</td>\n",
       "      <td>71221.75000</td>\n",
       "      <td>72268.64844</td>\n",
       "      <td>71523.75000</td>\n",
       "      <td>70800.89844</td>\n",
       "      <td>72194.29688</td>\n",
       "      <td>71776.45313</td>\n",
       "    </tr>\n",
       "    <tr>\n",
       "      <th>5</th>\n",
       "      <td>71221.14844</td>\n",
       "      <td>73230.20313</td>\n",
       "      <td>75337.89844</td>\n",
       "      <td>76044.95313</td>\n",
       "      <td>76375.85156</td>\n",
       "      <td>76664.64844</td>\n",
       "      <td>77273.75000</td>\n",
       "      <td>77414.89844</td>\n",
       "      <td>79558.10156</td>\n",
       "      <td>80742.50000</td>\n",
       "    </tr>\n",
       "    <tr>\n",
       "      <th>6</th>\n",
       "      <td>79941.79688</td>\n",
       "      <td>79784.60156</td>\n",
       "      <td>80178.39844</td>\n",
       "      <td>79400.60156</td>\n",
       "      <td>80834.04688</td>\n",
       "      <td>80150.20313</td>\n",
       "      <td>80864.95313</td>\n",
       "      <td>83046.50000</td>\n",
       "      <td>83818.14844</td>\n",
       "      <td>86950.35156</td>\n",
       "    </tr>\n",
       "    <tr>\n",
       "      <th>7</th>\n",
       "      <td>88173.14844</td>\n",
       "      <td>88738.95313</td>\n",
       "      <td>88711.79688</td>\n",
       "      <td>88895.45313</td>\n",
       "      <td>87717.50000</td>\n",
       "      <td>83466.60156</td>\n",
       "      <td>82500.70313</td>\n",
       "      <td>83130.85156</td>\n",
       "      <td>86971.45313</td>\n",
       "      <td>86853.60156</td>\n",
       "    </tr>\n",
       "    <tr>\n",
       "      <th>8</th>\n",
       "      <td>87591.54688</td>\n",
       "      <td>86825.89844</td>\n",
       "      <td>84828.25000</td>\n",
       "      <td>85895.45313</td>\n",
       "      <td>85264.50000</td>\n",
       "      <td>85445.00000</td>\n",
       "      <td>85272.25000</td>\n",
       "      <td>84418.64844</td>\n",
       "      <td>85364.95313</td>\n",
       "      <td>85142.75000</td>\n",
       "    </tr>\n",
       "    <tr>\n",
       "      <th>9</th>\n",
       "      <td>84356.89844</td>\n",
       "      <td>84254.04688</td>\n",
       "      <td>85257.70313</td>\n",
       "      <td>85133.29688</td>\n",
       "      <td>85396.39844</td>\n",
       "      <td>84208.04688</td>\n",
       "      <td>85808.29688</td>\n",
       "      <td>85551.25000</td>\n",
       "      <td>86071.70313</td>\n",
       "      <td>92868.45313</td>\n",
       "    </tr>\n",
       "  </tbody>\n",
       "</table>\n",
       "</div>"
      ],
      "text/plain": [
       "             0            1            2            3            4   \n",
       "0  69115.89844  71331.50000  72218.95313  72330.70313  72729.00000  \\\n",
       "1  68810.04688  68110.70313  67622.04688  72050.89844  72528.39844   \n",
       "2  74395.50000  74824.25000  75060.95313  74654.85156  75388.04688   \n",
       "3  71659.00000  70653.54688  70425.75000  69952.25000  68558.54688   \n",
       "4  68091.54688  68040.60156  69006.20313  70553.00000  71221.75000   \n",
       "5  71221.14844  73230.20313  75337.89844  76044.95313  76375.85156   \n",
       "6  79941.79688  79784.60156  80178.39844  79400.60156  80834.04688   \n",
       "7  88173.14844  88738.95313  88711.79688  88895.45313  87717.50000   \n",
       "8  87591.54688  86825.89844  84828.25000  85895.45313  85264.50000   \n",
       "9  84356.89844  84254.04688  85257.70313  85133.29688  85396.39844   \n",
       "\n",
       "             5            6            7            8            9  \n",
       "0  72597.50000  71878.35156  71182.14844  69913.60156  68578.00000  \n",
       "1  74006.75000  74687.64844  73434.75000  74104.95313  73386.20313  \n",
       "2  77649.45313  76331.50000  75872.79688  76460.35156  74712.29688  \n",
       "3  68202.25000  68441.70313  67176.60156  68124.54688  66651.54688  \n",
       "4  72268.64844  71523.75000  70800.89844  72194.29688  71776.45313  \n",
       "5  76664.64844  77273.75000  77414.89844  79558.10156  80742.50000  \n",
       "6  80150.20313  80864.95313  83046.50000  83818.14844  86950.35156  \n",
       "7  83466.60156  82500.70313  83130.85156  86971.45313  86853.60156  \n",
       "8  85445.00000  85272.25000  84418.64844  85364.95313  85142.75000  \n",
       "9  84208.04688  85808.29688  85551.25000  86071.70313  92868.45313  "
      ]
     },
     "execution_count": 17,
     "metadata": {},
     "output_type": "execute_result"
    }
   ],
   "source": [
    "# Convert to dataframe\n",
    "\n",
    "mrf_temp = pd.DataFrame(temp, columns=np.arange(0,10,1))\n",
    "mrf_temp"
   ]
  },
  {
   "cell_type": "markdown",
   "id": "de399b2a",
   "metadata": {},
   "source": [
    "### Reshaping for Standardization"
   ]
  },
  {
   "cell_type": "code",
   "execution_count": 18,
   "id": "e97b58af",
   "metadata": {},
   "outputs": [
    {
     "data": {
      "text/plain": [
       "(100, 1)"
      ]
     },
     "execution_count": 18,
     "metadata": {},
     "output_type": "execute_result"
    }
   ],
   "source": [
    "# Let's create a single sequence (i.e., feature) for standardization\n",
    "\n",
    "temp_1feature = np.array(mrf_temp).ravel().reshape(-1,1)\n",
    "temp_1feature.shape"
   ]
  },
  {
   "cell_type": "code",
   "execution_count": 19,
   "id": "f17d2bef",
   "metadata": {},
   "outputs": [
    {
     "data": {
      "text/plain": [
       "array([[69115.89844],\n",
       "       [71331.5    ],\n",
       "       [72218.95313],\n",
       "       [72330.70313],\n",
       "       [72729.     ],\n",
       "       [72597.5    ],\n",
       "       [71878.35156],\n",
       "       [71182.14844],\n",
       "       [69913.60156],\n",
       "       [68578.     ],\n",
       "       [68810.04688],\n",
       "       [68110.70313],\n",
       "       [67622.04688],\n",
       "       [72050.89844],\n",
       "       [72528.39844],\n",
       "       [74006.75   ],\n",
       "       [74687.64844],\n",
       "       [73434.75   ],\n",
       "       [74104.95313],\n",
       "       [73386.20313],\n",
       "       [74395.5    ],\n",
       "       [74824.25   ],\n",
       "       [75060.95313],\n",
       "       [74654.85156],\n",
       "       [75388.04688],\n",
       "       [77649.45313],\n",
       "       [76331.5    ],\n",
       "       [75872.79688],\n",
       "       [76460.35156],\n",
       "       [74712.29688],\n",
       "       [71659.     ],\n",
       "       [70653.54688],\n",
       "       [70425.75   ],\n",
       "       [69952.25   ],\n",
       "       [68558.54688],\n",
       "       [68202.25   ],\n",
       "       [68441.70313],\n",
       "       [67176.60156],\n",
       "       [68124.54688],\n",
       "       [66651.54688],\n",
       "       [68091.54688],\n",
       "       [68040.60156],\n",
       "       [69006.20313],\n",
       "       [70553.     ],\n",
       "       [71221.75   ],\n",
       "       [72268.64844],\n",
       "       [71523.75   ],\n",
       "       [70800.89844],\n",
       "       [72194.29688],\n",
       "       [71776.45313],\n",
       "       [71221.14844],\n",
       "       [73230.20313],\n",
       "       [75337.89844],\n",
       "       [76044.95313],\n",
       "       [76375.85156],\n",
       "       [76664.64844],\n",
       "       [77273.75   ],\n",
       "       [77414.89844],\n",
       "       [79558.10156],\n",
       "       [80742.5    ],\n",
       "       [79941.79688],\n",
       "       [79784.60156],\n",
       "       [80178.39844],\n",
       "       [79400.60156],\n",
       "       [80834.04688],\n",
       "       [80150.20313],\n",
       "       [80864.95313],\n",
       "       [83046.5    ],\n",
       "       [83818.14844],\n",
       "       [86950.35156],\n",
       "       [88173.14844],\n",
       "       [88738.95313],\n",
       "       [88711.79688],\n",
       "       [88895.45313],\n",
       "       [87717.5    ],\n",
       "       [83466.60156],\n",
       "       [82500.70313],\n",
       "       [83130.85156],\n",
       "       [86971.45313],\n",
       "       [86853.60156],\n",
       "       [87591.54688],\n",
       "       [86825.89844],\n",
       "       [84828.25   ],\n",
       "       [85895.45313],\n",
       "       [85264.5    ],\n",
       "       [85445.     ],\n",
       "       [85272.25   ],\n",
       "       [84418.64844],\n",
       "       [85364.95313],\n",
       "       [85142.75   ],\n",
       "       [84356.89844],\n",
       "       [84254.04688],\n",
       "       [85257.70313],\n",
       "       [85133.29688],\n",
       "       [85396.39844],\n",
       "       [84208.04688],\n",
       "       [85808.29688],\n",
       "       [85551.25   ],\n",
       "       [86071.70313],\n",
       "       [92868.45313]])"
      ]
     },
     "execution_count": 19,
     "metadata": {},
     "output_type": "execute_result"
    }
   ],
   "source": [
    "temp_1feature"
   ]
  },
  {
   "cell_type": "markdown",
   "id": "5c37bfc1",
   "metadata": {},
   "source": [
    "## Standardize the values"
   ]
  },
  {
   "cell_type": "code",
   "execution_count": 20,
   "id": "a4cdff85",
   "metadata": {},
   "outputs": [],
   "source": [
    "# Next, standardize\n",
    "\n",
    "from sklearn.preprocessing import StandardScaler\n",
    "\n",
    "scaler = StandardScaler()\n",
    "\n",
    "temp_std = scaler.fit_transform(temp_1feature)"
   ]
  },
  {
   "cell_type": "code",
   "execution_count": 21,
   "id": "d1e9cda1",
   "metadata": {},
   "outputs": [
    {
     "data": {
      "text/plain": [
       "(10, 10)"
      ]
     },
     "execution_count": 21,
     "metadata": {},
     "output_type": "execute_result"
    }
   ],
   "source": [
    "temp_reshaped = temp_std.reshape(10,10)\n",
    "temp_reshaped.shape"
   ]
  },
  {
   "cell_type": "code",
   "execution_count": 22,
   "id": "c497c536",
   "metadata": {},
   "outputs": [
    {
     "data": {
      "text/html": [
       "<div>\n",
       "<style scoped>\n",
       "    .dataframe tbody tr th:only-of-type {\n",
       "        vertical-align: middle;\n",
       "    }\n",
       "\n",
       "    .dataframe tbody tr th {\n",
       "        vertical-align: top;\n",
       "    }\n",
       "\n",
       "    .dataframe thead th {\n",
       "        text-align: right;\n",
       "    }\n",
       "</style>\n",
       "<table border=\"1\" class=\"dataframe\">\n",
       "  <thead>\n",
       "    <tr style=\"text-align: right;\">\n",
       "      <th></th>\n",
       "      <th>0</th>\n",
       "      <th>1</th>\n",
       "      <th>2</th>\n",
       "      <th>3</th>\n",
       "      <th>4</th>\n",
       "      <th>5</th>\n",
       "      <th>6</th>\n",
       "      <th>7</th>\n",
       "      <th>8</th>\n",
       "      <th>9</th>\n",
       "    </tr>\n",
       "  </thead>\n",
       "  <tbody>\n",
       "    <tr>\n",
       "      <th>0</th>\n",
       "      <td>-1.209875</td>\n",
       "      <td>-0.886385</td>\n",
       "      <td>-0.756812</td>\n",
       "      <td>-0.740496</td>\n",
       "      <td>-0.682342</td>\n",
       "      <td>-0.701542</td>\n",
       "      <td>-0.806542</td>\n",
       "      <td>-0.908191</td>\n",
       "      <td>-1.093406</td>\n",
       "      <td>-1.288411</td>\n",
       "    </tr>\n",
       "    <tr>\n",
       "      <th>1</th>\n",
       "      <td>-1.254531</td>\n",
       "      <td>-1.356639</td>\n",
       "      <td>-1.427986</td>\n",
       "      <td>-0.781349</td>\n",
       "      <td>-0.711631</td>\n",
       "      <td>-0.495784</td>\n",
       "      <td>-0.396369</td>\n",
       "      <td>-0.579299</td>\n",
       "      <td>-0.481445</td>\n",
       "      <td>-0.586387</td>\n",
       "    </tr>\n",
       "    <tr>\n",
       "      <th>2</th>\n",
       "      <td>-0.439024</td>\n",
       "      <td>-0.376424</td>\n",
       "      <td>-0.341864</td>\n",
       "      <td>-0.401157</td>\n",
       "      <td>-0.294107</td>\n",
       "      <td>0.036071</td>\n",
       "      <td>-0.156357</td>\n",
       "      <td>-0.223330</td>\n",
       "      <td>-0.137544</td>\n",
       "      <td>-0.392770</td>\n",
       "    </tr>\n",
       "    <tr>\n",
       "      <th>3</th>\n",
       "      <td>-0.838568</td>\n",
       "      <td>-0.985370</td>\n",
       "      <td>-1.018629</td>\n",
       "      <td>-1.087763</td>\n",
       "      <td>-1.291251</td>\n",
       "      <td>-1.343273</td>\n",
       "      <td>-1.308311</td>\n",
       "      <td>-1.493023</td>\n",
       "      <td>-1.354618</td>\n",
       "      <td>-1.569684</td>\n",
       "    </tr>\n",
       "    <tr>\n",
       "      <th>4</th>\n",
       "      <td>-1.359436</td>\n",
       "      <td>-1.366874</td>\n",
       "      <td>-1.225891</td>\n",
       "      <td>-1.000050</td>\n",
       "      <td>-0.902409</td>\n",
       "      <td>-0.749556</td>\n",
       "      <td>-0.858315</td>\n",
       "      <td>-0.963856</td>\n",
       "      <td>-0.760412</td>\n",
       "      <td>-0.821419</td>\n",
       "    </tr>\n",
       "    <tr>\n",
       "      <th>5</th>\n",
       "      <td>-0.902497</td>\n",
       "      <td>-0.609164</td>\n",
       "      <td>-0.301429</td>\n",
       "      <td>-0.198195</td>\n",
       "      <td>-0.149882</td>\n",
       "      <td>-0.107716</td>\n",
       "      <td>-0.018783</td>\n",
       "      <td>0.001825</td>\n",
       "      <td>0.314745</td>\n",
       "      <td>0.487673</td>\n",
       "    </tr>\n",
       "    <tr>\n",
       "      <th>6</th>\n",
       "      <td>0.370766</td>\n",
       "      <td>0.347815</td>\n",
       "      <td>0.405311</td>\n",
       "      <td>0.291749</td>\n",
       "      <td>0.501040</td>\n",
       "      <td>0.401195</td>\n",
       "      <td>0.505552</td>\n",
       "      <td>0.824070</td>\n",
       "      <td>0.936735</td>\n",
       "      <td>1.394054</td>\n",
       "    </tr>\n",
       "    <tr>\n",
       "      <th>7</th>\n",
       "      <td>1.572589</td>\n",
       "      <td>1.655200</td>\n",
       "      <td>1.651235</td>\n",
       "      <td>1.678050</td>\n",
       "      <td>1.506062</td>\n",
       "      <td>0.885407</td>\n",
       "      <td>0.744381</td>\n",
       "      <td>0.836386</td>\n",
       "      <td>1.397135</td>\n",
       "      <td>1.379928</td>\n",
       "    </tr>\n",
       "    <tr>\n",
       "      <th>8</th>\n",
       "      <td>1.487672</td>\n",
       "      <td>1.375883</td>\n",
       "      <td>1.084215</td>\n",
       "      <td>1.240033</td>\n",
       "      <td>1.147910</td>\n",
       "      <td>1.174264</td>\n",
       "      <td>1.149042</td>\n",
       "      <td>1.024411</td>\n",
       "      <td>1.162577</td>\n",
       "      <td>1.130134</td>\n",
       "    </tr>\n",
       "    <tr>\n",
       "      <th>9</th>\n",
       "      <td>1.015395</td>\n",
       "      <td>1.000379</td>\n",
       "      <td>1.146918</td>\n",
       "      <td>1.128754</td>\n",
       "      <td>1.167168</td>\n",
       "      <td>0.993662</td>\n",
       "      <td>1.227308</td>\n",
       "      <td>1.189777</td>\n",
       "      <td>1.265766</td>\n",
       "      <td>2.258130</td>\n",
       "    </tr>\n",
       "  </tbody>\n",
       "</table>\n",
       "</div>"
      ],
      "text/plain": [
       "          0         1         2         3         4         5         6   \n",
       "0 -1.209875 -0.886385 -0.756812 -0.740496 -0.682342 -0.701542 -0.806542  \\\n",
       "1 -1.254531 -1.356639 -1.427986 -0.781349 -0.711631 -0.495784 -0.396369   \n",
       "2 -0.439024 -0.376424 -0.341864 -0.401157 -0.294107  0.036071 -0.156357   \n",
       "3 -0.838568 -0.985370 -1.018629 -1.087763 -1.291251 -1.343273 -1.308311   \n",
       "4 -1.359436 -1.366874 -1.225891 -1.000050 -0.902409 -0.749556 -0.858315   \n",
       "5 -0.902497 -0.609164 -0.301429 -0.198195 -0.149882 -0.107716 -0.018783   \n",
       "6  0.370766  0.347815  0.405311  0.291749  0.501040  0.401195  0.505552   \n",
       "7  1.572589  1.655200  1.651235  1.678050  1.506062  0.885407  0.744381   \n",
       "8  1.487672  1.375883  1.084215  1.240033  1.147910  1.174264  1.149042   \n",
       "9  1.015395  1.000379  1.146918  1.128754  1.167168  0.993662  1.227308   \n",
       "\n",
       "          7         8         9  \n",
       "0 -0.908191 -1.093406 -1.288411  \n",
       "1 -0.579299 -0.481445 -0.586387  \n",
       "2 -0.223330 -0.137544 -0.392770  \n",
       "3 -1.493023 -1.354618 -1.569684  \n",
       "4 -0.963856 -0.760412 -0.821419  \n",
       "5  0.001825  0.314745  0.487673  \n",
       "6  0.824070  0.936735  1.394054  \n",
       "7  0.836386  1.397135  1.379928  \n",
       "8  1.024411  1.162577  1.130134  \n",
       "9  1.189777  1.265766  2.258130  "
      ]
     },
     "execution_count": 22,
     "metadata": {},
     "output_type": "execute_result"
    }
   ],
   "source": [
    "#Pandas version of the reshaped data\n",
    "\n",
    "pd.DataFrame(temp_reshaped)"
   ]
  },
  {
   "cell_type": "markdown",
   "id": "1c1d9f1e",
   "metadata": {},
   "source": [
    "### Data Split"
   ]
  },
  {
   "cell_type": "code",
   "execution_count": 23,
   "id": "ce8c1567",
   "metadata": {},
   "outputs": [],
   "source": [
    "from sklearn.model_selection import train_test_split\n",
    "\n",
    "train, test = train_test_split(temp_reshaped, test_size=0.3)"
   ]
  },
  {
   "cell_type": "code",
   "execution_count": 24,
   "id": "8a81a939",
   "metadata": {},
   "outputs": [
    {
     "data": {
      "text/plain": [
       "(7, 10)"
      ]
     },
     "execution_count": 24,
     "metadata": {},
     "output_type": "execute_result"
    }
   ],
   "source": [
    "train.shape"
   ]
  },
  {
   "cell_type": "code",
   "execution_count": 25,
   "id": "311cfefe",
   "metadata": {},
   "outputs": [
    {
     "data": {
      "text/plain": [
       "(3, 10)"
      ]
     },
     "execution_count": 25,
     "metadata": {},
     "output_type": "execute_result"
    }
   ],
   "source": [
    "test.shape"
   ]
  },
  {
   "cell_type": "markdown",
   "id": "86b34a39",
   "metadata": {},
   "source": [
    "## Create Input and Target values"
   ]
  },
  {
   "cell_type": "code",
   "execution_count": 26,
   "id": "ece0727e",
   "metadata": {},
   "outputs": [
    {
     "data": {
      "text/html": [
       "<div>\n",
       "<style scoped>\n",
       "    .dataframe tbody tr th:only-of-type {\n",
       "        vertical-align: middle;\n",
       "    }\n",
       "\n",
       "    .dataframe tbody tr th {\n",
       "        vertical-align: top;\n",
       "    }\n",
       "\n",
       "    .dataframe thead th {\n",
       "        text-align: right;\n",
       "    }\n",
       "</style>\n",
       "<table border=\"1\" class=\"dataframe\">\n",
       "  <thead>\n",
       "    <tr style=\"text-align: right;\">\n",
       "      <th></th>\n",
       "      <th>0</th>\n",
       "      <th>1</th>\n",
       "      <th>2</th>\n",
       "      <th>3</th>\n",
       "      <th>4</th>\n",
       "      <th>5</th>\n",
       "      <th>6</th>\n",
       "      <th>7</th>\n",
       "      <th>8</th>\n",
       "    </tr>\n",
       "  </thead>\n",
       "  <tbody>\n",
       "    <tr>\n",
       "      <th>0</th>\n",
       "      <td>-1.209875</td>\n",
       "      <td>-0.886385</td>\n",
       "      <td>-0.756812</td>\n",
       "      <td>-0.740496</td>\n",
       "      <td>-0.682342</td>\n",
       "      <td>-0.701542</td>\n",
       "      <td>-0.806542</td>\n",
       "      <td>-0.908191</td>\n",
       "      <td>-1.093406</td>\n",
       "    </tr>\n",
       "    <tr>\n",
       "      <th>1</th>\n",
       "      <td>1.572589</td>\n",
       "      <td>1.655200</td>\n",
       "      <td>1.651235</td>\n",
       "      <td>1.678050</td>\n",
       "      <td>1.506062</td>\n",
       "      <td>0.885407</td>\n",
       "      <td>0.744381</td>\n",
       "      <td>0.836386</td>\n",
       "      <td>1.397135</td>\n",
       "    </tr>\n",
       "    <tr>\n",
       "      <th>2</th>\n",
       "      <td>-0.439024</td>\n",
       "      <td>-0.376424</td>\n",
       "      <td>-0.341864</td>\n",
       "      <td>-0.401157</td>\n",
       "      <td>-0.294107</td>\n",
       "      <td>0.036071</td>\n",
       "      <td>-0.156357</td>\n",
       "      <td>-0.223330</td>\n",
       "      <td>-0.137544</td>\n",
       "    </tr>\n",
       "    <tr>\n",
       "      <th>3</th>\n",
       "      <td>1.015395</td>\n",
       "      <td>1.000379</td>\n",
       "      <td>1.146918</td>\n",
       "      <td>1.128754</td>\n",
       "      <td>1.167168</td>\n",
       "      <td>0.993662</td>\n",
       "      <td>1.227308</td>\n",
       "      <td>1.189777</td>\n",
       "      <td>1.265766</td>\n",
       "    </tr>\n",
       "    <tr>\n",
       "      <th>4</th>\n",
       "      <td>-1.359436</td>\n",
       "      <td>-1.366874</td>\n",
       "      <td>-1.225891</td>\n",
       "      <td>-1.000050</td>\n",
       "      <td>-0.902409</td>\n",
       "      <td>-0.749556</td>\n",
       "      <td>-0.858315</td>\n",
       "      <td>-0.963856</td>\n",
       "      <td>-0.760412</td>\n",
       "    </tr>\n",
       "    <tr>\n",
       "      <th>5</th>\n",
       "      <td>-0.838568</td>\n",
       "      <td>-0.985370</td>\n",
       "      <td>-1.018629</td>\n",
       "      <td>-1.087763</td>\n",
       "      <td>-1.291251</td>\n",
       "      <td>-1.343273</td>\n",
       "      <td>-1.308311</td>\n",
       "      <td>-1.493023</td>\n",
       "      <td>-1.354618</td>\n",
       "    </tr>\n",
       "    <tr>\n",
       "      <th>6</th>\n",
       "      <td>0.370766</td>\n",
       "      <td>0.347815</td>\n",
       "      <td>0.405311</td>\n",
       "      <td>0.291749</td>\n",
       "      <td>0.501040</td>\n",
       "      <td>0.401195</td>\n",
       "      <td>0.505552</td>\n",
       "      <td>0.824070</td>\n",
       "      <td>0.936735</td>\n",
       "    </tr>\n",
       "  </tbody>\n",
       "</table>\n",
       "</div>"
      ],
      "text/plain": [
       "          0         1         2         3         4         5         6   \n",
       "0 -1.209875 -0.886385 -0.756812 -0.740496 -0.682342 -0.701542 -0.806542  \\\n",
       "1  1.572589  1.655200  1.651235  1.678050  1.506062  0.885407  0.744381   \n",
       "2 -0.439024 -0.376424 -0.341864 -0.401157 -0.294107  0.036071 -0.156357   \n",
       "3  1.015395  1.000379  1.146918  1.128754  1.167168  0.993662  1.227308   \n",
       "4 -1.359436 -1.366874 -1.225891 -1.000050 -0.902409 -0.749556 -0.858315   \n",
       "5 -0.838568 -0.985370 -1.018629 -1.087763 -1.291251 -1.343273 -1.308311   \n",
       "6  0.370766  0.347815  0.405311  0.291749  0.501040  0.401195  0.505552   \n",
       "\n",
       "          7         8  \n",
       "0 -0.908191 -1.093406  \n",
       "1  0.836386  1.397135  \n",
       "2 -0.223330 -0.137544  \n",
       "3  1.189777  1.265766  \n",
       "4 -0.963856 -0.760412  \n",
       "5 -1.493023 -1.354618  \n",
       "6  0.824070  0.936735  "
      ]
     },
     "execution_count": 26,
     "metadata": {},
     "output_type": "execute_result"
    }
   ],
   "source": [
    "train_inputs = train[:,:9]\n",
    "\n",
    "\n",
    "pd.DataFrame(train_inputs)"
   ]
  },
  {
   "cell_type": "markdown",
   "id": "c17cb2e9",
   "metadata": {},
   "source": [
    "#### Adding one more dimension  to make it ready for RNNs"
   ]
  },
  {
   "cell_type": "code",
   "execution_count": 27,
   "id": "e900067e",
   "metadata": {},
   "outputs": [
    {
     "data": {
      "text/plain": [
       "array([[-1.209875  , -0.8863849 , -0.75681183, -0.74049571, -0.68234216,\n",
       "        -0.70154189, -0.80654154, -0.90819106, -1.09340593],\n",
       "       [ 1.57258909,  1.65519971,  1.65123474,  1.67804957,  1.50606189,\n",
       "         0.88540716,  0.74438064,  0.8363858 ,  1.39713491],\n",
       "       [-0.43902392, -0.37642405, -0.34186408, -0.40115716, -0.29410658,\n",
       "         0.03607126, -0.1563572 , -0.22333039, -0.13754416],\n",
       "       [ 1.01539544,  1.00037854,  1.14691792,  1.12875392,  1.1671682 ,\n",
       "         0.99366229,  1.22730766,  1.18977739,  1.26576643],\n",
       "       [-1.35943601, -1.36687431, -1.22589113, -1.00005021, -0.90240901,\n",
       "        -0.74955604, -0.85831534, -0.96385567, -0.76041178],\n",
       "       [-0.83856809, -0.98536981, -1.01862942, -1.08776304, -1.29125142,\n",
       "        -1.34327274, -1.30831126, -1.49302309, -1.35461783],\n",
       "       [ 0.37076615,  0.34781476,  0.40531129,  0.29174864,  0.50103959,\n",
       "         0.40119462,  0.50555208,  0.82407001,  0.93673496]])"
      ]
     },
     "execution_count": 27,
     "metadata": {},
     "output_type": "execute_result"
    }
   ],
   "source": [
    "train_inputs"
   ]
  },
  {
   "cell_type": "code",
   "execution_count": 28,
   "id": "9aa6e976",
   "metadata": {},
   "outputs": [
    {
     "data": {
      "text/plain": [
       "(7, 9)"
      ]
     },
     "execution_count": 28,
     "metadata": {},
     "output_type": "execute_result"
    }
   ],
   "source": [
    "train_inputs.shape "
   ]
  },
  {
   "cell_type": "code",
   "execution_count": 29,
   "id": "99bf963d",
   "metadata": {},
   "outputs": [
    {
     "data": {
      "text/plain": [
       "(7, 9, 1)"
      ]
     },
     "execution_count": 29,
     "metadata": {},
     "output_type": "execute_result"
    }
   ],
   "source": [
    "#Create an additional dimension for train\n",
    "\n",
    "train_x = train_inputs[:,:,np.newaxis]\n",
    "\n",
    "train_x.shape "
   ]
  },
  {
   "cell_type": "code",
   "execution_count": 30,
   "id": "0945107e",
   "metadata": {},
   "outputs": [
    {
     "data": {
      "text/plain": [
       "array([[[-1.209875  ],\n",
       "        [-0.8863849 ],\n",
       "        [-0.75681183],\n",
       "        [-0.74049571],\n",
       "        [-0.68234216],\n",
       "        [-0.70154189],\n",
       "        [-0.80654154],\n",
       "        [-0.90819106],\n",
       "        [-1.09340593]],\n",
       "\n",
       "       [[ 1.57258909],\n",
       "        [ 1.65519971],\n",
       "        [ 1.65123474],\n",
       "        [ 1.67804957],\n",
       "        [ 1.50606189],\n",
       "        [ 0.88540716],\n",
       "        [ 0.74438064],\n",
       "        [ 0.8363858 ],\n",
       "        [ 1.39713491]],\n",
       "\n",
       "       [[-0.43902392],\n",
       "        [-0.37642405],\n",
       "        [-0.34186408],\n",
       "        [-0.40115716],\n",
       "        [-0.29410658],\n",
       "        [ 0.03607126],\n",
       "        [-0.1563572 ],\n",
       "        [-0.22333039],\n",
       "        [-0.13754416]],\n",
       "\n",
       "       [[ 1.01539544],\n",
       "        [ 1.00037854],\n",
       "        [ 1.14691792],\n",
       "        [ 1.12875392],\n",
       "        [ 1.1671682 ],\n",
       "        [ 0.99366229],\n",
       "        [ 1.22730766],\n",
       "        [ 1.18977739],\n",
       "        [ 1.26576643]],\n",
       "\n",
       "       [[-1.35943601],\n",
       "        [-1.36687431],\n",
       "        [-1.22589113],\n",
       "        [-1.00005021],\n",
       "        [-0.90240901],\n",
       "        [-0.74955604],\n",
       "        [-0.85831534],\n",
       "        [-0.96385567],\n",
       "        [-0.76041178]],\n",
       "\n",
       "       [[-0.83856809],\n",
       "        [-0.98536981],\n",
       "        [-1.01862942],\n",
       "        [-1.08776304],\n",
       "        [-1.29125142],\n",
       "        [-1.34327274],\n",
       "        [-1.30831126],\n",
       "        [-1.49302309],\n",
       "        [-1.35461783]],\n",
       "\n",
       "       [[ 0.37076615],\n",
       "        [ 0.34781476],\n",
       "        [ 0.40531129],\n",
       "        [ 0.29174864],\n",
       "        [ 0.50103959],\n",
       "        [ 0.40119462],\n",
       "        [ 0.50555208],\n",
       "        [ 0.82407001],\n",
       "        [ 0.93673496]]])"
      ]
     },
     "execution_count": 30,
     "metadata": {},
     "output_type": "execute_result"
    }
   ],
   "source": [
    "train_x"
   ]
  },
  {
   "attachments": {},
   "cell_type": "markdown",
   "id": "a8af2333",
   "metadata": {},
   "source": [
    "### Setting the target"
   ]
  },
  {
   "cell_type": "code",
   "execution_count": 31,
   "id": "6007ebb2",
   "metadata": {},
   "outputs": [
    {
     "data": {
      "text/html": [
       "<div>\n",
       "<style scoped>\n",
       "    .dataframe tbody tr th:only-of-type {\n",
       "        vertical-align: middle;\n",
       "    }\n",
       "\n",
       "    .dataframe tbody tr th {\n",
       "        vertical-align: top;\n",
       "    }\n",
       "\n",
       "    .dataframe thead th {\n",
       "        text-align: right;\n",
       "    }\n",
       "</style>\n",
       "<table border=\"1\" class=\"dataframe\">\n",
       "  <thead>\n",
       "    <tr style=\"text-align: right;\">\n",
       "      <th></th>\n",
       "      <th>9</th>\n",
       "    </tr>\n",
       "  </thead>\n",
       "  <tbody>\n",
       "    <tr>\n",
       "      <th>0</th>\n",
       "      <td>-1.288411</td>\n",
       "    </tr>\n",
       "    <tr>\n",
       "      <th>1</th>\n",
       "      <td>1.379928</td>\n",
       "    </tr>\n",
       "    <tr>\n",
       "      <th>2</th>\n",
       "      <td>-0.392770</td>\n",
       "    </tr>\n",
       "    <tr>\n",
       "      <th>3</th>\n",
       "      <td>2.258130</td>\n",
       "    </tr>\n",
       "    <tr>\n",
       "      <th>4</th>\n",
       "      <td>-0.821419</td>\n",
       "    </tr>\n",
       "    <tr>\n",
       "      <th>5</th>\n",
       "      <td>-1.569684</td>\n",
       "    </tr>\n",
       "    <tr>\n",
       "      <th>6</th>\n",
       "      <td>1.394054</td>\n",
       "    </tr>\n",
       "  </tbody>\n",
       "</table>\n",
       "</div>"
      ],
      "text/plain": [
       "          9\n",
       "0 -1.288411\n",
       "1  1.379928\n",
       "2 -0.392770\n",
       "3  2.258130\n",
       "4 -0.821419\n",
       "5 -1.569684\n",
       "6  1.394054"
      ]
     },
     "execution_count": 31,
     "metadata": {},
     "output_type": "execute_result"
    }
   ],
   "source": [
    "train_target = train[:,-1]\n",
    "\n",
    "\n",
    "pd.DataFrame(train_target, columns=['9'])"
   ]
  },
  {
   "attachments": {},
   "cell_type": "markdown",
   "id": "69a2fe02",
   "metadata": {},
   "source": [
    "### Repeat for testing"
   ]
  },
  {
   "cell_type": "code",
   "execution_count": 32,
   "id": "3c0174fd",
   "metadata": {},
   "outputs": [
    {
     "data": {
      "text/plain": [
       "(3, 10)"
      ]
     },
     "execution_count": 32,
     "metadata": {},
     "output_type": "execute_result"
    }
   ],
   "source": [
    "test.shape"
   ]
  },
  {
   "cell_type": "code",
   "execution_count": 33,
   "id": "ae6dae0e",
   "metadata": {},
   "outputs": [],
   "source": [
    "# The first 9 columns (from 0 to 8) are inputs\n",
    "\n",
    "test_inputs = test[:,:9]"
   ]
  },
  {
   "cell_type": "code",
   "execution_count": 34,
   "id": "6cbbfd84",
   "metadata": {},
   "outputs": [
    {
     "data": {
      "text/plain": [
       "(3, 9, 1)"
      ]
     },
     "execution_count": 34,
     "metadata": {},
     "output_type": "execute_result"
    }
   ],
   "source": [
    "#Create an additional dimension for test\n",
    "\n",
    "test_x = test_inputs[...,np.newaxis]\n",
    "\n",
    "test_x.shape "
   ]
  },
  {
   "cell_type": "code",
   "execution_count": 35,
   "id": "2e10a2b8",
   "metadata": {},
   "outputs": [
    {
     "data": {
      "text/html": [
       "<div>\n",
       "<style scoped>\n",
       "    .dataframe tbody tr th:only-of-type {\n",
       "        vertical-align: middle;\n",
       "    }\n",
       "\n",
       "    .dataframe tbody tr th {\n",
       "        vertical-align: top;\n",
       "    }\n",
       "\n",
       "    .dataframe thead th {\n",
       "        text-align: right;\n",
       "    }\n",
       "</style>\n",
       "<table border=\"1\" class=\"dataframe\">\n",
       "  <thead>\n",
       "    <tr style=\"text-align: right;\">\n",
       "      <th></th>\n",
       "      <th>9</th>\n",
       "    </tr>\n",
       "  </thead>\n",
       "  <tbody>\n",
       "    <tr>\n",
       "      <th>0</th>\n",
       "      <td>1.130134</td>\n",
       "    </tr>\n",
       "    <tr>\n",
       "      <th>1</th>\n",
       "      <td>-0.586387</td>\n",
       "    </tr>\n",
       "    <tr>\n",
       "      <th>2</th>\n",
       "      <td>0.487673</td>\n",
       "    </tr>\n",
       "  </tbody>\n",
       "</table>\n",
       "</div>"
      ],
      "text/plain": [
       "          9\n",
       "0  1.130134\n",
       "1 -0.586387\n",
       "2  0.487673"
      ]
     },
     "execution_count": 35,
     "metadata": {},
     "output_type": "execute_result"
    }
   ],
   "source": [
    "# The last column (9) is TARGET\n",
    "\n",
    "test_target = test[:,-1]\n",
    "\n",
    "\n",
    "pd.DataFrame(test_target, columns=['9'])"
   ]
  },
  {
   "attachments": {},
   "cell_type": "markdown",
   "id": "ed3bdb64",
   "metadata": {},
   "source": [
    "# A normal(cross-sectional) NN"
   ]
  },
  {
   "cell_type": "code",
   "execution_count": 36,
   "id": "fd356884",
   "metadata": {},
   "outputs": [
    {
     "name": "stdout",
     "output_type": "stream",
     "text": [
      "Epoch 1/100\n",
      "1/1 [==============================] - 1s 661ms/step - loss: 1.0595\n",
      "Epoch 2/100\n",
      "1/1 [==============================] - 0s 16ms/step - loss: 1.0028\n",
      "Epoch 3/100\n",
      "1/1 [==============================] - 0s 8ms/step - loss: 0.9483\n",
      "Epoch 4/100\n",
      "1/1 [==============================] - 0s 16ms/step - loss: 0.8962\n",
      "Epoch 5/100\n",
      "1/1 [==============================] - 0s 8ms/step - loss: 0.8465\n",
      "Epoch 6/100\n",
      "1/1 [==============================] - 0s 16ms/step - loss: 0.7992\n",
      "Epoch 7/100\n",
      "1/1 [==============================] - 0s 16ms/step - loss: 0.7544\n",
      "Epoch 8/100\n",
      "1/1 [==============================] - 0s 16ms/step - loss: 0.7121\n",
      "Epoch 9/100\n",
      "1/1 [==============================] - 0s 8ms/step - loss: 0.6728\n",
      "Epoch 10/100\n",
      "1/1 [==============================] - 0s 48ms/step - loss: 0.6362\n",
      "Epoch 11/100\n",
      "1/1 [==============================] - 0s 16ms/step - loss: 0.6022\n",
      "Epoch 12/100\n",
      "1/1 [==============================] - 0s 8ms/step - loss: 0.5704\n",
      "Epoch 13/100\n",
      "1/1 [==============================] - 0s 16ms/step - loss: 0.5413\n",
      "Epoch 14/100\n",
      "1/1 [==============================] - 0s 8ms/step - loss: 0.5148\n",
      "Epoch 15/100\n",
      "1/1 [==============================] - 0s 7ms/step - loss: 0.4902\n",
      "Epoch 16/100\n",
      "1/1 [==============================] - 0s 8ms/step - loss: 0.4674\n",
      "Epoch 17/100\n",
      "1/1 [==============================] - 0s 16ms/step - loss: 0.4464\n",
      "Epoch 18/100\n",
      "1/1 [==============================] - 0s 8ms/step - loss: 0.4270\n",
      "Epoch 19/100\n",
      "1/1 [==============================] - 0s 8ms/step - loss: 0.4089\n",
      "Epoch 20/100\n",
      "1/1 [==============================] - 0s 8ms/step - loss: 0.3921\n",
      "Epoch 21/100\n",
      "1/1 [==============================] - 0s 8ms/step - loss: 0.3766\n",
      "Epoch 22/100\n",
      "1/1 [==============================] - 0s 8ms/step - loss: 0.3624\n",
      "Epoch 23/100\n",
      "1/1 [==============================] - 0s 8ms/step - loss: 0.3491\n",
      "Epoch 24/100\n",
      "1/1 [==============================] - 0s 11ms/step - loss: 0.3378\n",
      "Epoch 25/100\n",
      "1/1 [==============================] - 0s 0s/step - loss: 0.3273\n",
      "Epoch 26/100\n",
      "1/1 [==============================] - 0s 8ms/step - loss: 0.3176\n",
      "Epoch 27/100\n",
      "1/1 [==============================] - 0s 8ms/step - loss: 0.3086\n",
      "Epoch 28/100\n",
      "1/1 [==============================] - 0s 8ms/step - loss: 0.3003\n",
      "Epoch 29/100\n",
      "1/1 [==============================] - 0s 8ms/step - loss: 0.2927\n",
      "Epoch 30/100\n",
      "1/1 [==============================] - 0s 8ms/step - loss: 0.2857\n",
      "Epoch 31/100\n",
      "1/1 [==============================] - 0s 8ms/step - loss: 0.2794\n",
      "Epoch 32/100\n",
      "1/1 [==============================] - 0s 8ms/step - loss: 0.2736\n",
      "Epoch 33/100\n",
      "1/1 [==============================] - 0s 7ms/step - loss: 0.2683\n",
      "Epoch 34/100\n",
      "1/1 [==============================] - 0s 8ms/step - loss: 0.2636\n",
      "Epoch 35/100\n",
      "1/1 [==============================] - 0s 8ms/step - loss: 0.2593\n",
      "Epoch 36/100\n",
      "1/1 [==============================] - 0s 8ms/step - loss: 0.2554\n",
      "Epoch 37/100\n",
      "1/1 [==============================] - 0s 8ms/step - loss: 0.2519\n",
      "Epoch 38/100\n",
      "1/1 [==============================] - 0s 8ms/step - loss: 0.2487\n",
      "Epoch 39/100\n",
      "1/1 [==============================] - 0s 8ms/step - loss: 0.2458\n",
      "Epoch 40/100\n",
      "1/1 [==============================] - 0s 8ms/step - loss: 0.2432\n",
      "Epoch 41/100\n",
      "1/1 [==============================] - 0s 8ms/step - loss: 0.2407\n",
      "Epoch 42/100\n",
      "1/1 [==============================] - 0s 11ms/step - loss: 0.2383\n",
      "Epoch 43/100\n",
      "1/1 [==============================] - 0s 8ms/step - loss: 0.2360\n",
      "Epoch 44/100\n",
      "1/1 [==============================] - 0s 8ms/step - loss: 0.2338\n",
      "Epoch 45/100\n",
      "1/1 [==============================] - 0s 8ms/step - loss: 0.2316\n",
      "Epoch 46/100\n",
      "1/1 [==============================] - 0s 8ms/step - loss: 0.2295\n",
      "Epoch 47/100\n",
      "1/1 [==============================] - 0s 8ms/step - loss: 0.2273\n",
      "Epoch 48/100\n",
      "1/1 [==============================] - 0s 8ms/step - loss: 0.2252\n",
      "Epoch 49/100\n",
      "1/1 [==============================] - 0s 35ms/step - loss: 0.2230\n",
      "Epoch 50/100\n",
      "1/1 [==============================] - 0s 5ms/step - loss: 0.2208\n",
      "Epoch 51/100\n",
      "1/1 [==============================] - 0s 8ms/step - loss: 0.2186\n",
      "Epoch 52/100\n",
      "1/1 [==============================] - 0s 8ms/step - loss: 0.2166\n",
      "Epoch 53/100\n",
      "1/1 [==============================] - 0s 8ms/step - loss: 0.2146\n",
      "Epoch 54/100\n",
      "1/1 [==============================] - 0s 8ms/step - loss: 0.2126\n",
      "Epoch 55/100\n",
      "1/1 [==============================] - 0s 8ms/step - loss: 0.2106\n",
      "Epoch 56/100\n",
      "1/1 [==============================] - 0s 8ms/step - loss: 0.2087\n",
      "Epoch 57/100\n",
      "1/1 [==============================] - 0s 19ms/step - loss: 0.2067\n",
      "Epoch 58/100\n",
      "1/1 [==============================] - 0s 6ms/step - loss: 0.2047\n",
      "Epoch 59/100\n",
      "1/1 [==============================] - 0s 8ms/step - loss: 0.2027\n",
      "Epoch 60/100\n",
      "1/1 [==============================] - 0s 8ms/step - loss: 0.2008\n",
      "Epoch 61/100\n",
      "1/1 [==============================] - 0s 8ms/step - loss: 0.1988\n",
      "Epoch 62/100\n",
      "1/1 [==============================] - 0s 8ms/step - loss: 0.1969\n",
      "Epoch 63/100\n",
      "1/1 [==============================] - 0s 8ms/step - loss: 0.1949\n",
      "Epoch 64/100\n",
      "1/1 [==============================] - 0s 8ms/step - loss: 0.1930\n",
      "Epoch 65/100\n",
      "1/1 [==============================] - 0s 8ms/step - loss: 0.1911\n",
      "Epoch 66/100\n",
      "1/1 [==============================] - 0s 8ms/step - loss: 0.1892\n",
      "Epoch 67/100\n",
      "1/1 [==============================] - 0s 8ms/step - loss: 0.1873\n",
      "Epoch 68/100\n",
      "1/1 [==============================] - 0s 8ms/step - loss: 0.1854\n",
      "Epoch 69/100\n",
      "1/1 [==============================] - 0s 8ms/step - loss: 0.1835\n",
      "Epoch 70/100\n",
      "1/1 [==============================] - 0s 67ms/step - loss: 0.1816\n",
      "Epoch 71/100\n",
      "1/1 [==============================] - 0s 24ms/step - loss: 0.1797\n",
      "Epoch 72/100\n",
      "1/1 [==============================] - 0s 8ms/step - loss: 0.1779\n",
      "Epoch 73/100\n",
      "1/1 [==============================] - 0s 8ms/step - loss: 0.1760\n",
      "Epoch 74/100\n",
      "1/1 [==============================] - 0s 8ms/step - loss: 0.1742\n",
      "Epoch 75/100\n",
      "1/1 [==============================] - 0s 8ms/step - loss: 0.1724\n",
      "Epoch 76/100\n",
      "1/1 [==============================] - 0s 8ms/step - loss: 0.1706\n",
      "Epoch 77/100\n",
      "1/1 [==============================] - 0s 16ms/step - loss: 0.1688\n",
      "Epoch 78/100\n",
      "1/1 [==============================] - 0s 16ms/step - loss: 0.1670\n",
      "Epoch 79/100\n",
      "1/1 [==============================] - 0s 8ms/step - loss: 0.1652\n",
      "Epoch 80/100\n",
      "1/1 [==============================] - 0s 8ms/step - loss: 0.1635\n",
      "Epoch 81/100\n",
      "1/1 [==============================] - 0s 8ms/step - loss: 0.1617\n",
      "Epoch 82/100\n",
      "1/1 [==============================] - 0s 8ms/step - loss: 0.1600\n",
      "Epoch 83/100\n",
      "1/1 [==============================] - 0s 8ms/step - loss: 0.1583\n",
      "Epoch 84/100\n",
      "1/1 [==============================] - 0s 8ms/step - loss: 0.1566\n",
      "Epoch 85/100\n",
      "1/1 [==============================] - 0s 9ms/step - loss: 0.1549\n",
      "Epoch 86/100\n",
      "1/1 [==============================] - 0s 8ms/step - loss: 0.1532\n",
      "Epoch 87/100\n",
      "1/1 [==============================] - 0s 8ms/step - loss: 0.1515\n",
      "Epoch 88/100\n",
      "1/1 [==============================] - 0s 8ms/step - loss: 0.1499\n",
      "Epoch 89/100\n",
      "1/1 [==============================] - 0s 8ms/step - loss: 0.1482\n",
      "Epoch 90/100\n",
      "1/1 [==============================] - 0s 8ms/step - loss: 0.1465\n",
      "Epoch 91/100\n",
      "1/1 [==============================] - 0s 8ms/step - loss: 0.1449\n",
      "Epoch 92/100\n",
      "1/1 [==============================] - 0s 8ms/step - loss: 0.1432\n",
      "Epoch 93/100\n",
      "1/1 [==============================] - 0s 8ms/step - loss: 0.1416\n",
      "Epoch 94/100\n",
      "1/1 [==============================] - 0s 6ms/step - loss: 0.1400\n",
      "Epoch 95/100\n",
      "1/1 [==============================] - 0s 0s/step - loss: 0.1385\n",
      "Epoch 96/100\n",
      "1/1 [==============================] - 0s 0s/step - loss: 0.1369\n",
      "Epoch 97/100\n",
      "1/1 [==============================] - 0s 8ms/step - loss: 0.1354\n",
      "Epoch 98/100\n",
      "1/1 [==============================] - 0s 8ms/step - loss: 0.1338\n",
      "Epoch 99/100\n",
      "1/1 [==============================] - 0s 8ms/step - loss: 0.1323\n",
      "Epoch 100/100\n",
      "1/1 [==============================] - 0s 8ms/step - loss: 0.1309\n"
     ]
    }
   ],
   "source": [
    "model = keras.models.Sequential([\n",
    "    \n",
    "    keras.layers.Flatten(input_shape=[9, 1]),\n",
    "    keras.layers.Dense(23, activation='relu'),\n",
    "    keras.layers.Dense(1, activation=None)\n",
    "    \n",
    "])\n",
    "\n",
    "model.compile(loss=\"mse\", optimizer='Adam')\n",
    "\n",
    "history = model.fit(train_x, train_target, epochs=100)"
   ]
  },
  {
   "cell_type": "markdown",
   "id": "9b98ecd5",
   "metadata": {},
   "source": [
    "### Predictions"
   ]
  },
  {
   "cell_type": "code",
   "execution_count": 37,
   "id": "44bd3e6c",
   "metadata": {},
   "outputs": [
    {
     "name": "stdout",
     "output_type": "stream",
     "text": [
      "1/1 [==============================] - 0s 171ms/step\n"
     ]
    }
   ],
   "source": [
    "y_pred = model.predict(test_x)"
   ]
  },
  {
   "cell_type": "code",
   "execution_count": 38,
   "id": "4130a057",
   "metadata": {},
   "outputs": [],
   "source": [
    "# Remember, these are standardized values. \n",
    "\n",
    "comparison = pd.DataFrame()\n",
    "comparison['actual'] = scaler.inverse_transform([test_target]).flatten()\n",
    "comparison['predicted'] = scaler.inverse_transform(y_pred).flatten()"
   ]
  },
  {
   "cell_type": "code",
   "execution_count": 39,
   "id": "141a4539",
   "metadata": {},
   "outputs": [
    {
     "data": {
      "text/html": [
       "<div>\n",
       "<style scoped>\n",
       "    .dataframe tbody tr th:only-of-type {\n",
       "        vertical-align: middle;\n",
       "    }\n",
       "\n",
       "    .dataframe tbody tr th {\n",
       "        vertical-align: top;\n",
       "    }\n",
       "\n",
       "    .dataframe thead th {\n",
       "        text-align: right;\n",
       "    }\n",
       "</style>\n",
       "<table border=\"1\" class=\"dataframe\">\n",
       "  <thead>\n",
       "    <tr style=\"text-align: right;\">\n",
       "      <th></th>\n",
       "      <th>actual</th>\n",
       "      <th>predicted</th>\n",
       "    </tr>\n",
       "  </thead>\n",
       "  <tbody>\n",
       "    <tr>\n",
       "      <th>0</th>\n",
       "      <td>85142.75000</td>\n",
       "      <td>89949.929688</td>\n",
       "    </tr>\n",
       "    <tr>\n",
       "      <th>1</th>\n",
       "      <td>73386.20313</td>\n",
       "      <td>69838.921875</td>\n",
       "    </tr>\n",
       "    <tr>\n",
       "      <th>2</th>\n",
       "      <td>80742.50000</td>\n",
       "      <td>75337.812500</td>\n",
       "    </tr>\n",
       "  </tbody>\n",
       "</table>\n",
       "</div>"
      ],
      "text/plain": [
       "        actual     predicted\n",
       "0  85142.75000  89949.929688\n",
       "1  73386.20313  69838.921875\n",
       "2  80742.50000  75337.812500"
      ]
     },
     "execution_count": 39,
     "metadata": {},
     "output_type": "execute_result"
    }
   ],
   "source": [
    "comparison"
   ]
  },
  {
   "cell_type": "code",
   "execution_count": 40,
   "id": "84eb9d94",
   "metadata": {},
   "outputs": [
    {
     "data": {
      "text/plain": [
       "21634275.940881062"
      ]
     },
     "execution_count": 40,
     "metadata": {},
     "output_type": "execute_result"
    }
   ],
   "source": [
    "mean_squared_error(comparison['actual'], comparison['predicted'])"
   ]
  },
  {
   "cell_type": "code",
   "execution_count": 41,
   "id": "6034b13d",
   "metadata": {},
   "outputs": [
    {
     "data": {
      "image/png": "[encoded data removed]",
      "text/plain": [
       "<Figure size 640x480 with 1 Axes>"
      ]
     },
     "metadata": {},
     "output_type": "display_data"
    }
   ],
   "source": [
    "plt.plot(comparison['actual'], label = 'actual')\n",
    "plt.plot(comparison['predicted'], label = 'predicted')\n",
    "\n",
    "plt.legend()\n",
    "\n",
    "plt.show()"
   ]
  },
  {
   "cell_type": "markdown",
   "id": "cbf70717",
   "metadata": {},
   "source": [
    "## Simple RNN"
   ]
  },
  {
   "cell_type": "code",
   "execution_count": 42,
   "id": "ab190bb0",
   "metadata": {},
   "outputs": [],
   "source": [
    "model = keras.models.Sequential([\n",
    "    keras.layers.SimpleRNN(32, activation='relu', input_shape=[9, 1]),\n",
    "    keras.layers.Dense(1, activation=None)\n",
    "])"
   ]
  },
  {
   "cell_type": "code",
   "execution_count": 43,
   "id": "5e12012c",
   "metadata": {},
   "outputs": [
    {
     "name": "stdout",
     "output_type": "stream",
     "text": [
      "Epoch 1/30\n",
      "1/1 [==============================] - 1s 1s/step - loss: 1.9815\n",
      "Epoch 2/30\n",
      "1/1 [==============================] - 0s 8ms/step - loss: 1.9022\n",
      "Epoch 3/30\n",
      "1/1 [==============================] - 0s 16ms/step - loss: 1.8274\n",
      "Epoch 4/30\n",
      "1/1 [==============================] - 0s 16ms/step - loss: 1.7574\n",
      "Epoch 5/30\n",
      "1/1 [==============================] - 0s 16ms/step - loss: 1.6937\n",
      "Epoch 6/30\n",
      "1/1 [==============================] - 0s 16ms/step - loss: 1.6318\n",
      "Epoch 7/30\n",
      "1/1 [==============================] - 0s 24ms/step - loss: 1.5707\n",
      "Epoch 8/30\n",
      "1/1 [==============================] - 0s 40ms/step - loss: 1.5115\n",
      "Epoch 9/30\n",
      "1/1 [==============================] - 0s 16ms/step - loss: 1.4535\n",
      "Epoch 10/30\n",
      "1/1 [==============================] - 0s 8ms/step - loss: 1.3964\n",
      "Epoch 11/30\n",
      "1/1 [==============================] - 0s 16ms/step - loss: 1.3401\n",
      "Epoch 12/30\n",
      "1/1 [==============================] - 0s 9ms/step - loss: 1.2840\n",
      "Epoch 13/30\n",
      "1/1 [==============================] - 0s 7ms/step - loss: 1.2288\n",
      "Epoch 14/30\n",
      "1/1 [==============================] - 0s 8ms/step - loss: 1.1731\n",
      "Epoch 15/30\n",
      "1/1 [==============================] - 0s 8ms/step - loss: 1.1141\n",
      "Epoch 16/30\n",
      "1/1 [==============================] - 0s 6ms/step - loss: 1.0546\n",
      "Epoch 17/30\n",
      "1/1 [==============================] - 0s 0s/step - loss: 0.9950\n",
      "Epoch 18/30\n",
      "1/1 [==============================] - 0s 16ms/step - loss: 0.9355\n",
      "Epoch 19/30\n",
      "1/1 [==============================] - 0s 16ms/step - loss: 0.8761\n",
      "Epoch 20/30\n",
      "1/1 [==============================] - 0s 0s/step - loss: 0.8177\n",
      "Epoch 21/30\n",
      "1/1 [==============================] - 0s 16ms/step - loss: 0.7606\n",
      "Epoch 22/30\n",
      "1/1 [==============================] - 0s 16ms/step - loss: 0.7056\n",
      "Epoch 23/30\n",
      "1/1 [==============================] - 0s 0s/step - loss: 0.6544\n",
      "Epoch 24/30\n",
      "1/1 [==============================] - 0s 32ms/step - loss: 0.6082\n",
      "Epoch 25/30\n",
      "1/1 [==============================] - 0s 16ms/step - loss: 0.5670\n",
      "Epoch 26/30\n",
      "1/1 [==============================] - 0s 0s/step - loss: 0.5299\n",
      "Epoch 27/30\n",
      "1/1 [==============================] - 0s 0s/step - loss: 0.4956\n",
      "Epoch 28/30\n",
      "1/1 [==============================] - 0s 16ms/step - loss: 0.4627\n",
      "Epoch 29/30\n",
      "1/1 [==============================] - 0s 21ms/step - loss: 0.4318\n",
      "Epoch 30/30\n",
      "1/1 [==============================] - 0s 10ms/step - loss: 0.3996\n"
     ]
    }
   ],
   "source": [
    "np.random.seed(42)\n",
    "tf.random.set_seed(42)\n",
    "\n",
    "model.compile(loss=\"mse\", optimizer='Adam')\n",
    "\n",
    "history = model.fit(train_x, train_target, epochs=30)"
   ]
  },
  {
   "cell_type": "markdown",
   "id": "4d503149",
   "metadata": {},
   "source": [
    "### Predictions"
   ]
  },
  {
   "cell_type": "code",
   "execution_count": 44,
   "id": "1d65c95c",
   "metadata": {},
   "outputs": [
    {
     "name": "stdout",
     "output_type": "stream",
     "text": [
      "1/1 [==============================] - 0s 287ms/step\n"
     ]
    }
   ],
   "source": [
    "#Predict:\n",
    "y_pred = model.predict(test_x)"
   ]
  },
  {
   "cell_type": "code",
   "execution_count": 45,
   "id": "08e4390b",
   "metadata": {},
   "outputs": [],
   "source": [
    "#Remember, these are standardized values. \n",
    "\n",
    "comparison = pd.DataFrame()\n",
    "comparison['actual'] = scaler.inverse_transform([test_target]).flatten()\n",
    "comparison['predicted'] = scaler.inverse_transform(y_pred).flatten()"
   ]
  },
  {
   "cell_type": "code",
   "execution_count": 46,
   "id": "5a32febf",
   "metadata": {},
   "outputs": [
    {
     "data": {
      "text/html": [
       "<div>\n",
       "<style scoped>\n",
       "    .dataframe tbody tr th:only-of-type {\n",
       "        vertical-align: middle;\n",
       "    }\n",
       "\n",
       "    .dataframe tbody tr th {\n",
       "        vertical-align: top;\n",
       "    }\n",
       "\n",
       "    .dataframe thead th {\n",
       "        text-align: right;\n",
       "    }\n",
       "</style>\n",
       "<table border=\"1\" class=\"dataframe\">\n",
       "  <thead>\n",
       "    <tr style=\"text-align: right;\">\n",
       "      <th></th>\n",
       "      <th>actual</th>\n",
       "      <th>predicted</th>\n",
       "    </tr>\n",
       "  </thead>\n",
       "  <tbody>\n",
       "    <tr>\n",
       "      <th>0</th>\n",
       "      <td>85142.75000</td>\n",
       "      <td>84006.328125</td>\n",
       "    </tr>\n",
       "    <tr>\n",
       "      <th>1</th>\n",
       "      <td>73386.20313</td>\n",
       "      <td>70468.007812</td>\n",
       "    </tr>\n",
       "    <tr>\n",
       "      <th>2</th>\n",
       "      <td>80742.50000</td>\n",
       "      <td>76710.343750</td>\n",
       "    </tr>\n",
       "  </tbody>\n",
       "</table>\n",
       "</div>"
      ],
      "text/plain": [
       "        actual     predicted\n",
       "0  85142.75000  84006.328125\n",
       "1  73386.20313  70468.007812\n",
       "2  80742.50000  76710.343750"
      ]
     },
     "execution_count": 46,
     "metadata": {},
     "output_type": "execute_result"
    }
   ],
   "source": [
    "comparison"
   ]
  },
  {
   "cell_type": "code",
   "execution_count": 47,
   "id": "a1a6750d",
   "metadata": {},
   "outputs": [
    {
     "data": {
      "text/plain": [
       "8688534.20449049"
      ]
     },
     "execution_count": 47,
     "metadata": {},
     "output_type": "execute_result"
    }
   ],
   "source": [
    "mean_squared_error(comparison['actual'], comparison['predicted'])"
   ]
  },
  {
   "cell_type": "code",
   "execution_count": 48,
   "id": "d7e61a86",
   "metadata": {},
   "outputs": [
    {
     "data": {
      "image/png": "[encoded data removed]",
      "text/plain": [
       "<Figure size 640x480 with 1 Axes>"
      ]
     },
     "metadata": {},
     "output_type": "display_data"
    }
   ],
   "source": [
    "plt.plot(comparison['actual'], label = 'actual')\n",
    "plt.plot(comparison['predicted'], label = 'predicted')\n",
    "\n",
    "plt.legend()\n",
    "\n",
    "plt.show()"
   ]
  },
  {
   "cell_type": "markdown",
   "id": "182e26e1",
   "metadata": {},
   "source": [
    "##  Simple RNN with more layers"
   ]
  },
  {
   "cell_type": "code",
   "execution_count": 49,
   "id": "e158e439",
   "metadata": {},
   "outputs": [],
   "source": [
    "model = keras.models.Sequential([\n",
    "    keras.layers.SimpleRNN(32, activation='relu', return_sequences=True, input_shape=[9, 1]),\n",
    "    keras.layers.SimpleRNN(32, activation='relu', return_sequences=False),\n",
    "    keras.layers.Dense(1, activation=None)\n",
    "])"
   ]
  },
  {
   "cell_type": "code",
   "execution_count": 50,
   "id": "b7f531b9",
   "metadata": {},
   "outputs": [
    {
     "name": "stdout",
     "output_type": "stream",
     "text": [
      "Epoch 1/30\n",
      "1/1 [==============================] - 2s 2s/step - loss: 1.9862\n",
      "Epoch 2/30\n",
      "1/1 [==============================] - 0s 10ms/step - loss: 1.8796\n",
      "Epoch 3/30\n",
      "1/1 [==============================] - 0s 16ms/step - loss: 1.7818\n",
      "Epoch 4/30\n",
      "1/1 [==============================] - 0s 15ms/step - loss: 1.6918\n",
      "Epoch 5/30\n",
      "1/1 [==============================] - 0s 16ms/step - loss: 1.6087\n",
      "Epoch 6/30\n",
      "1/1 [==============================] - 0s 16ms/step - loss: 1.5284\n",
      "Epoch 7/30\n",
      "1/1 [==============================] - 0s 24ms/step - loss: 1.4487\n",
      "Epoch 8/30\n",
      "1/1 [==============================] - 0s 8ms/step - loss: 1.3703\n",
      "Epoch 9/30\n",
      "1/1 [==============================] - 0s 64ms/step - loss: 1.2934\n",
      "Epoch 10/30\n",
      "1/1 [==============================] - 0s 8ms/step - loss: 1.2198\n",
      "Epoch 11/30\n",
      "1/1 [==============================] - 0s 18ms/step - loss: 1.1500\n",
      "Epoch 12/30\n",
      "1/1 [==============================] - 0s 7ms/step - loss: 1.0870\n",
      "Epoch 13/30\n",
      "1/1 [==============================] - 0s 8ms/step - loss: 1.0280\n",
      "Epoch 14/30\n",
      "1/1 [==============================] - 0s 8ms/step - loss: 0.9730\n",
      "Epoch 15/30\n",
      "1/1 [==============================] - 0s 8ms/step - loss: 0.9236\n",
      "Epoch 16/30\n",
      "1/1 [==============================] - 0s 16ms/step - loss: 0.8784\n",
      "Epoch 17/30\n",
      "1/1 [==============================] - 0s 8ms/step - loss: 0.8370\n",
      "Epoch 18/30\n",
      "1/1 [==============================] - 0s 8ms/step - loss: 0.7986\n",
      "Epoch 19/30\n",
      "1/1 [==============================] - 0s 11ms/step - loss: 0.7642\n",
      "Epoch 20/30\n",
      "1/1 [==============================] - 0s 16ms/step - loss: 0.7331\n",
      "Epoch 21/30\n",
      "1/1 [==============================] - 0s 16ms/step - loss: 0.7054\n",
      "Epoch 22/30\n",
      "1/1 [==============================] - 0s 24ms/step - loss: 0.6792\n",
      "Epoch 23/30\n",
      "1/1 [==============================] - 0s 8ms/step - loss: 0.6529\n",
      "Epoch 24/30\n",
      "1/1 [==============================] - 0s 10ms/step - loss: 0.6257\n",
      "Epoch 25/30\n",
      "1/1 [==============================] - 0s 7ms/step - loss: 0.5968\n",
      "Epoch 26/30\n",
      "1/1 [==============================] - 0s 8ms/step - loss: 0.5658\n",
      "Epoch 27/30\n",
      "1/1 [==============================] - 0s 8ms/step - loss: 0.5334\n",
      "Epoch 28/30\n",
      "1/1 [==============================] - 0s 16ms/step - loss: 0.4993\n",
      "Epoch 29/30\n",
      "1/1 [==============================] - 0s 8ms/step - loss: 0.4635\n",
      "Epoch 30/30\n",
      "1/1 [==============================] - 0s 16ms/step - loss: 0.4264\n"
     ]
    }
   ],
   "source": [
    "np.random.seed(42)\n",
    "tf.random.set_seed(42)\n",
    "\n",
    "model.compile(loss=\"mse\", optimizer='Adam')\n",
    "\n",
    "history = model.fit(train_x, train_target, epochs=30)"
   ]
  },
  {
   "cell_type": "code",
   "execution_count": 51,
   "id": "3c9bbe09",
   "metadata": {},
   "outputs": [
    {
     "name": "stdout",
     "output_type": "stream",
     "text": [
      "1/1 [==============================] - 1s 546ms/step\n"
     ]
    }
   ],
   "source": [
    "#Predict:\n",
    "y_pred = model.predict(test_x)"
   ]
  },
  {
   "cell_type": "code",
   "execution_count": 52,
   "id": "91d8f30f",
   "metadata": {},
   "outputs": [],
   "source": [
    "#Remember, these are standardized values. \n",
    "\n",
    "comparison = pd.DataFrame()\n",
    "comparison['actual'] = scaler.inverse_transform([test_target]).flatten()\n",
    "comparison['predicted'] = scaler.inverse_transform(y_pred).flatten()"
   ]
  },
  {
   "cell_type": "code",
   "execution_count": 53,
   "id": "b33dd2b7",
   "metadata": {},
   "outputs": [
    {
     "data": {
      "text/html": [
       "<div>\n",
       "<style scoped>\n",
       "    .dataframe tbody tr th:only-of-type {\n",
       "        vertical-align: middle;\n",
       "    }\n",
       "\n",
       "    .dataframe tbody tr th {\n",
       "        vertical-align: top;\n",
       "    }\n",
       "\n",
       "    .dataframe thead th {\n",
       "        text-align: right;\n",
       "    }\n",
       "</style>\n",
       "<table border=\"1\" class=\"dataframe\">\n",
       "  <thead>\n",
       "    <tr style=\"text-align: right;\">\n",
       "      <th></th>\n",
       "      <th>actual</th>\n",
       "      <th>predicted</th>\n",
       "    </tr>\n",
       "  </thead>\n",
       "  <tbody>\n",
       "    <tr>\n",
       "      <th>0</th>\n",
       "      <td>85142.75000</td>\n",
       "      <td>83046.515625</td>\n",
       "    </tr>\n",
       "    <tr>\n",
       "      <th>1</th>\n",
       "      <td>73386.20313</td>\n",
       "      <td>72773.750000</td>\n",
       "    </tr>\n",
       "    <tr>\n",
       "      <th>2</th>\n",
       "      <td>80742.50000</td>\n",
       "      <td>78220.273438</td>\n",
       "    </tr>\n",
       "  </tbody>\n",
       "</table>\n",
       "</div>"
      ],
      "text/plain": [
       "        actual     predicted\n",
       "0  85142.75000  83046.515625\n",
       "1  73386.20313  72773.750000\n",
       "2  80742.50000  78220.273438"
      ]
     },
     "execution_count": 53,
     "metadata": {},
     "output_type": "execute_result"
    }
   ],
   "source": [
    "comparison"
   ]
  },
  {
   "cell_type": "code",
   "execution_count": 54,
   "id": "a5316804",
   "metadata": {},
   "outputs": [
    {
     "data": {
      "text/plain": [
       "3710308.074652999"
      ]
     },
     "execution_count": 54,
     "metadata": {},
     "output_type": "execute_result"
    }
   ],
   "source": [
    "mean_squared_error(comparison['actual'], comparison['predicted'])"
   ]
  },
  {
   "cell_type": "code",
   "execution_count": 55,
   "id": "6462f12a",
   "metadata": {},
   "outputs": [
    {
     "data": {
      "image/png": "[encoded data removed]",
      "text/plain": [
       "<Figure size 640x480 with 1 Axes>"
      ]
     },
     "metadata": {},
     "output_type": "display_data"
    }
   ],
   "source": [
    "plt.plot(comparison['actual'], label = 'actual')\n",
    "plt.plot(comparison['predicted'], label = 'predicted')\n",
    "\n",
    "plt.legend()\n",
    "\n",
    "plt.show()"
   ]
  },
  {
   "cell_type": "markdown",
   "id": "c62d66fb",
   "metadata": {},
   "source": [
    "# LSTM with one layer"
   ]
  },
  {
   "cell_type": "code",
   "execution_count": 56,
   "id": "272121cc",
   "metadata": {},
   "outputs": [],
   "source": [
    "model = keras.models.Sequential([\n",
    "    keras.layers.LSTM(32, activation='relu', input_shape=[9, 1]),\n",
    "    keras.layers.Dense(1, activation=None)\n",
    "])"
   ]
  },
  {
   "cell_type": "code",
   "execution_count": 57,
   "id": "c858c3ab",
   "metadata": {},
   "outputs": [
    {
     "name": "stdout",
     "output_type": "stream",
     "text": [
      "Epoch 1/30\n",
      "1/1 [==============================] - 2s 2s/step - loss: 1.9277\n",
      "Epoch 2/30\n",
      "1/1 [==============================] - 0s 8ms/step - loss: 1.8962\n",
      "Epoch 3/30\n",
      "1/1 [==============================] - 0s 16ms/step - loss: 1.8647\n",
      "Epoch 4/30\n",
      "1/1 [==============================] - 0s 11ms/step - loss: 1.8331\n",
      "Epoch 5/30\n",
      "1/1 [==============================] - 0s 8ms/step - loss: 1.8015\n",
      "Epoch 6/30\n",
      "1/1 [==============================] - 0s 16ms/step - loss: 1.7702\n",
      "Epoch 7/30\n",
      "1/1 [==============================] - 0s 8ms/step - loss: 1.7394\n",
      "Epoch 8/30\n",
      "1/1 [==============================] - 0s 16ms/step - loss: 1.7089\n",
      "Epoch 9/30\n",
      "1/1 [==============================] - 0s 20ms/step - loss: 1.6783\n",
      "Epoch 10/30\n",
      "1/1 [==============================] - 0s 8ms/step - loss: 1.6478\n",
      "Epoch 11/30\n",
      "1/1 [==============================] - 0s 24ms/step - loss: 1.6173\n",
      "Epoch 12/30\n",
      "1/1 [==============================] - 0s 16ms/step - loss: 1.5871\n",
      "Epoch 13/30\n",
      "1/1 [==============================] - 0s 16ms/step - loss: 1.5572\n",
      "Epoch 14/30\n",
      "1/1 [==============================] - 0s 16ms/step - loss: 1.5273\n",
      "Epoch 15/30\n",
      "1/1 [==============================] - 0s 16ms/step - loss: 1.4973\n",
      "Epoch 16/30\n",
      "1/1 [==============================] - 0s 56ms/step - loss: 1.4670\n",
      "Epoch 17/30\n",
      "1/1 [==============================] - 0s 8ms/step - loss: 1.4364\n",
      "Epoch 18/30\n",
      "1/1 [==============================] - 0s 12ms/step - loss: 1.4053\n",
      "Epoch 19/30\n",
      "1/1 [==============================] - 0s 8ms/step - loss: 1.3738\n",
      "Epoch 20/30\n",
      "1/1 [==============================] - 0s 16ms/step - loss: 1.3419\n",
      "Epoch 21/30\n",
      "1/1 [==============================] - 0s 8ms/step - loss: 1.3095\n",
      "Epoch 22/30\n",
      "1/1 [==============================] - 0s 8ms/step - loss: 1.2766\n",
      "Epoch 23/30\n",
      "1/1 [==============================] - 0s 8ms/step - loss: 1.2433\n",
      "Epoch 24/30\n",
      "1/1 [==============================] - 0s 8ms/step - loss: 1.2096\n",
      "Epoch 25/30\n",
      "1/1 [==============================] - 0s 8ms/step - loss: 1.1754\n",
      "Epoch 26/30\n",
      "1/1 [==============================] - 0s 8ms/step - loss: 1.1406\n",
      "Epoch 27/30\n",
      "1/1 [==============================] - 0s 8ms/step - loss: 1.1055\n",
      "Epoch 28/30\n",
      "1/1 [==============================] - 0s 8ms/step - loss: 1.0701\n",
      "Epoch 29/30\n",
      "1/1 [==============================] - 0s 16ms/step - loss: 1.0342\n",
      "Epoch 30/30\n",
      "1/1 [==============================] - 0s 8ms/step - loss: 0.9980\n"
     ]
    }
   ],
   "source": [
    "np.random.seed(42)\n",
    "tf.random.set_seed(42)\n",
    "\n",
    "model.compile(loss=\"mse\", optimizer='Adam')\n",
    "\n",
    "history = model.fit(train_x, train_target, epochs=30)"
   ]
  },
  {
   "cell_type": "markdown",
   "id": "ad30ec17",
   "metadata": {},
   "source": [
    "### Predict"
   ]
  },
  {
   "cell_type": "code",
   "execution_count": 58,
   "id": "32828043",
   "metadata": {},
   "outputs": [
    {
     "name": "stdout",
     "output_type": "stream",
     "text": [
      "1/1 [==============================] - 0s 298ms/step\n"
     ]
    }
   ],
   "source": [
    "#Predict:\n",
    "y_pred = model.predict(test_x)"
   ]
  },
  {
   "cell_type": "code",
   "execution_count": 59,
   "id": "a27da450",
   "metadata": {},
   "outputs": [],
   "source": [
    "#Remember, these are standardized values. \n",
    "\n",
    "comparison = pd.DataFrame()\n",
    "comparison['actual'] = scaler.inverse_transform([test_target]).flatten()\n",
    "comparison['predicted'] = scaler.inverse_transform(y_pred).flatten()"
   ]
  },
  {
   "cell_type": "code",
   "execution_count": 60,
   "id": "d5748fee",
   "metadata": {},
   "outputs": [
    {
     "data": {
      "text/html": [
       "<div>\n",
       "<style scoped>\n",
       "    .dataframe tbody tr th:only-of-type {\n",
       "        vertical-align: middle;\n",
       "    }\n",
       "\n",
       "    .dataframe tbody tr th {\n",
       "        vertical-align: top;\n",
       "    }\n",
       "\n",
       "    .dataframe thead th {\n",
       "        text-align: right;\n",
       "    }\n",
       "</style>\n",
       "<table border=\"1\" class=\"dataframe\">\n",
       "  <thead>\n",
       "    <tr style=\"text-align: right;\">\n",
       "      <th></th>\n",
       "      <th>actual</th>\n",
       "      <th>predicted</th>\n",
       "    </tr>\n",
       "  </thead>\n",
       "  <tbody>\n",
       "    <tr>\n",
       "      <th>0</th>\n",
       "      <td>85142.75000</td>\n",
       "      <td>80280.367188</td>\n",
       "    </tr>\n",
       "    <tr>\n",
       "      <th>1</th>\n",
       "      <td>73386.20313</td>\n",
       "      <td>73908.117188</td>\n",
       "    </tr>\n",
       "    <tr>\n",
       "      <th>2</th>\n",
       "      <td>80742.50000</td>\n",
       "      <td>76656.515625</td>\n",
       "    </tr>\n",
       "  </tbody>\n",
       "</table>\n",
       "</div>"
      ],
      "text/plain": [
       "        actual     predicted\n",
       "0  85142.75000  80280.367188\n",
       "1  73386.20313  73908.117188\n",
       "2  80742.50000  76656.515625"
      ]
     },
     "execution_count": 60,
     "metadata": {},
     "output_type": "execute_result"
    }
   ],
   "source": [
    "comparison"
   ]
  },
  {
   "cell_type": "code",
   "execution_count": 61,
   "id": "464abbaa",
   "metadata": {},
   "outputs": [
    {
     "data": {
      "text/plain": [
       "13536809.737151891"
      ]
     },
     "execution_count": 61,
     "metadata": {},
     "output_type": "execute_result"
    }
   ],
   "source": [
    "mean_squared_error(comparison['actual'], comparison['predicted'])"
   ]
  },
  {
   "cell_type": "code",
   "execution_count": 62,
   "id": "bd6560e7",
   "metadata": {},
   "outputs": [
    {
     "data": {
      "image/png": "[encoded data removed]",
      "text/plain": [
       "<Figure size 640x480 with 1 Axes>"
      ]
     },
     "metadata": {},
     "output_type": "display_data"
    }
   ],
   "source": [
    "plt.plot(comparison['actual'], label = 'actual')\n",
    "plt.plot(comparison['predicted'], label = 'predicted')\n",
    "\n",
    "plt.legend()\n",
    "\n",
    "plt.show()"
   ]
  },
  {
   "cell_type": "markdown",
   "id": "316fb971",
   "metadata": {},
   "source": [
    "### LSTM with more layers"
   ]
  },
  {
   "cell_type": "code",
   "execution_count": 63,
   "id": "27c569a4",
   "metadata": {},
   "outputs": [],
   "source": [
    "model = keras.models.Sequential([\n",
    "    keras.layers.LSTM(32, activation='tanh', return_sequences=True, input_shape=[9, 1]),\n",
    "    keras.layers.LSTM(32, activation='tanh', return_sequences=False),\n",
    "    keras.layers.Dense(1, activation=None)\n",
    "])"
   ]
  },
  {
   "cell_type": "code",
   "execution_count": 64,
   "id": "88618221",
   "metadata": {},
   "outputs": [
    {
     "name": "stdout",
     "output_type": "stream",
     "text": [
      "Epoch 1/30\n",
      "1/1 [==============================] - 6s 6s/step - loss: 1.8931\n",
      "Epoch 2/30\n",
      "1/1 [==============================] - 0s 16ms/step - loss: 1.8239\n",
      "Epoch 3/30\n",
      "1/1 [==============================] - 0s 16ms/step - loss: 1.7557\n",
      "Epoch 4/30\n",
      "1/1 [==============================] - 0s 16ms/step - loss: 1.6881\n",
      "Epoch 5/30\n",
      "1/1 [==============================] - 0s 16ms/step - loss: 1.6206\n",
      "Epoch 6/30\n",
      "1/1 [==============================] - 0s 16ms/step - loss: 1.5529\n",
      "Epoch 7/30\n",
      "1/1 [==============================] - 0s 16ms/step - loss: 1.4846\n",
      "Epoch 8/30\n",
      "1/1 [==============================] - 0s 16ms/step - loss: 1.4154\n",
      "Epoch 9/30\n",
      "1/1 [==============================] - 0s 16ms/step - loss: 1.3451\n",
      "Epoch 10/30\n",
      "1/1 [==============================] - 0s 24ms/step - loss: 1.2735\n",
      "Epoch 11/30\n",
      "1/1 [==============================] - 0s 16ms/step - loss: 1.2003\n",
      "Epoch 12/30\n",
      "1/1 [==============================] - 0s 8ms/step - loss: 1.1256\n",
      "Epoch 13/30\n",
      "1/1 [==============================] - 0s 16ms/step - loss: 1.0494\n",
      "Epoch 14/30\n",
      "1/1 [==============================] - 0s 16ms/step - loss: 0.9718\n",
      "Epoch 15/30\n",
      "1/1 [==============================] - 0s 16ms/step - loss: 0.8931\n",
      "Epoch 16/30\n",
      "1/1 [==============================] - 0s 16ms/step - loss: 0.8140\n",
      "Epoch 17/30\n",
      "1/1 [==============================] - 0s 16ms/step - loss: 0.7353\n",
      "Epoch 18/30\n",
      "1/1 [==============================] - 0s 16ms/step - loss: 0.6581\n",
      "Epoch 19/30\n",
      "1/1 [==============================] - 0s 16ms/step - loss: 0.5838\n",
      "Epoch 20/30\n",
      "1/1 [==============================] - 0s 16ms/step - loss: 0.5144\n",
      "Epoch 21/30\n",
      "1/1 [==============================] - 0s 16ms/step - loss: 0.4517\n",
      "Epoch 22/30\n",
      "1/1 [==============================] - 0s 16ms/step - loss: 0.3977\n",
      "Epoch 23/30\n",
      "1/1 [==============================] - 0s 8ms/step - loss: 0.3538\n",
      "Epoch 24/30\n",
      "1/1 [==============================] - 0s 16ms/step - loss: 0.3203\n",
      "Epoch 25/30\n",
      "1/1 [==============================] - 0s 16ms/step - loss: 0.2957\n",
      "Epoch 26/30\n",
      "1/1 [==============================] - 0s 16ms/step - loss: 0.2774\n",
      "Epoch 27/30\n",
      "1/1 [==============================] - 0s 16ms/step - loss: 0.2625\n",
      "Epoch 28/30\n",
      "1/1 [==============================] - 0s 16ms/step - loss: 0.2493\n",
      "Epoch 29/30\n",
      "1/1 [==============================] - 0s 16ms/step - loss: 0.2371\n",
      "Epoch 30/30\n",
      "1/1 [==============================] - 0s 8ms/step - loss: 0.2260\n"
     ]
    }
   ],
   "source": [
    "np.random.seed(42)\n",
    "tf.random.set_seed(42)\n",
    "\n",
    "model.compile(loss=\"mse\", optimizer='Adam')\n",
    "\n",
    "history = model.fit(train_x, train_target, epochs=30)"
   ]
  },
  {
   "cell_type": "markdown",
   "id": "0d3352c4",
   "metadata": {},
   "source": [
    "### Predcitions"
   ]
  },
  {
   "cell_type": "code",
   "execution_count": 65,
   "id": "89ca273e",
   "metadata": {},
   "outputs": [
    {
     "name": "stdout",
     "output_type": "stream",
     "text": [
      "WARNING:tensorflow:5 out of the last 5 calls to <function Model.make_predict_function.<locals>.predict_function at 0x000002C09343A700> triggered tf.function retracing. Tracing is expensive and the excessive number of tracings could be due to (1) creating @tf.function repeatedly in a loop, (2) passing tensors with different shapes, (3) passing Python objects instead of tensors. For (1), please define your @tf.function outside of the loop. For (2), @tf.function has reduce_retracing=True option that can avoid unnecessary retracing. For (3), please refer to https://www.tensorflow.org/guide/function#controlling_retracing and https://www.tensorflow.org/api_docs/python/tf/function for  more details.\n",
      "1/1 [==============================] - 1s 1s/step\n"
     ]
    }
   ],
   "source": [
    "#Predict:\n",
    "y_pred = model.predict(test_x)"
   ]
  },
  {
   "cell_type": "code",
   "execution_count": 66,
   "id": "c908ff88",
   "metadata": {},
   "outputs": [],
   "source": [
    "#Remember, these are standardized values. \n",
    "\n",
    "comparison = pd.DataFrame()\n",
    "comparison['actual'] = scaler.inverse_transform([test_target]).flatten()\n",
    "comparison['predicted'] = scaler.inverse_transform(y_pred).flatten()"
   ]
  },
  {
   "cell_type": "code",
   "execution_count": 67,
   "id": "19839e1a",
   "metadata": {},
   "outputs": [
    {
     "data": {
      "text/html": [
       "<div>\n",
       "<style scoped>\n",
       "    .dataframe tbody tr th:only-of-type {\n",
       "        vertical-align: middle;\n",
       "    }\n",
       "\n",
       "    .dataframe tbody tr th {\n",
       "        vertical-align: top;\n",
       "    }\n",
       "\n",
       "    .dataframe thead th {\n",
       "        text-align: right;\n",
       "    }\n",
       "</style>\n",
       "<table border=\"1\" class=\"dataframe\">\n",
       "  <thead>\n",
       "    <tr style=\"text-align: right;\">\n",
       "      <th></th>\n",
       "      <th>actual</th>\n",
       "      <th>predicted</th>\n",
       "    </tr>\n",
       "  </thead>\n",
       "  <tbody>\n",
       "    <tr>\n",
       "      <th>0</th>\n",
       "      <td>85142.75000</td>\n",
       "      <td>92690.281250</td>\n",
       "    </tr>\n",
       "    <tr>\n",
       "      <th>1</th>\n",
       "      <td>73386.20313</td>\n",
       "      <td>70010.695312</td>\n",
       "    </tr>\n",
       "    <tr>\n",
       "      <th>2</th>\n",
       "      <td>80742.50000</td>\n",
       "      <td>75102.226562</td>\n",
       "    </tr>\n",
       "  </tbody>\n",
       "</table>\n",
       "</div>"
      ],
      "text/plain": [
       "        actual     predicted\n",
       "0  85142.75000  92690.281250\n",
       "1  73386.20313  70010.695312\n",
       "2  80742.50000  75102.226562"
      ]
     },
     "execution_count": 67,
     "metadata": {},
     "output_type": "execute_result"
    }
   ],
   "source": [
    "comparison"
   ]
  },
  {
   "cell_type": "code",
   "execution_count": 68,
   "id": "2c6bbe47",
   "metadata": {},
   "outputs": [
    {
     "data": {
      "text/plain": [
       "33390655.1484994"
      ]
     },
     "execution_count": 68,
     "metadata": {},
     "output_type": "execute_result"
    }
   ],
   "source": [
    "mean_squared_error(comparison['actual'], comparison['predicted'])"
   ]
  },
  {
   "cell_type": "code",
   "execution_count": 69,
   "id": "8273ce0f",
   "metadata": {},
   "outputs": [
    {
     "data": {
      "image/png": "[encoded data removed]",
      "text/plain": [
       "<Figure size 640x480 with 1 Axes>"
      ]
     },
     "metadata": {},
     "output_type": "display_data"
    }
   ],
   "source": [
    "plt.plot(comparison['actual'], label = 'actual')\n",
    "plt.plot(comparison['predicted'], label = 'predicted')\n",
    "\n",
    "plt.legend()\n",
    "\n",
    "plt.show()"
   ]
  },
  {
   "cell_type": "markdown",
   "id": "b0e20964",
   "metadata": {},
   "source": [
    "### GRU (with more layers)"
   ]
  },
  {
   "cell_type": "code",
   "execution_count": 70,
   "id": "0c2ac6dd",
   "metadata": {},
   "outputs": [],
   "source": [
    "model = keras.models.Sequential([\n",
    "    keras.layers.GRU(32, activation='relu', return_sequences=True, input_shape=[9, 1]),\n",
    "    keras.layers.GRU(32, activation='relu', return_sequences=False),\n",
    "    keras.layers.Dense(1, activation=None)\n",
    "])"
   ]
  },
  {
   "cell_type": "code",
   "execution_count": 71,
   "id": "feb12eb3",
   "metadata": {},
   "outputs": [
    {
     "name": "stdout",
     "output_type": "stream",
     "text": [
      "Epoch 1/30\n",
      "1/1 [==============================] - 4s 4s/step - loss: 2.1534\n",
      "Epoch 2/30\n",
      "1/1 [==============================] - 0s 16ms/step - loss: 2.0207\n",
      "Epoch 3/30\n",
      "1/1 [==============================] - 0s 17ms/step - loss: 1.9217\n",
      "Epoch 4/30\n",
      "1/1 [==============================] - 0s 24ms/step - loss: 1.8528\n",
      "Epoch 5/30\n",
      "1/1 [==============================] - 0s 24ms/step - loss: 1.7916\n",
      "Epoch 6/30\n",
      "1/1 [==============================] - 0s 32ms/step - loss: 1.7254\n",
      "Epoch 7/30\n",
      "1/1 [==============================] - 0s 20ms/step - loss: 1.6637\n",
      "Epoch 8/30\n",
      "1/1 [==============================] - 0s 24ms/step - loss: 1.6032\n",
      "Epoch 9/30\n",
      "1/1 [==============================] - 0s 57ms/step - loss: 1.5442\n",
      "Epoch 10/30\n",
      "1/1 [==============================] - 0s 24ms/step - loss: 1.4857\n",
      "Epoch 11/30\n",
      "1/1 [==============================] - 0s 34ms/step - loss: 1.4274\n",
      "Epoch 12/30\n",
      "1/1 [==============================] - 0s 15ms/step - loss: 1.3649\n",
      "Epoch 13/30\n",
      "1/1 [==============================] - 0s 88ms/step - loss: 1.3022\n",
      "Epoch 14/30\n",
      "1/1 [==============================] - 0s 16ms/step - loss: 1.2371\n",
      "Epoch 15/30\n",
      "1/1 [==============================] - 0s 32ms/step - loss: 1.1725\n",
      "Epoch 16/30\n",
      "1/1 [==============================] - 0s 16ms/step - loss: 1.1055\n",
      "Epoch 17/30\n",
      "1/1 [==============================] - 0s 16ms/step - loss: 1.0372\n",
      "Epoch 18/30\n",
      "1/1 [==============================] - 0s 16ms/step - loss: 0.9692\n",
      "Epoch 19/30\n",
      "1/1 [==============================] - 0s 16ms/step - loss: 0.9001\n",
      "Epoch 20/30\n",
      "1/1 [==============================] - 0s 16ms/step - loss: 0.8301\n",
      "Epoch 21/30\n",
      "1/1 [==============================] - 0s 8ms/step - loss: 0.7596\n",
      "Epoch 22/30\n",
      "1/1 [==============================] - 0s 16ms/step - loss: 0.6888\n",
      "Epoch 23/30\n",
      "1/1 [==============================] - 0s 8ms/step - loss: 0.6191\n",
      "Epoch 24/30\n",
      "1/1 [==============================] - 0s 16ms/step - loss: 0.5515\n",
      "Epoch 25/30\n",
      "1/1 [==============================] - 0s 16ms/step - loss: 0.4875\n",
      "Epoch 26/30\n",
      "1/1 [==============================] - 0s 16ms/step - loss: 0.4286\n",
      "Epoch 27/30\n",
      "1/1 [==============================] - 0s 16ms/step - loss: 0.3764\n",
      "Epoch 28/30\n",
      "1/1 [==============================] - 0s 16ms/step - loss: 0.3322\n",
      "Epoch 29/30\n",
      "1/1 [==============================] - 0s 20ms/step - loss: 0.2960\n",
      "Epoch 30/30\n",
      "1/1 [==============================] - 0s 12ms/step - loss: 0.2668\n"
     ]
    }
   ],
   "source": [
    "np.random.seed(42)\n",
    "tf.random.set_seed(42)\n",
    "\n",
    "model.compile(loss=\"mse\", optimizer='RMSprop')\n",
    "\n",
    "history = model.fit(train_x, train_target, epochs=30)"
   ]
  },
  {
   "cell_type": "markdown",
   "id": "4c6e4927",
   "metadata": {},
   "source": [
    "### Predictions"
   ]
  },
  {
   "cell_type": "code",
   "execution_count": 72,
   "id": "a37c0868",
   "metadata": {},
   "outputs": [
    {
     "name": "stdout",
     "output_type": "stream",
     "text": [
      "WARNING:tensorflow:6 out of the last 6 calls to <function Model.make_predict_function.<locals>.predict_function at 0x000002C096C1D820> triggered tf.function retracing. Tracing is expensive and the excessive number of tracings could be due to (1) creating @tf.function repeatedly in a loop, (2) passing tensors with different shapes, (3) passing Python objects instead of tensors. For (1), please define your @tf.function outside of the loop. For (2), @tf.function has reduce_retracing=True option that can avoid unnecessary retracing. For (3), please refer to https://www.tensorflow.org/guide/function#controlling_retracing and https://www.tensorflow.org/api_docs/python/tf/function for  more details.\n",
      "1/1 [==============================] - 1s 612ms/step\n"
     ]
    }
   ],
   "source": [
    "#Predict:\n",
    "y_pred = model.predict(test_x)"
   ]
  },
  {
   "cell_type": "code",
   "execution_count": 73,
   "id": "400475c9",
   "metadata": {},
   "outputs": [],
   "source": [
    "#Remember, these are standardized values. \n",
    "\n",
    "comparison = pd.DataFrame()\n",
    "comparison['actual'] = scaler.inverse_transform([test_target]).flatten()\n",
    "comparison['predicted'] = scaler.inverse_transform(y_pred).flatten()"
   ]
  },
  {
   "cell_type": "code",
   "execution_count": 74,
   "id": "dd47f819",
   "metadata": {},
   "outputs": [
    {
     "data": {
      "text/html": [
       "<div>\n",
       "<style scoped>\n",
       "    .dataframe tbody tr th:only-of-type {\n",
       "        vertical-align: middle;\n",
       "    }\n",
       "\n",
       "    .dataframe tbody tr th {\n",
       "        vertical-align: top;\n",
       "    }\n",
       "\n",
       "    .dataframe thead th {\n",
       "        text-align: right;\n",
       "    }\n",
       "</style>\n",
       "<table border=\"1\" class=\"dataframe\">\n",
       "  <thead>\n",
       "    <tr style=\"text-align: right;\">\n",
       "      <th></th>\n",
       "      <th>actual</th>\n",
       "      <th>predicted</th>\n",
       "    </tr>\n",
       "  </thead>\n",
       "  <tbody>\n",
       "    <tr>\n",
       "      <th>0</th>\n",
       "      <td>85142.75000</td>\n",
       "      <td>89389.937500</td>\n",
       "    </tr>\n",
       "    <tr>\n",
       "      <th>1</th>\n",
       "      <td>73386.20313</td>\n",
       "      <td>73637.539062</td>\n",
       "    </tr>\n",
       "    <tr>\n",
       "      <th>2</th>\n",
       "      <td>80742.50000</td>\n",
       "      <td>76955.031250</td>\n",
       "    </tr>\n",
       "  </tbody>\n",
       "</table>\n",
       "</div>"
      ],
      "text/plain": [
       "        actual     predicted\n",
       "0  85142.75000  89389.937500\n",
       "1  73386.20313  73637.539062\n",
       "2  80742.50000  76955.031250"
      ]
     },
     "execution_count": 74,
     "metadata": {},
     "output_type": "execute_result"
    }
   ],
   "source": [
    "comparison"
   ]
  },
  {
   "cell_type": "code",
   "execution_count": 75,
   "id": "e9643551",
   "metadata": {},
   "outputs": [
    {
     "data": {
      "text/plain": [
       "10815563.64778282"
      ]
     },
     "execution_count": 75,
     "metadata": {},
     "output_type": "execute_result"
    }
   ],
   "source": [
    "mean_squared_error(comparison['actual'], comparison['predicted'])"
   ]
  },
  {
   "cell_type": "code",
   "execution_count": 76,
   "id": "b5a5606f",
   "metadata": {},
   "outputs": [
    {
     "data": {
      "image/png": "[encoded data removed]",
      "text/plain": [
       "<Figure size 640x480 with 1 Axes>"
      ]
     },
     "metadata": {},
     "output_type": "display_data"
    }
   ],
   "source": [
    "plt.plot(comparison['actual'], label = 'actual')\n",
    "plt.plot(comparison['predicted'], label = 'predicted')\n",
    "\n",
    "plt.legend()\n",
    "\n",
    "plt.show()"
   ]
  },
  {
   "cell_type": "markdown",
   "id": "10314f64",
   "metadata": {},
   "source": [
    "### Conv1D"
   ]
  },
  {
   "cell_type": "code",
   "execution_count": 77,
   "id": "b8bf6211",
   "metadata": {},
   "outputs": [],
   "source": [
    "model = keras.models.Sequential([\n",
    "    keras.layers.Conv1D(filters=20, kernel_size=3, strides=1, padding=\"valid\", input_shape=[9, 1]),\n",
    "    keras.layers.GRU(32, activation='relu', return_sequences=True),\n",
    "    keras.layers.GRU(32, activation='relu', return_sequences=False),\n",
    "    keras.layers.Dense(1, activation=None)\n",
    "])"
   ]
  },
  {
   "cell_type": "code",
   "execution_count": 78,
   "id": "afbbd800",
   "metadata": {},
   "outputs": [
    {
     "name": "stdout",
     "output_type": "stream",
     "text": [
      "Epoch 1/30\n",
      "1/1 [==============================] - 4s 4s/step - loss: 2.1256\n",
      "Epoch 2/30\n",
      "1/1 [==============================] - 0s 56ms/step - loss: 2.0661\n",
      "Epoch 3/30\n",
      "1/1 [==============================] - 0s 48ms/step - loss: 2.0081\n",
      "Epoch 4/30\n",
      "1/1 [==============================] - 0s 88ms/step - loss: 1.9505\n",
      "Epoch 5/30\n",
      "1/1 [==============================] - 0s 16ms/step - loss: 1.8938\n",
      "Epoch 6/30\n",
      "1/1 [==============================] - 0s 24ms/step - loss: 1.8394\n",
      "Epoch 7/30\n",
      "1/1 [==============================] - 0s 17ms/step - loss: 1.7857\n",
      "Epoch 8/30\n",
      "1/1 [==============================] - 0s 16ms/step - loss: 1.7306\n",
      "Epoch 9/30\n",
      "1/1 [==============================] - 0s 16ms/step - loss: 1.6760\n",
      "Epoch 10/30\n",
      "1/1 [==============================] - 0s 16ms/step - loss: 1.6245\n",
      "Epoch 11/30\n",
      "1/1 [==============================] - 0s 16ms/step - loss: 1.5787\n",
      "Epoch 12/30\n",
      "1/1 [==============================] - 0s 20ms/step - loss: 1.5332\n",
      "Epoch 13/30\n",
      "1/1 [==============================] - 0s 16ms/step - loss: 1.4861\n",
      "Epoch 14/30\n",
      "1/1 [==============================] - 0s 16ms/step - loss: 1.4402\n",
      "Epoch 15/30\n",
      "1/1 [==============================] - 0s 16ms/step - loss: 1.3933\n",
      "Epoch 16/30\n",
      "1/1 [==============================] - 0s 24ms/step - loss: 1.3444\n",
      "Epoch 17/30\n",
      "1/1 [==============================] - 0s 24ms/step - loss: 1.2928\n",
      "Epoch 18/30\n",
      "1/1 [==============================] - 0s 16ms/step - loss: 1.2393\n",
      "Epoch 19/30\n",
      "1/1 [==============================] - 0s 16ms/step - loss: 1.1837\n",
      "Epoch 20/30\n",
      "1/1 [==============================] - 0s 16ms/step - loss: 1.1267\n",
      "Epoch 21/30\n",
      "1/1 [==============================] - 0s 12ms/step - loss: 1.0680\n",
      "Epoch 22/30\n",
      "1/1 [==============================] - 0s 16ms/step - loss: 1.0080\n",
      "Epoch 23/30\n",
      "1/1 [==============================] - 0s 16ms/step - loss: 0.9471\n",
      "Epoch 24/30\n",
      "1/1 [==============================] - 0s 16ms/step - loss: 0.8862\n",
      "Epoch 25/30\n",
      "1/1 [==============================] - 0s 32ms/step - loss: 0.8265\n",
      "Epoch 26/30\n",
      "1/1 [==============================] - 0s 16ms/step - loss: 0.7681\n",
      "Epoch 27/30\n",
      "1/1 [==============================] - 0s 16ms/step - loss: 0.7122\n",
      "Epoch 28/30\n",
      "1/1 [==============================] - 0s 16ms/step - loss: 0.6590\n",
      "Epoch 29/30\n",
      "1/1 [==============================] - 0s 16ms/step - loss: 0.6097\n",
      "Epoch 30/30\n",
      "1/1 [==============================] - 0s 8ms/step - loss: 0.5653\n"
     ]
    }
   ],
   "source": [
    "np.random.seed(42)\n",
    "tf.random.set_seed(42)\n",
    "\n",
    "model.compile(loss=\"mse\", optimizer='Adam')\n",
    "\n",
    "history = model.fit(train_x, train_target, epochs=30)"
   ]
  },
  {
   "cell_type": "markdown",
   "id": "4c093153",
   "metadata": {},
   "source": [
    "### Predictions"
   ]
  },
  {
   "cell_type": "code",
   "execution_count": 79,
   "id": "c3680419",
   "metadata": {},
   "outputs": [
    {
     "name": "stdout",
     "output_type": "stream",
     "text": [
      "1/1 [==============================] - 1s 651ms/step\n"
     ]
    }
   ],
   "source": [
    "#Predict:\n",
    "y_pred = model.predict(test_x)"
   ]
  },
  {
   "cell_type": "code",
   "execution_count": 80,
   "id": "b05b3df0",
   "metadata": {},
   "outputs": [],
   "source": [
    "#Remember, these are standardized values. \n",
    "\n",
    "comparison = pd.DataFrame()\n",
    "comparison['actual'] = scaler.inverse_transform([test_target]).flatten()\n",
    "comparison['predicted'] = scaler.inverse_transform(y_pred).flatten()"
   ]
  },
  {
   "cell_type": "code",
   "execution_count": 81,
   "id": "0c11c830",
   "metadata": {},
   "outputs": [
    {
     "data": {
      "text/html": [
       "<div>\n",
       "<style scoped>\n",
       "    .dataframe tbody tr th:only-of-type {\n",
       "        vertical-align: middle;\n",
       "    }\n",
       "\n",
       "    .dataframe tbody tr th {\n",
       "        vertical-align: top;\n",
       "    }\n",
       "\n",
       "    .dataframe thead th {\n",
       "        text-align: right;\n",
       "    }\n",
       "</style>\n",
       "<table border=\"1\" class=\"dataframe\">\n",
       "  <thead>\n",
       "    <tr style=\"text-align: right;\">\n",
       "      <th></th>\n",
       "      <th>actual</th>\n",
       "      <th>predicted</th>\n",
       "    </tr>\n",
       "  </thead>\n",
       "  <tbody>\n",
       "    <tr>\n",
       "      <th>0</th>\n",
       "      <td>85142.75000</td>\n",
       "      <td>89189.523438</td>\n",
       "    </tr>\n",
       "    <tr>\n",
       "      <th>1</th>\n",
       "      <td>73386.20313</td>\n",
       "      <td>76088.289062</td>\n",
       "    </tr>\n",
       "    <tr>\n",
       "      <th>2</th>\n",
       "      <td>80742.50000</td>\n",
       "      <td>77970.726562</td>\n",
       "    </tr>\n",
       "  </tbody>\n",
       "</table>\n",
       "</div>"
      ],
      "text/plain": [
       "        actual     predicted\n",
       "0  85142.75000  89189.523438\n",
       "1  73386.20313  76088.289062\n",
       "2  80742.50000  77970.726562"
      ]
     },
     "execution_count": 81,
     "metadata": {},
     "output_type": "execute_result"
    }
   ],
   "source": [
    "comparison"
   ]
  },
  {
   "cell_type": "code",
   "execution_count": 82,
   "id": "13a4c337",
   "metadata": {},
   "outputs": [
    {
     "data": {
      "text/plain": [
       "10453457.209966853"
      ]
     },
     "execution_count": 82,
     "metadata": {},
     "output_type": "execute_result"
    }
   ],
   "source": [
    "mean_squared_error(comparison['actual'], comparison['predicted'])"
   ]
  },
  {
   "attachments": {},
   "cell_type": "markdown",
   "id": "719bdb8c",
   "metadata": {},
   "source": [
    "# ANALYSIS"
   ]
  },
  {
   "attachments": {},
   "cell_type": "markdown",
   "id": "27d71a85",
   "metadata": {},
   "source": [
    "Following are the conclusions that can br drawn form above analysis\n",
    "\n",
    "* CNN has the best RMSE value of the entire lot and it is 3710308.07465299. \n",
    "* The LSTM model with 1 layer has a RMSE of 10815563.6477828 and with the addition of multiple layers, the RMSE has become 10453457.2099668. This indicate that the LSTM performed well with multiple layers on the given data.\n",
    "* Normal NN and Simple RNN have consideraably higher RMSE values which are 33390655.1484994 and 21634275.940881 respectively.\n",
    "* RNN with multiple layers has performed better that RNN with a single layer.\n",
    "* NOTE: RMSE is only one of the factors while finalizing the model. The other factors that are worth considering are Execution Time, Complexity, Inference time, etc "
   ]
  }
 ],
 "metadata": {
  "kernelspec": {
   "display_name": "Python 3 (ipykernel)",
   "language": "python",
   "name": "python3"
  },
  "language_info": {
   "codemirror_mode": {
    "name": "ipython",
    "version": 3
   },
   "file_extension": ".py",
   "mimetype": "text/x-python",
   "name": "python",
   "nbconvert_exporter": "python",
   "pygments_lexer": "ipython3",
   "version": "3.9.16"
  }
 },
 "nbformat": 4,
 "nbformat_minor": 5
}
