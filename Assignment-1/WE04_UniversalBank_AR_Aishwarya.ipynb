{
  "cells": [
    {
      "cell_type": "markdown",
      "id": "47c5fa5b",
      "metadata": {
        "id": "47c5fa5b"
      },
      "source": [
        "## 1.0 IMPORT MODULES"
      ]
    },
    {
      "cell_type": "code",
      "execution_count": 2,
      "id": "7ea0e821",
      "metadata": {
        "id": "7ea0e821"
      },
      "outputs": [],
      "source": [
        "# import numpy and pandas libraries\n",
        "import numpy as np\n",
        "import pandas as pd\n",
        "from sklearn.preprocessing import LabelEncoder\n",
        "from sklearn.model_selection import train_test_split\n",
        "from sklearn import preprocessing\n",
        "from sklearn.impute import SimpleImputer\n",
        "from sklearn.model_selection import GridSearchCV, RandomizedSearchCV\n",
        "from sklearn.tree import DecisionTreeClassifier \n",
        "from sklearn.metrics import confusion_matrix\n",
        "from sklearn.svm import SVC\n",
        "from sklearn.linear_model import LogisticRegression\n",
        "\n",
        "np.random.seed(1)"
      ]
    },
    {
      "cell_type": "markdown",
      "id": "f3f654b2",
      "metadata": {
        "id": "f3f654b2"
      },
      "source": [
        "## 2.0 LOAD DATA"
      ]
    },
    {
      "cell_type": "code",
      "execution_count": 3,
      "id": "086c48bd",
      "metadata": {
        "id": "086c48bd"
      },
      "outputs": [],
      "source": [
        "# load data\n",
        "UniversalBank = pd.read_csv(\"UniversalBank.csv\")"
      ]
    },
    {
      "cell_type": "markdown",
      "id": "e0c94615",
      "metadata": {
        "id": "e0c94615"
      },
      "source": [
        "## 3.0 INITIAL EXPLORATION OF DATA"
      ]
    },
    {
      "cell_type": "code",
      "execution_count": 4,
      "id": "d9d3e1c1",
      "metadata": {
        "colab": {
          "base_uri": "https://localhost:8080/"
        },
        "id": "d9d3e1c1",
        "outputId": "243f7f1c-9fe5-4da8-de79-db5293246191"
      },
      "outputs": [
        {
          "name": "stdout",
          "output_type": "stream",
          "text": [
            "<class 'pandas.core.frame.DataFrame'>\n",
            "RangeIndex: 5000 entries, 0 to 4999\n",
            "Data columns (total 14 columns):\n",
            " #   Column              Non-Null Count  Dtype  \n",
            "---  ------              --------------  -----  \n",
            " 0   ID                  5000 non-null   int64  \n",
            " 1   Age                 5000 non-null   int64  \n",
            " 2   Experience          5000 non-null   int64  \n",
            " 3   Income              5000 non-null   int64  \n",
            " 4   ZIP Code            5000 non-null   int64  \n",
            " 5   Family              5000 non-null   int64  \n",
            " 6   CCAvg               5000 non-null   float64\n",
            " 7   Education           5000 non-null   int64  \n",
            " 8   Mortgage            5000 non-null   int64  \n",
            " 9   Personal Loan       5000 non-null   int64  \n",
            " 10  Securities Account  5000 non-null   int64  \n",
            " 11  CD Account          5000 non-null   int64  \n",
            " 12  Online              5000 non-null   int64  \n",
            " 13  CreditCard          5000 non-null   int64  \n",
            "dtypes: float64(1), int64(13)\n",
            "memory usage: 547.0 KB\n"
          ]
        }
      ],
      "source": [
        "UniversalBank.info()"
      ]
    },
    {
      "cell_type": "markdown",
      "id": "5375a864",
      "metadata": {
        "id": "5375a864"
      },
      "source": [
        "Here, there are no null values and no categorical values. No encoding is needed."
      ]
    },
    {
      "cell_type": "code",
      "execution_count": 5,
      "id": "0fdf8e64",
      "metadata": {
        "colab": {
          "base_uri": "https://localhost:8080/",
          "height": 676
        },
        "id": "0fdf8e64",
        "outputId": "6144f4af-2482-448e-9e04-eecb39d493d3"
      },
      "outputs": [
        {
          "data": {
            "text/html": [
              "<div>\n",
              "<style scoped>\n",
              "    .dataframe tbody tr th:only-of-type {\n",
              "        vertical-align: middle;\n",
              "    }\n",
              "\n",
              "    .dataframe tbody tr th {\n",
              "        vertical-align: top;\n",
              "    }\n",
              "\n",
              "    .dataframe thead th {\n",
              "        text-align: right;\n",
              "    }\n",
              "</style>\n",
              "<table border=\"1\" class=\"dataframe\">\n",
              "  <thead>\n",
              "    <tr style=\"text-align: right;\">\n",
              "      <th></th>\n",
              "      <th>ID</th>\n",
              "      <th>Age</th>\n",
              "      <th>Experience</th>\n",
              "      <th>Income</th>\n",
              "      <th>ZIP Code</th>\n",
              "      <th>Family</th>\n",
              "      <th>CCAvg</th>\n",
              "      <th>Education</th>\n",
              "      <th>Mortgage</th>\n",
              "      <th>Personal Loan</th>\n",
              "      <th>Securities Account</th>\n",
              "      <th>CD Account</th>\n",
              "      <th>Online</th>\n",
              "      <th>CreditCard</th>\n",
              "    </tr>\n",
              "  </thead>\n",
              "  <tbody>\n",
              "    <tr>\n",
              "      <th>0</th>\n",
              "      <td>1</td>\n",
              "      <td>25</td>\n",
              "      <td>1</td>\n",
              "      <td>49</td>\n",
              "      <td>91107</td>\n",
              "      <td>4</td>\n",
              "      <td>1.6</td>\n",
              "      <td>1</td>\n",
              "      <td>0</td>\n",
              "      <td>0</td>\n",
              "      <td>1</td>\n",
              "      <td>0</td>\n",
              "      <td>0</td>\n",
              "      <td>0</td>\n",
              "    </tr>\n",
              "    <tr>\n",
              "      <th>1</th>\n",
              "      <td>2</td>\n",
              "      <td>45</td>\n",
              "      <td>19</td>\n",
              "      <td>34</td>\n",
              "      <td>90089</td>\n",
              "      <td>3</td>\n",
              "      <td>1.5</td>\n",
              "      <td>1</td>\n",
              "      <td>0</td>\n",
              "      <td>0</td>\n",
              "      <td>1</td>\n",
              "      <td>0</td>\n",
              "      <td>0</td>\n",
              "      <td>0</td>\n",
              "    </tr>\n",
              "    <tr>\n",
              "      <th>2</th>\n",
              "      <td>3</td>\n",
              "      <td>39</td>\n",
              "      <td>15</td>\n",
              "      <td>11</td>\n",
              "      <td>94720</td>\n",
              "      <td>1</td>\n",
              "      <td>1.0</td>\n",
              "      <td>1</td>\n",
              "      <td>0</td>\n",
              "      <td>0</td>\n",
              "      <td>0</td>\n",
              "      <td>0</td>\n",
              "      <td>0</td>\n",
              "      <td>0</td>\n",
              "    </tr>\n",
              "    <tr>\n",
              "      <th>3</th>\n",
              "      <td>4</td>\n",
              "      <td>35</td>\n",
              "      <td>9</td>\n",
              "      <td>100</td>\n",
              "      <td>94112</td>\n",
              "      <td>1</td>\n",
              "      <td>2.7</td>\n",
              "      <td>2</td>\n",
              "      <td>0</td>\n",
              "      <td>0</td>\n",
              "      <td>0</td>\n",
              "      <td>0</td>\n",
              "      <td>0</td>\n",
              "      <td>0</td>\n",
              "    </tr>\n",
              "    <tr>\n",
              "      <th>4</th>\n",
              "      <td>5</td>\n",
              "      <td>35</td>\n",
              "      <td>8</td>\n",
              "      <td>45</td>\n",
              "      <td>91330</td>\n",
              "      <td>4</td>\n",
              "      <td>1.0</td>\n",
              "      <td>2</td>\n",
              "      <td>0</td>\n",
              "      <td>0</td>\n",
              "      <td>0</td>\n",
              "      <td>0</td>\n",
              "      <td>0</td>\n",
              "      <td>1</td>\n",
              "    </tr>\n",
              "    <tr>\n",
              "      <th>5</th>\n",
              "      <td>6</td>\n",
              "      <td>37</td>\n",
              "      <td>13</td>\n",
              "      <td>29</td>\n",
              "      <td>92121</td>\n",
              "      <td>4</td>\n",
              "      <td>0.4</td>\n",
              "      <td>2</td>\n",
              "      <td>155</td>\n",
              "      <td>0</td>\n",
              "      <td>0</td>\n",
              "      <td>0</td>\n",
              "      <td>1</td>\n",
              "      <td>0</td>\n",
              "    </tr>\n",
              "    <tr>\n",
              "      <th>6</th>\n",
              "      <td>7</td>\n",
              "      <td>53</td>\n",
              "      <td>27</td>\n",
              "      <td>72</td>\n",
              "      <td>91711</td>\n",
              "      <td>2</td>\n",
              "      <td>1.5</td>\n",
              "      <td>2</td>\n",
              "      <td>0</td>\n",
              "      <td>0</td>\n",
              "      <td>0</td>\n",
              "      <td>0</td>\n",
              "      <td>1</td>\n",
              "      <td>0</td>\n",
              "    </tr>\n",
              "    <tr>\n",
              "      <th>7</th>\n",
              "      <td>8</td>\n",
              "      <td>50</td>\n",
              "      <td>24</td>\n",
              "      <td>22</td>\n",
              "      <td>93943</td>\n",
              "      <td>1</td>\n",
              "      <td>0.3</td>\n",
              "      <td>3</td>\n",
              "      <td>0</td>\n",
              "      <td>0</td>\n",
              "      <td>0</td>\n",
              "      <td>0</td>\n",
              "      <td>0</td>\n",
              "      <td>1</td>\n",
              "    </tr>\n",
              "    <tr>\n",
              "      <th>8</th>\n",
              "      <td>9</td>\n",
              "      <td>35</td>\n",
              "      <td>10</td>\n",
              "      <td>81</td>\n",
              "      <td>90089</td>\n",
              "      <td>3</td>\n",
              "      <td>0.6</td>\n",
              "      <td>2</td>\n",
              "      <td>104</td>\n",
              "      <td>0</td>\n",
              "      <td>0</td>\n",
              "      <td>0</td>\n",
              "      <td>1</td>\n",
              "      <td>0</td>\n",
              "    </tr>\n",
              "    <tr>\n",
              "      <th>9</th>\n",
              "      <td>10</td>\n",
              "      <td>34</td>\n",
              "      <td>9</td>\n",
              "      <td>180</td>\n",
              "      <td>93023</td>\n",
              "      <td>1</td>\n",
              "      <td>8.9</td>\n",
              "      <td>3</td>\n",
              "      <td>0</td>\n",
              "      <td>1</td>\n",
              "      <td>0</td>\n",
              "      <td>0</td>\n",
              "      <td>0</td>\n",
              "      <td>0</td>\n",
              "    </tr>\n",
              "    <tr>\n",
              "      <th>10</th>\n",
              "      <td>11</td>\n",
              "      <td>65</td>\n",
              "      <td>39</td>\n",
              "      <td>105</td>\n",
              "      <td>94710</td>\n",
              "      <td>4</td>\n",
              "      <td>2.4</td>\n",
              "      <td>3</td>\n",
              "      <td>0</td>\n",
              "      <td>0</td>\n",
              "      <td>0</td>\n",
              "      <td>0</td>\n",
              "      <td>0</td>\n",
              "      <td>0</td>\n",
              "    </tr>\n",
              "    <tr>\n",
              "      <th>11</th>\n",
              "      <td>12</td>\n",
              "      <td>29</td>\n",
              "      <td>5</td>\n",
              "      <td>45</td>\n",
              "      <td>90277</td>\n",
              "      <td>3</td>\n",
              "      <td>0.1</td>\n",
              "      <td>2</td>\n",
              "      <td>0</td>\n",
              "      <td>0</td>\n",
              "      <td>0</td>\n",
              "      <td>0</td>\n",
              "      <td>1</td>\n",
              "      <td>0</td>\n",
              "    </tr>\n",
              "    <tr>\n",
              "      <th>12</th>\n",
              "      <td>13</td>\n",
              "      <td>48</td>\n",
              "      <td>23</td>\n",
              "      <td>114</td>\n",
              "      <td>93106</td>\n",
              "      <td>2</td>\n",
              "      <td>3.8</td>\n",
              "      <td>3</td>\n",
              "      <td>0</td>\n",
              "      <td>0</td>\n",
              "      <td>1</td>\n",
              "      <td>0</td>\n",
              "      <td>0</td>\n",
              "      <td>0</td>\n",
              "    </tr>\n",
              "    <tr>\n",
              "      <th>13</th>\n",
              "      <td>14</td>\n",
              "      <td>59</td>\n",
              "      <td>32</td>\n",
              "      <td>40</td>\n",
              "      <td>94920</td>\n",
              "      <td>4</td>\n",
              "      <td>2.5</td>\n",
              "      <td>2</td>\n",
              "      <td>0</td>\n",
              "      <td>0</td>\n",
              "      <td>0</td>\n",
              "      <td>0</td>\n",
              "      <td>1</td>\n",
              "      <td>0</td>\n",
              "    </tr>\n",
              "    <tr>\n",
              "      <th>14</th>\n",
              "      <td>15</td>\n",
              "      <td>67</td>\n",
              "      <td>41</td>\n",
              "      <td>112</td>\n",
              "      <td>91741</td>\n",
              "      <td>1</td>\n",
              "      <td>2.0</td>\n",
              "      <td>1</td>\n",
              "      <td>0</td>\n",
              "      <td>0</td>\n",
              "      <td>1</td>\n",
              "      <td>0</td>\n",
              "      <td>0</td>\n",
              "      <td>0</td>\n",
              "    </tr>\n",
              "    <tr>\n",
              "      <th>15</th>\n",
              "      <td>16</td>\n",
              "      <td>60</td>\n",
              "      <td>30</td>\n",
              "      <td>22</td>\n",
              "      <td>95054</td>\n",
              "      <td>1</td>\n",
              "      <td>1.5</td>\n",
              "      <td>3</td>\n",
              "      <td>0</td>\n",
              "      <td>0</td>\n",
              "      <td>0</td>\n",
              "      <td>0</td>\n",
              "      <td>1</td>\n",
              "      <td>1</td>\n",
              "    </tr>\n",
              "    <tr>\n",
              "      <th>16</th>\n",
              "      <td>17</td>\n",
              "      <td>38</td>\n",
              "      <td>14</td>\n",
              "      <td>130</td>\n",
              "      <td>95010</td>\n",
              "      <td>4</td>\n",
              "      <td>4.7</td>\n",
              "      <td>3</td>\n",
              "      <td>134</td>\n",
              "      <td>1</td>\n",
              "      <td>0</td>\n",
              "      <td>0</td>\n",
              "      <td>0</td>\n",
              "      <td>0</td>\n",
              "    </tr>\n",
              "    <tr>\n",
              "      <th>17</th>\n",
              "      <td>18</td>\n",
              "      <td>42</td>\n",
              "      <td>18</td>\n",
              "      <td>81</td>\n",
              "      <td>94305</td>\n",
              "      <td>4</td>\n",
              "      <td>2.4</td>\n",
              "      <td>1</td>\n",
              "      <td>0</td>\n",
              "      <td>0</td>\n",
              "      <td>0</td>\n",
              "      <td>0</td>\n",
              "      <td>0</td>\n",
              "      <td>0</td>\n",
              "    </tr>\n",
              "    <tr>\n",
              "      <th>18</th>\n",
              "      <td>19</td>\n",
              "      <td>46</td>\n",
              "      <td>21</td>\n",
              "      <td>193</td>\n",
              "      <td>91604</td>\n",
              "      <td>2</td>\n",
              "      <td>8.1</td>\n",
              "      <td>3</td>\n",
              "      <td>0</td>\n",
              "      <td>1</td>\n",
              "      <td>0</td>\n",
              "      <td>0</td>\n",
              "      <td>0</td>\n",
              "      <td>0</td>\n",
              "    </tr>\n",
              "    <tr>\n",
              "      <th>19</th>\n",
              "      <td>20</td>\n",
              "      <td>55</td>\n",
              "      <td>28</td>\n",
              "      <td>21</td>\n",
              "      <td>94720</td>\n",
              "      <td>1</td>\n",
              "      <td>0.5</td>\n",
              "      <td>2</td>\n",
              "      <td>0</td>\n",
              "      <td>0</td>\n",
              "      <td>1</td>\n",
              "      <td>0</td>\n",
              "      <td>0</td>\n",
              "      <td>1</td>\n",
              "    </tr>\n",
              "  </tbody>\n",
              "</table>\n",
              "</div>"
            ],
            "text/plain": [
              "    ID  Age  Experience  Income  ZIP Code  Family  CCAvg  Education  Mortgage  \\\n",
              "0    1   25           1      49     91107       4    1.6          1         0   \n",
              "1    2   45          19      34     90089       3    1.5          1         0   \n",
              "2    3   39          15      11     94720       1    1.0          1         0   \n",
              "3    4   35           9     100     94112       1    2.7          2         0   \n",
              "4    5   35           8      45     91330       4    1.0          2         0   \n",
              "5    6   37          13      29     92121       4    0.4          2       155   \n",
              "6    7   53          27      72     91711       2    1.5          2         0   \n",
              "7    8   50          24      22     93943       1    0.3          3         0   \n",
              "8    9   35          10      81     90089       3    0.6          2       104   \n",
              "9   10   34           9     180     93023       1    8.9          3         0   \n",
              "10  11   65          39     105     94710       4    2.4          3         0   \n",
              "11  12   29           5      45     90277       3    0.1          2         0   \n",
              "12  13   48          23     114     93106       2    3.8          3         0   \n",
              "13  14   59          32      40     94920       4    2.5          2         0   \n",
              "14  15   67          41     112     91741       1    2.0          1         0   \n",
              "15  16   60          30      22     95054       1    1.5          3         0   \n",
              "16  17   38          14     130     95010       4    4.7          3       134   \n",
              "17  18   42          18      81     94305       4    2.4          1         0   \n",
              "18  19   46          21     193     91604       2    8.1          3         0   \n",
              "19  20   55          28      21     94720       1    0.5          2         0   \n",
              "\n",
              "    Personal Loan  Securities Account  CD Account  Online  CreditCard  \n",
              "0               0                   1           0       0           0  \n",
              "1               0                   1           0       0           0  \n",
              "2               0                   0           0       0           0  \n",
              "3               0                   0           0       0           0  \n",
              "4               0                   0           0       0           1  \n",
              "5               0                   0           0       1           0  \n",
              "6               0                   0           0       1           0  \n",
              "7               0                   0           0       0           1  \n",
              "8               0                   0           0       1           0  \n",
              "9               1                   0           0       0           0  \n",
              "10              0                   0           0       0           0  \n",
              "11              0                   0           0       1           0  \n",
              "12              0                   1           0       0           0  \n",
              "13              0                   0           0       1           0  \n",
              "14              0                   1           0       0           0  \n",
              "15              0                   0           0       1           1  \n",
              "16              1                   0           0       0           0  \n",
              "17              0                   0           0       0           0  \n",
              "18              1                   0           0       0           0  \n",
              "19              0                   1           0       0           1  "
            ]
          },
          "execution_count": 5,
          "metadata": {},
          "output_type": "execute_result"
        }
      ],
      "source": [
        "UniversalBank.head(20)"
      ]
    },
    {
      "cell_type": "code",
      "execution_count": 6,
      "id": "0c8a4e2e",
      "metadata": {
        "colab": {
          "base_uri": "https://localhost:8080/",
          "height": 381
        },
        "id": "0c8a4e2e",
        "outputId": "cf8d4cd3-0ed6-4709-9199-0295ef2f84ba"
      },
      "outputs": [
        {
          "data": {
            "text/html": [
              "<div>\n",
              "<style scoped>\n",
              "    .dataframe tbody tr th:only-of-type {\n",
              "        vertical-align: middle;\n",
              "    }\n",
              "\n",
              "    .dataframe tbody tr th {\n",
              "        vertical-align: top;\n",
              "    }\n",
              "\n",
              "    .dataframe thead th {\n",
              "        text-align: right;\n",
              "    }\n",
              "</style>\n",
              "<table border=\"1\" class=\"dataframe\">\n",
              "  <thead>\n",
              "    <tr style=\"text-align: right;\">\n",
              "      <th></th>\n",
              "      <th>ID</th>\n",
              "      <th>Age</th>\n",
              "      <th>Experience</th>\n",
              "      <th>Income</th>\n",
              "      <th>ZIP Code</th>\n",
              "      <th>Family</th>\n",
              "      <th>CCAvg</th>\n",
              "      <th>Education</th>\n",
              "      <th>Mortgage</th>\n",
              "      <th>Personal Loan</th>\n",
              "      <th>Securities Account</th>\n",
              "      <th>CD Account</th>\n",
              "      <th>Online</th>\n",
              "      <th>CreditCard</th>\n",
              "    </tr>\n",
              "  </thead>\n",
              "  <tbody>\n",
              "    <tr>\n",
              "      <th>count</th>\n",
              "      <td>5000.000000</td>\n",
              "      <td>5000.000000</td>\n",
              "      <td>5000.000000</td>\n",
              "      <td>5000.000000</td>\n",
              "      <td>5000.000000</td>\n",
              "      <td>5000.000000</td>\n",
              "      <td>5000.000000</td>\n",
              "      <td>5000.000000</td>\n",
              "      <td>5000.000000</td>\n",
              "      <td>5000.000000</td>\n",
              "      <td>5000.000000</td>\n",
              "      <td>5000.00000</td>\n",
              "      <td>5000.000000</td>\n",
              "      <td>5000.000000</td>\n",
              "    </tr>\n",
              "    <tr>\n",
              "      <th>mean</th>\n",
              "      <td>2500.500000</td>\n",
              "      <td>45.338400</td>\n",
              "      <td>20.104600</td>\n",
              "      <td>73.774200</td>\n",
              "      <td>93152.503000</td>\n",
              "      <td>2.396400</td>\n",
              "      <td>1.937938</td>\n",
              "      <td>1.881000</td>\n",
              "      <td>56.498800</td>\n",
              "      <td>0.096000</td>\n",
              "      <td>0.104400</td>\n",
              "      <td>0.06040</td>\n",
              "      <td>0.596800</td>\n",
              "      <td>0.294000</td>\n",
              "    </tr>\n",
              "    <tr>\n",
              "      <th>std</th>\n",
              "      <td>1443.520003</td>\n",
              "      <td>11.463166</td>\n",
              "      <td>11.467954</td>\n",
              "      <td>46.033729</td>\n",
              "      <td>2121.852197</td>\n",
              "      <td>1.147663</td>\n",
              "      <td>1.747659</td>\n",
              "      <td>0.839869</td>\n",
              "      <td>101.713802</td>\n",
              "      <td>0.294621</td>\n",
              "      <td>0.305809</td>\n",
              "      <td>0.23825</td>\n",
              "      <td>0.490589</td>\n",
              "      <td>0.455637</td>\n",
              "    </tr>\n",
              "    <tr>\n",
              "      <th>min</th>\n",
              "      <td>1.000000</td>\n",
              "      <td>23.000000</td>\n",
              "      <td>-3.000000</td>\n",
              "      <td>8.000000</td>\n",
              "      <td>9307.000000</td>\n",
              "      <td>1.000000</td>\n",
              "      <td>0.000000</td>\n",
              "      <td>1.000000</td>\n",
              "      <td>0.000000</td>\n",
              "      <td>0.000000</td>\n",
              "      <td>0.000000</td>\n",
              "      <td>0.00000</td>\n",
              "      <td>0.000000</td>\n",
              "      <td>0.000000</td>\n",
              "    </tr>\n",
              "    <tr>\n",
              "      <th>25%</th>\n",
              "      <td>1250.750000</td>\n",
              "      <td>35.000000</td>\n",
              "      <td>10.000000</td>\n",
              "      <td>39.000000</td>\n",
              "      <td>91911.000000</td>\n",
              "      <td>1.000000</td>\n",
              "      <td>0.700000</td>\n",
              "      <td>1.000000</td>\n",
              "      <td>0.000000</td>\n",
              "      <td>0.000000</td>\n",
              "      <td>0.000000</td>\n",
              "      <td>0.00000</td>\n",
              "      <td>0.000000</td>\n",
              "      <td>0.000000</td>\n",
              "    </tr>\n",
              "    <tr>\n",
              "      <th>50%</th>\n",
              "      <td>2500.500000</td>\n",
              "      <td>45.000000</td>\n",
              "      <td>20.000000</td>\n",
              "      <td>64.000000</td>\n",
              "      <td>93437.000000</td>\n",
              "      <td>2.000000</td>\n",
              "      <td>1.500000</td>\n",
              "      <td>2.000000</td>\n",
              "      <td>0.000000</td>\n",
              "      <td>0.000000</td>\n",
              "      <td>0.000000</td>\n",
              "      <td>0.00000</td>\n",
              "      <td>1.000000</td>\n",
              "      <td>0.000000</td>\n",
              "    </tr>\n",
              "    <tr>\n",
              "      <th>75%</th>\n",
              "      <td>3750.250000</td>\n",
              "      <td>55.000000</td>\n",
              "      <td>30.000000</td>\n",
              "      <td>98.000000</td>\n",
              "      <td>94608.000000</td>\n",
              "      <td>3.000000</td>\n",
              "      <td>2.500000</td>\n",
              "      <td>3.000000</td>\n",
              "      <td>101.000000</td>\n",
              "      <td>0.000000</td>\n",
              "      <td>0.000000</td>\n",
              "      <td>0.00000</td>\n",
              "      <td>1.000000</td>\n",
              "      <td>1.000000</td>\n",
              "    </tr>\n",
              "    <tr>\n",
              "      <th>max</th>\n",
              "      <td>5000.000000</td>\n",
              "      <td>67.000000</td>\n",
              "      <td>43.000000</td>\n",
              "      <td>224.000000</td>\n",
              "      <td>96651.000000</td>\n",
              "      <td>4.000000</td>\n",
              "      <td>10.000000</td>\n",
              "      <td>3.000000</td>\n",
              "      <td>635.000000</td>\n",
              "      <td>1.000000</td>\n",
              "      <td>1.000000</td>\n",
              "      <td>1.00000</td>\n",
              "      <td>1.000000</td>\n",
              "      <td>1.000000</td>\n",
              "    </tr>\n",
              "  </tbody>\n",
              "</table>\n",
              "</div>"
            ],
            "text/plain": [
              "                ID          Age   Experience       Income      ZIP Code  \\\n",
              "count  5000.000000  5000.000000  5000.000000  5000.000000   5000.000000   \n",
              "mean   2500.500000    45.338400    20.104600    73.774200  93152.503000   \n",
              "std    1443.520003    11.463166    11.467954    46.033729   2121.852197   \n",
              "min       1.000000    23.000000    -3.000000     8.000000   9307.000000   \n",
              "25%    1250.750000    35.000000    10.000000    39.000000  91911.000000   \n",
              "50%    2500.500000    45.000000    20.000000    64.000000  93437.000000   \n",
              "75%    3750.250000    55.000000    30.000000    98.000000  94608.000000   \n",
              "max    5000.000000    67.000000    43.000000   224.000000  96651.000000   \n",
              "\n",
              "            Family        CCAvg    Education     Mortgage  Personal Loan  \\\n",
              "count  5000.000000  5000.000000  5000.000000  5000.000000    5000.000000   \n",
              "mean      2.396400     1.937938     1.881000    56.498800       0.096000   \n",
              "std       1.147663     1.747659     0.839869   101.713802       0.294621   \n",
              "min       1.000000     0.000000     1.000000     0.000000       0.000000   \n",
              "25%       1.000000     0.700000     1.000000     0.000000       0.000000   \n",
              "50%       2.000000     1.500000     2.000000     0.000000       0.000000   \n",
              "75%       3.000000     2.500000     3.000000   101.000000       0.000000   \n",
              "max       4.000000    10.000000     3.000000   635.000000       1.000000   \n",
              "\n",
              "       Securities Account  CD Account       Online   CreditCard  \n",
              "count         5000.000000  5000.00000  5000.000000  5000.000000  \n",
              "mean             0.104400     0.06040     0.596800     0.294000  \n",
              "std              0.305809     0.23825     0.490589     0.455637  \n",
              "min              0.000000     0.00000     0.000000     0.000000  \n",
              "25%              0.000000     0.00000     0.000000     0.000000  \n",
              "50%              0.000000     0.00000     1.000000     0.000000  \n",
              "75%              0.000000     0.00000     1.000000     1.000000  \n",
              "max              1.000000     1.00000     1.000000     1.000000  "
            ]
          },
          "execution_count": 6,
          "metadata": {},
          "output_type": "execute_result"
        }
      ],
      "source": [
        "UniversalBank.describe()"
      ]
    },
    {
      "cell_type": "code",
      "execution_count": 7,
      "id": "b85af7c7",
      "metadata": {
        "colab": {
          "base_uri": "https://localhost:8080/"
        },
        "id": "b85af7c7",
        "outputId": "cf04ded3-dc15-4cb9-836a-2f2d0aeb9428"
      },
      "outputs": [
        {
          "data": {
            "text/plain": [
              "ID                    0\n",
              "Age                   0\n",
              "Experience            0\n",
              "Income                0\n",
              "ZIP Code              0\n",
              "Family                0\n",
              "CCAvg                 0\n",
              "Education             0\n",
              "Mortgage              0\n",
              "Personal Loan         0\n",
              "Securities Account    0\n",
              "CD Account            0\n",
              "Online                0\n",
              "CreditCard            0\n",
              "dtype: int64"
            ]
          },
          "execution_count": 7,
          "metadata": {},
          "output_type": "execute_result"
        }
      ],
      "source": [
        "UniversalBank.isna().sum()"
      ]
    },
    {
      "cell_type": "markdown",
      "id": "15ade42f",
      "metadata": {
        "id": "15ade42f"
      },
      "source": [
        "## ENCODING "
      ]
    },
    {
      "cell_type": "code",
      "execution_count": 8,
      "id": "e429a8cb",
      "metadata": {
        "id": "e429a8cb"
      },
      "outputs": [],
      "source": [
        "# One-hot encoding the family and education columns\n",
        "\n",
        "family = pd.get_dummies(UniversalBank['Family'], prefix='Family')\n",
        "education = pd.get_dummies(UniversalBank['Education'], prefix='Education')\n",
        "\n",
        "# Concatenating one-hot encoded variables with the original data\n",
        "UniversalBank = pd.concat([UniversalBank,family, education], axis=1)\n",
        "\n",
        "UniversalBank = UniversalBank.drop(['Family', 'Education'], axis=1)"
      ]
    },
    {
      "cell_type": "markdown",
      "id": "4a566d96",
      "metadata": {
        "id": "4a566d96"
      },
      "source": [
        "## 4.0 SPLIT THE DATA"
      ]
    },
    {
      "cell_type": "code",
      "execution_count": 9,
      "id": "c396f10e",
      "metadata": {
        "id": "c396f10e"
      },
      "outputs": [],
      "source": [
        "# split the data into validation and training set\n",
        "train_df, test_df = train_test_split(UniversalBank, test_size=0.3)\n",
        "\n",
        "# to reduce repetition in later code, create variables to represent the columns\n",
        "# that are our predictors and target\n",
        "target = 'CD Account'\n",
        "predictors = list(UniversalBank.columns)\n",
        "predictors.remove(target)"
      ]
    },
    {
      "cell_type": "markdown",
      "id": "7ac586f5",
      "metadata": {
        "id": "7ac586f5"
      },
      "source": [
        "## SCALING"
      ]
    },
    {
      "cell_type": "code",
      "execution_count": 10,
      "id": "b816e4a3",
      "metadata": {
        "id": "b816e4a3"
      },
      "outputs": [],
      "source": [
        "# create a standard scaler and fit it to the training set of predictors\n",
        "scaler = preprocessing.StandardScaler()\n",
        "\n",
        "# standardizing variables\n",
        "columns_to_standardize = [\"Age\", \"Experience\", \"Income\", \"CCAvg\", \"Mortgage\"]\n",
        "\n",
        "# Transform the predictors of training and validation sets\n",
        "train_df[columns_to_standardize] = scaler.fit_transform(train_df[columns_to_standardize]) \n",
        "\n",
        "test_df[columns_to_standardize] = scaler.transform(test_df[columns_to_standardize])"
      ]
    },
    {
      "cell_type": "markdown",
      "id": "73c0b4b4",
      "metadata": {
        "id": "73c0b4b4"
      },
      "source": [
        "## 5.0 SAVE THE DATA"
      ]
    },
    {
      "cell_type": "code",
      "execution_count": 11,
      "id": "6de62edf",
      "metadata": {
        "id": "6de62edf"
      },
      "outputs": [],
      "source": [
        "train_X = train_df[predictors]\n",
        "train_y = train_df[target] # train_target is now a series objecttrain_df.to_csv('RidingMowers_df.csv', index=False)\n",
        "test_X = test_df[predictors]\n",
        "test_y = test_df[target] # validation_target is now a series object"
      ]
    },
    {
      "cell_type": "markdown",
      "id": "29a8913c",
      "metadata": {
        "id": "29a8913c"
      },
      "source": [
        "## 6.0 MODEL THE DATA"
      ]
    },
    {
      "cell_type": "code",
      "execution_count": 12,
      "id": "d436e6b0",
      "metadata": {
        "id": "d436e6b0"
      },
      "outputs": [],
      "source": [
        "performance = pd.DataFrame({\"model\": [], \"Accuracy\": [], \"Precision\": [], \"Recall\": [], \"F1\": []})"
      ]
    },
    {
      "cell_type": "markdown",
      "id": "7abe2045",
      "metadata": {
        "id": "7abe2045"
      },
      "source": [
        "## 7.0 LOGISTIC REGRESSION "
      ]
    },
    {
      "cell_type": "markdown",
      "id": "99b7cbf7",
      "metadata": {
        "id": "99b7cbf7"
      },
      "source": [
        "## 7.1 LOGISTIC REGRESSION - RANDOM SEARCH"
      ]
    },
    {
      "cell_type": "code",
      "execution_count": 13,
      "id": "84428207",
      "metadata": {
        "colab": {
          "base_uri": "https://localhost:8080/"
        },
        "id": "84428207",
        "outputId": "525503bf-7299-4511-aa41-3cca10c36597"
      },
      "outputs": [
        {
          "name": "stderr",
          "output_type": "stream",
          "text": [
            "C:\\Users\\surya\\AppData\\Local\\Packages\\PythonSoftwareFoundation.Python.3.10_qbz5n2kfra8p0\\LocalCache\\local-packages\\Python310\\site-packages\\sklearn\\model_selection\\_search.py:305: UserWarning: The total space of parameters 8 is smaller than n_iter=500. Running 8 iterations. For exhaustive searches, use GridSearchCV.\n",
            "  warnings.warn(\n"
          ]
        },
        {
          "name": "stdout",
          "output_type": "stream",
          "text": [
            "Fitting 5 folds for each of 8 candidates, totalling 40 fits\n",
            "The best recall score is 0.6662790697674419\n",
            "... with parameters: {'solver': 'liblinear', 'penalty': 'l1'}\n"
          ]
        },
        {
          "name": "stderr",
          "output_type": "stream",
          "text": [
            "C:\\Users\\surya\\AppData\\Local\\Packages\\PythonSoftwareFoundation.Python.3.10_qbz5n2kfra8p0\\LocalCache\\local-packages\\Python310\\site-packages\\sklearn\\model_selection\\_validation.py:378: FitFailedWarning: \n",
            "20 fits failed out of a total of 40.\n",
            "The score on these train-test partitions for these parameters will be set to nan.\n",
            "If these failures are not expected, you can try to debug them by setting error_score='raise'.\n",
            "\n",
            "Below are more details about the failures:\n",
            "--------------------------------------------------------------------------------\n",
            "1 fits failed with the following error:\n",
            "Traceback (most recent call last):\n",
            "  File \"C:\\Users\\surya\\AppData\\Local\\Packages\\PythonSoftwareFoundation.Python.3.10_qbz5n2kfra8p0\\LocalCache\\local-packages\\Python310\\site-packages\\sklearn\\model_selection\\_validation.py\", line 686, in _fit_and_score\n",
            "    estimator.fit(X_train, y_train, **fit_params)\n",
            "  File \"C:\\Users\\surya\\AppData\\Local\\Packages\\PythonSoftwareFoundation.Python.3.10_qbz5n2kfra8p0\\LocalCache\\local-packages\\Python310\\site-packages\\sklearn\\linear_model\\_logistic.py\", line 1160, in fit\n",
            "    self._validate_params()\n",
            "  File \"C:\\Users\\surya\\AppData\\Local\\Packages\\PythonSoftwareFoundation.Python.3.10_qbz5n2kfra8p0\\LocalCache\\local-packages\\Python310\\site-packages\\sklearn\\base.py\", line 581, in _validate_params\n",
            "    validate_parameter_constraints(\n",
            "  File \"C:\\Users\\surya\\AppData\\Local\\Packages\\PythonSoftwareFoundation.Python.3.10_qbz5n2kfra8p0\\LocalCache\\local-packages\\Python310\\site-packages\\sklearn\\utils\\_param_validation.py\", line 97, in validate_parameter_constraints\n",
            "    raise InvalidParameterError(\n",
            "sklearn.utils._param_validation.InvalidParameterError: The 'penalty' parameter of LogisticRegression must be a str among {'l1', 'l2', 'elasticnet', 'none' (deprecated)} or None. Got 'None' instead.\n",
            "\n",
            "--------------------------------------------------------------------------------\n",
            "1 fits failed with the following error:\n",
            "Traceback (most recent call last):\n",
            "  File \"C:\\Users\\surya\\AppData\\Local\\Packages\\PythonSoftwareFoundation.Python.3.10_qbz5n2kfra8p0\\LocalCache\\local-packages\\Python310\\site-packages\\sklearn\\model_selection\\_validation.py\", line 686, in _fit_and_score\n",
            "    estimator.fit(X_train, y_train, **fit_params)\n",
            "  File \"C:\\Users\\surya\\AppData\\Local\\Packages\\PythonSoftwareFoundation.Python.3.10_qbz5n2kfra8p0\\LocalCache\\local-packages\\Python310\\site-packages\\sklearn\\linear_model\\_logistic.py\", line 1160, in fit\n",
            "    self._validate_params()\n",
            "  File \"C:\\Users\\surya\\AppData\\Local\\Packages\\PythonSoftwareFoundation.Python.3.10_qbz5n2kfra8p0\\LocalCache\\local-packages\\Python310\\site-packages\\sklearn\\base.py\", line 581, in _validate_params\n",
            "    validate_parameter_constraints(\n",
            "  File \"C:\\Users\\surya\\AppData\\Local\\Packages\\PythonSoftwareFoundation.Python.3.10_qbz5n2kfra8p0\\LocalCache\\local-packages\\Python310\\site-packages\\sklearn\\utils\\_param_validation.py\", line 97, in validate_parameter_constraints\n",
            "    raise InvalidParameterError(\n",
            "sklearn.utils._param_validation.InvalidParameterError: The 'penalty' parameter of LogisticRegression must be a str among {'l2', 'elasticnet', 'l1', 'none' (deprecated)} or None. Got 'None' instead.\n",
            "\n",
            "--------------------------------------------------------------------------------\n",
            "1 fits failed with the following error:\n",
            "Traceback (most recent call last):\n",
            "  File \"C:\\Users\\surya\\AppData\\Local\\Packages\\PythonSoftwareFoundation.Python.3.10_qbz5n2kfra8p0\\LocalCache\\local-packages\\Python310\\site-packages\\sklearn\\model_selection\\_validation.py\", line 686, in _fit_and_score\n",
            "    estimator.fit(X_train, y_train, **fit_params)\n",
            "  File \"C:\\Users\\surya\\AppData\\Local\\Packages\\PythonSoftwareFoundation.Python.3.10_qbz5n2kfra8p0\\LocalCache\\local-packages\\Python310\\site-packages\\sklearn\\linear_model\\_logistic.py\", line 1160, in fit\n",
            "    self._validate_params()\n",
            "  File \"C:\\Users\\surya\\AppData\\Local\\Packages\\PythonSoftwareFoundation.Python.3.10_qbz5n2kfra8p0\\LocalCache\\local-packages\\Python310\\site-packages\\sklearn\\base.py\", line 581, in _validate_params\n",
            "    validate_parameter_constraints(\n",
            "  File \"C:\\Users\\surya\\AppData\\Local\\Packages\\PythonSoftwareFoundation.Python.3.10_qbz5n2kfra8p0\\LocalCache\\local-packages\\Python310\\site-packages\\sklearn\\utils\\_param_validation.py\", line 97, in validate_parameter_constraints\n",
            "    raise InvalidParameterError(\n",
            "sklearn.utils._param_validation.InvalidParameterError: The 'penalty' parameter of LogisticRegression must be a str among {'elasticnet', 'none' (deprecated), 'l2', 'l1'} or None. Got 'None' instead.\n",
            "\n",
            "--------------------------------------------------------------------------------\n",
            "3 fits failed with the following error:\n",
            "Traceback (most recent call last):\n",
            "  File \"C:\\Users\\surya\\AppData\\Local\\Packages\\PythonSoftwareFoundation.Python.3.10_qbz5n2kfra8p0\\LocalCache\\local-packages\\Python310\\site-packages\\sklearn\\model_selection\\_validation.py\", line 686, in _fit_and_score\n",
            "    estimator.fit(X_train, y_train, **fit_params)\n",
            "  File \"C:\\Users\\surya\\AppData\\Local\\Packages\\PythonSoftwareFoundation.Python.3.10_qbz5n2kfra8p0\\LocalCache\\local-packages\\Python310\\site-packages\\sklearn\\linear_model\\_logistic.py\", line 1160, in fit\n",
            "    self._validate_params()\n",
            "  File \"C:\\Users\\surya\\AppData\\Local\\Packages\\PythonSoftwareFoundation.Python.3.10_qbz5n2kfra8p0\\LocalCache\\local-packages\\Python310\\site-packages\\sklearn\\base.py\", line 581, in _validate_params\n",
            "    validate_parameter_constraints(\n",
            "  File \"C:\\Users\\surya\\AppData\\Local\\Packages\\PythonSoftwareFoundation.Python.3.10_qbz5n2kfra8p0\\LocalCache\\local-packages\\Python310\\site-packages\\sklearn\\utils\\_param_validation.py\", line 97, in validate_parameter_constraints\n",
            "    raise InvalidParameterError(\n",
            "sklearn.utils._param_validation.InvalidParameterError: The 'penalty' parameter of LogisticRegression must be a str among {'elasticnet', 'l1', 'l2', 'none' (deprecated)} or None. Got 'None' instead.\n",
            "\n",
            "--------------------------------------------------------------------------------\n",
            "1 fits failed with the following error:\n",
            "Traceback (most recent call last):\n",
            "  File \"C:\\Users\\surya\\AppData\\Local\\Packages\\PythonSoftwareFoundation.Python.3.10_qbz5n2kfra8p0\\LocalCache\\local-packages\\Python310\\site-packages\\sklearn\\model_selection\\_validation.py\", line 686, in _fit_and_score\n",
            "    estimator.fit(X_train, y_train, **fit_params)\n",
            "  File \"C:\\Users\\surya\\AppData\\Local\\Packages\\PythonSoftwareFoundation.Python.3.10_qbz5n2kfra8p0\\LocalCache\\local-packages\\Python310\\site-packages\\sklearn\\linear_model\\_logistic.py\", line 1160, in fit\n",
            "    self._validate_params()\n",
            "  File \"C:\\Users\\surya\\AppData\\Local\\Packages\\PythonSoftwareFoundation.Python.3.10_qbz5n2kfra8p0\\LocalCache\\local-packages\\Python310\\site-packages\\sklearn\\base.py\", line 581, in _validate_params\n",
            "    validate_parameter_constraints(\n",
            "  File \"C:\\Users\\surya\\AppData\\Local\\Packages\\PythonSoftwareFoundation.Python.3.10_qbz5n2kfra8p0\\LocalCache\\local-packages\\Python310\\site-packages\\sklearn\\utils\\_param_validation.py\", line 97, in validate_parameter_constraints\n",
            "    raise InvalidParameterError(\n",
            "sklearn.utils._param_validation.InvalidParameterError: The 'penalty' parameter of LogisticRegression must be a str among {'l2', 'l1', 'elasticnet', 'none' (deprecated)} or None. Got 'None' instead.\n",
            "\n",
            "--------------------------------------------------------------------------------\n",
            "1 fits failed with the following error:\n",
            "Traceback (most recent call last):\n",
            "  File \"C:\\Users\\surya\\AppData\\Local\\Packages\\PythonSoftwareFoundation.Python.3.10_qbz5n2kfra8p0\\LocalCache\\local-packages\\Python310\\site-packages\\sklearn\\model_selection\\_validation.py\", line 686, in _fit_and_score\n",
            "    estimator.fit(X_train, y_train, **fit_params)\n",
            "  File \"C:\\Users\\surya\\AppData\\Local\\Packages\\PythonSoftwareFoundation.Python.3.10_qbz5n2kfra8p0\\LocalCache\\local-packages\\Python310\\site-packages\\sklearn\\linear_model\\_logistic.py\", line 1160, in fit\n",
            "    self._validate_params()\n",
            "  File \"C:\\Users\\surya\\AppData\\Local\\Packages\\PythonSoftwareFoundation.Python.3.10_qbz5n2kfra8p0\\LocalCache\\local-packages\\Python310\\site-packages\\sklearn\\base.py\", line 581, in _validate_params\n",
            "    validate_parameter_constraints(\n",
            "  File \"C:\\Users\\surya\\AppData\\Local\\Packages\\PythonSoftwareFoundation.Python.3.10_qbz5n2kfra8p0\\LocalCache\\local-packages\\Python310\\site-packages\\sklearn\\utils\\_param_validation.py\", line 97, in validate_parameter_constraints\n",
            "    raise InvalidParameterError(\n",
            "sklearn.utils._param_validation.InvalidParameterError: The 'penalty' parameter of LogisticRegression must be a str among {'l1', 'none' (deprecated), 'l2', 'elasticnet'} or None. Got 'None' instead.\n",
            "\n",
            "--------------------------------------------------------------------------------\n",
            "1 fits failed with the following error:\n",
            "Traceback (most recent call last):\n",
            "  File \"C:\\Users\\surya\\AppData\\Local\\Packages\\PythonSoftwareFoundation.Python.3.10_qbz5n2kfra8p0\\LocalCache\\local-packages\\Python310\\site-packages\\sklearn\\model_selection\\_validation.py\", line 686, in _fit_and_score\n",
            "    estimator.fit(X_train, y_train, **fit_params)\n",
            "  File \"C:\\Users\\surya\\AppData\\Local\\Packages\\PythonSoftwareFoundation.Python.3.10_qbz5n2kfra8p0\\LocalCache\\local-packages\\Python310\\site-packages\\sklearn\\linear_model\\_logistic.py\", line 1160, in fit\n",
            "    self._validate_params()\n",
            "  File \"C:\\Users\\surya\\AppData\\Local\\Packages\\PythonSoftwareFoundation.Python.3.10_qbz5n2kfra8p0\\LocalCache\\local-packages\\Python310\\site-packages\\sklearn\\base.py\", line 581, in _validate_params\n",
            "    validate_parameter_constraints(\n",
            "  File \"C:\\Users\\surya\\AppData\\Local\\Packages\\PythonSoftwareFoundation.Python.3.10_qbz5n2kfra8p0\\LocalCache\\local-packages\\Python310\\site-packages\\sklearn\\utils\\_param_validation.py\", line 97, in validate_parameter_constraints\n",
            "    raise InvalidParameterError(\n",
            "sklearn.utils._param_validation.InvalidParameterError: The 'penalty' parameter of LogisticRegression must be a str among {'l2', 'none' (deprecated), 'l1', 'elasticnet'} or None. Got 'None' instead.\n",
            "\n",
            "--------------------------------------------------------------------------------\n",
            "1 fits failed with the following error:\n",
            "Traceback (most recent call last):\n",
            "  File \"C:\\Users\\surya\\AppData\\Local\\Packages\\PythonSoftwareFoundation.Python.3.10_qbz5n2kfra8p0\\LocalCache\\local-packages\\Python310\\site-packages\\sklearn\\model_selection\\_validation.py\", line 686, in _fit_and_score\n",
            "    estimator.fit(X_train, y_train, **fit_params)\n",
            "  File \"C:\\Users\\surya\\AppData\\Local\\Packages\\PythonSoftwareFoundation.Python.3.10_qbz5n2kfra8p0\\LocalCache\\local-packages\\Python310\\site-packages\\sklearn\\linear_model\\_logistic.py\", line 1160, in fit\n",
            "    self._validate_params()\n",
            "  File \"C:\\Users\\surya\\AppData\\Local\\Packages\\PythonSoftwareFoundation.Python.3.10_qbz5n2kfra8p0\\LocalCache\\local-packages\\Python310\\site-packages\\sklearn\\base.py\", line 581, in _validate_params\n",
            "    validate_parameter_constraints(\n",
            "  File \"C:\\Users\\surya\\AppData\\Local\\Packages\\PythonSoftwareFoundation.Python.3.10_qbz5n2kfra8p0\\LocalCache\\local-packages\\Python310\\site-packages\\sklearn\\utils\\_param_validation.py\", line 97, in validate_parameter_constraints\n",
            "    raise InvalidParameterError(\n",
            "sklearn.utils._param_validation.InvalidParameterError: The 'penalty' parameter of LogisticRegression must be a str among {'none' (deprecated), 'l1', 'l2', 'elasticnet'} or None. Got 'None' instead.\n",
            "\n",
            "--------------------------------------------------------------------------------\n",
            "5 fits failed with the following error:\n",
            "Traceback (most recent call last):\n",
            "  File \"C:\\Users\\surya\\AppData\\Local\\Packages\\PythonSoftwareFoundation.Python.3.10_qbz5n2kfra8p0\\LocalCache\\local-packages\\Python310\\site-packages\\sklearn\\model_selection\\_validation.py\", line 686, in _fit_and_score\n",
            "    estimator.fit(X_train, y_train, **fit_params)\n",
            "  File \"C:\\Users\\surya\\AppData\\Local\\Packages\\PythonSoftwareFoundation.Python.3.10_qbz5n2kfra8p0\\LocalCache\\local-packages\\Python310\\site-packages\\sklearn\\linear_model\\_logistic.py\", line 1291, in fit\n",
            "    fold_coefs_ = Parallel(n_jobs=self.n_jobs, verbose=self.verbose, prefer=prefer)(\n",
            "  File \"C:\\Users\\surya\\AppData\\Local\\Packages\\PythonSoftwareFoundation.Python.3.10_qbz5n2kfra8p0\\LocalCache\\local-packages\\Python310\\site-packages\\sklearn\\utils\\parallel.py\", line 63, in __call__\n",
            "    return super().__call__(iterable_with_config)\n",
            "  File \"C:\\Users\\surya\\AppData\\Local\\Packages\\PythonSoftwareFoundation.Python.3.10_qbz5n2kfra8p0\\LocalCache\\local-packages\\Python310\\site-packages\\joblib\\parallel.py\", line 1085, in __call__\n",
            "    if self.dispatch_one_batch(iterator):\n",
            "  File \"C:\\Users\\surya\\AppData\\Local\\Packages\\PythonSoftwareFoundation.Python.3.10_qbz5n2kfra8p0\\LocalCache\\local-packages\\Python310\\site-packages\\joblib\\parallel.py\", line 901, in dispatch_one_batch\n",
            "    self._dispatch(tasks)\n",
            "  File \"C:\\Users\\surya\\AppData\\Local\\Packages\\PythonSoftwareFoundation.Python.3.10_qbz5n2kfra8p0\\LocalCache\\local-packages\\Python310\\site-packages\\joblib\\parallel.py\", line 819, in _dispatch\n",
            "    job = self._backend.apply_async(batch, callback=cb)\n",
            "  File \"C:\\Users\\surya\\AppData\\Local\\Packages\\PythonSoftwareFoundation.Python.3.10_qbz5n2kfra8p0\\LocalCache\\local-packages\\Python310\\site-packages\\joblib\\_parallel_backends.py\", line 208, in apply_async\n",
            "    result = ImmediateResult(func)\n",
            "  File \"C:\\Users\\surya\\AppData\\Local\\Packages\\PythonSoftwareFoundation.Python.3.10_qbz5n2kfra8p0\\LocalCache\\local-packages\\Python310\\site-packages\\joblib\\_parallel_backends.py\", line 597, in __init__\n",
            "    self.results = batch()\n",
            "  File \"C:\\Users\\surya\\AppData\\Local\\Packages\\PythonSoftwareFoundation.Python.3.10_qbz5n2kfra8p0\\LocalCache\\local-packages\\Python310\\site-packages\\joblib\\parallel.py\", line 288, in __call__\n",
            "    return [func(*args, **kwargs)\n",
            "  File \"C:\\Users\\surya\\AppData\\Local\\Packages\\PythonSoftwareFoundation.Python.3.10_qbz5n2kfra8p0\\LocalCache\\local-packages\\Python310\\site-packages\\joblib\\parallel.py\", line 288, in <listcomp>\n",
            "    return [func(*args, **kwargs)\n",
            "  File \"C:\\Users\\surya\\AppData\\Local\\Packages\\PythonSoftwareFoundation.Python.3.10_qbz5n2kfra8p0\\LocalCache\\local-packages\\Python310\\site-packages\\sklearn\\utils\\parallel.py\", line 123, in __call__\n",
            "    return self.function(*args, **kwargs)\n",
            "  File \"C:\\Users\\surya\\AppData\\Local\\Packages\\PythonSoftwareFoundation.Python.3.10_qbz5n2kfra8p0\\LocalCache\\local-packages\\Python310\\site-packages\\sklearn\\linear_model\\_logistic.py\", line 521, in _logistic_regression_path\n",
            "    alpha = (1.0 / C) * (1 - l1_ratio)\n",
            "TypeError: unsupported operand type(s) for -: 'int' and 'NoneType'\n",
            "\n",
            "--------------------------------------------------------------------------------\n",
            "5 fits failed with the following error:\n",
            "Traceback (most recent call last):\n",
            "  File \"C:\\Users\\surya\\AppData\\Local\\Packages\\PythonSoftwareFoundation.Python.3.10_qbz5n2kfra8p0\\LocalCache\\local-packages\\Python310\\site-packages\\sklearn\\model_selection\\_validation.py\", line 686, in _fit_and_score\n",
            "    estimator.fit(X_train, y_train, **fit_params)\n",
            "  File \"C:\\Users\\surya\\AppData\\Local\\Packages\\PythonSoftwareFoundation.Python.3.10_qbz5n2kfra8p0\\LocalCache\\local-packages\\Python310\\site-packages\\sklearn\\linear_model\\_logistic.py\", line 1162, in fit\n",
            "    solver = _check_solver(self.solver, self.penalty, self.dual)\n",
            "  File \"C:\\Users\\surya\\AppData\\Local\\Packages\\PythonSoftwareFoundation.Python.3.10_qbz5n2kfra8p0\\LocalCache\\local-packages\\Python310\\site-packages\\sklearn\\linear_model\\_logistic.py\", line 64, in _check_solver\n",
            "    raise ValueError(\n",
            "ValueError: Only 'saga' solver supports elasticnet penalty, got solver=liblinear.\n",
            "\n",
            "  warnings.warn(some_fits_failed_message, FitFailedWarning)\n",
            "C:\\Users\\surya\\AppData\\Local\\Packages\\PythonSoftwareFoundation.Python.3.10_qbz5n2kfra8p0\\LocalCache\\local-packages\\Python310\\site-packages\\sklearn\\model_selection\\_search.py:952: UserWarning: One or more of the test scores are non-finite: [       nan        nan 0.         0.66627907 0.         0.\n",
            "        nan        nan]\n",
            "  warnings.warn(\n",
            "C:\\Users\\surya\\AppData\\Local\\Packages\\PythonSoftwareFoundation.Python.3.10_qbz5n2kfra8p0\\LocalCache\\local-packages\\Python310\\site-packages\\sklearn\\model_selection\\_search.py:952: UserWarning: One or more of the train scores are non-finite: [       nan        nan 0.         0.66664286 0.         0.\n",
            "        nan        nan]\n",
            "  warnings.warn(\n"
          ]
        }
      ],
      "source": [
        "score_measure = \"recall\"\n",
        "kfolds = 5\n",
        "\n",
        "param_grid = {\n",
        "    'penalty': ['None','l1','l2','elasticnet'],\n",
        "    'solver':['saga','liblinear']\n",
        "}\n",
        "\n",
        "logistic_reg = LogisticRegression()\n",
        "rand_search = RandomizedSearchCV(estimator = logistic_reg, param_distributions=param_grid, cv=kfolds, n_iter=500,\n",
        "                           scoring=score_measure, verbose=1, n_jobs=-1, \n",
        "                           return_train_score=True)\n",
        "\n",
        "_ = rand_search.fit(train_X, train_y)\n",
        "\n",
        "print(f\"The best {score_measure} score is {rand_search.best_score_}\")\n",
        "print(f\"... with parameters: {rand_search.best_params_}\")"
      ]
    },
    {
      "cell_type": "code",
      "execution_count": null,
      "id": "9085c592",
      "metadata": {
        "id": "9085c592"
      },
      "outputs": [],
      "source": []
    },
    {
      "cell_type": "markdown",
      "id": "dd5a3f4a",
      "metadata": {
        "id": "dd5a3f4a"
      },
      "source": [
        "## 7.1 LOGISTIC REGRESSION - GRID SEARCH"
      ]
    },
    {
      "cell_type": "code",
      "execution_count": 14,
      "id": "f28b0e39",
      "metadata": {
        "colab": {
          "base_uri": "https://localhost:8080/"
        },
        "id": "f28b0e39",
        "outputId": "c1a3af3f-3a01-47dd-f537-800f777fc6c8"
      },
      "outputs": [
        {
          "name": "stdout",
          "output_type": "stream",
          "text": [
            "Fitting 5 folds for each of 1 candidates, totalling 5 fits\n",
            "The best recall score is 0.6662790697674419\n",
            "... with parameters: {'penalty': 'l1', 'solver': 'liblinear'}\n"
          ]
        }
      ],
      "source": [
        "score_measure = \"recall\"\n",
        "kfolds = 5\n",
        "penalty = rand_search.best_params_['penalty']\n",
        "solver = rand_search.best_params_['solver']\n",
        "\n",
        "param_grid = {  \n",
        "    'penalty': [penalty],\n",
        "    'solver': [solver]\n",
        "}\n",
        "\n",
        "logistic_reg = LogisticRegression()\n",
        "grid_search = GridSearchCV(estimator = logistic_reg, param_grid=param_grid, cv=kfolds, \n",
        "                           scoring=score_measure, verbose=1, n_jobs=-1,\n",
        "                           return_train_score=True)\n",
        "\n",
        "_ = grid_search.fit(train_X, train_y)\n",
        "\n",
        "print(f\"The best {score_measure} score is {grid_search.best_score_}\")\n",
        "print(f\"... with parameters: {grid_search.best_params_}\")\n",
        "\n",
        "bestRecallLogistic = grid_search.best_estimator_"
      ]
    },
    {
      "cell_type": "code",
      "execution_count": 15,
      "id": "1cd10900",
      "metadata": {
        "id": "1cd10900"
      },
      "outputs": [],
      "source": [
        "c_matrix = confusion_matrix(test_y, grid_search.predict(test_X))\n",
        "TP = c_matrix[1][1]\n",
        "TN = c_matrix[0][0]\n",
        "FP = c_matrix[0][1]\n",
        "FN = c_matrix[1][0]\n",
        "performance = pd.concat([performance, pd.DataFrame({'model':\"Logistic Regression\",\n",
        "                                                    'Accuracy': [(TP+TN)/(TP+TN+FP+FN)], \n",
        "                                                    'Precision': [TP/(TP+FP)], \n",
        "                                                    'Recall': [TP/(TP+FN)], \n",
        "                                                    'F1': [2*TP/(2*TP+FP+FN)]\n",
        "                                                     }, index=[0])])"
      ]
    },
    {
      "cell_type": "markdown",
      "id": "f26210bb",
      "metadata": {
        "id": "f26210bb"
      },
      "source": [
        "## 8.0 SVM CLASSIFIER "
      ]
    },
    {
      "cell_type": "markdown",
      "id": "42e59d10",
      "metadata": {
        "id": "42e59d10"
      },
      "source": [
        "## 8.1 SVM CLASSIFIER - LINEAR - RBF - POLY - RANDOM SEARCH"
      ]
    },
    {
      "cell_type": "code",
      "execution_count": 16,
      "id": "77fbbcba",
      "metadata": {
        "colab": {
          "base_uri": "https://localhost:8080/"
        },
        "id": "77fbbcba",
        "outputId": "d09134cc-1b54-4bf3-8e7d-9e698326fa97"
      },
      "outputs": [
        {
          "name": "stdout",
          "output_type": "stream",
          "text": [
            "Fitting 2 folds for each of 100 candidates, totalling 200 fits\n"
          ]
        }
      ],
      "source": [
        "score_measure = \"recall\"\n",
        "kfolds = 2\n",
        "\n",
        "param_grid = {\n",
        "    'C': np.arange(1,30),   \n",
        "    'gamma': ['scale','auto'],\n",
        "    'kernel':['linear','rbf','poly']\n",
        "}\n",
        "\n",
        "svm = SVC()\n",
        "rand_search = RandomizedSearchCV(estimator = svm, param_distributions=param_grid, cv=kfolds, n_iter=100,\n",
        "                           scoring=score_measure, verbose=1, n_jobs=-1, \n",
        "                           return_train_score=True)\n",
        "\n",
        "_ = rand_search.fit(train_X, train_y)\n",
        "\n",
        "print(f\"The best {score_measure} score is {rand_search.best_score_}\")\n",
        "print(f\"... with parameters: {rand_search.best_params_}\")"
      ]
    },
    {
      "cell_type": "markdown",
      "id": "c7e0b68e",
      "metadata": {
        "id": "c7e0b68e"
      },
      "source": [
        "## 8.2 SVM CLASSIFIER - LINEAR - RBF - POLY - GRID SEARCH"
      ]
    },
    {
      "cell_type": "code",
      "execution_count": null,
      "id": "6e1e0121",
      "metadata": {
        "id": "6e1e0121"
      },
      "outputs": [],
      "source": [
        "score_measure = \"recall\"\n",
        "kfolds = 5\n",
        "\n",
        "C = rand_search.best_params_['C']\n",
        "gamma = rand_search.best_params_['gamma']\n",
        "kernel = rand_search.best_params_['kernel']\n",
        "\n",
        "param_grid = {\n",
        "    'C': np.arange(C-3,C+3),  \n",
        "    'gamma': [gamma],\n",
        "    'kernel': [kernel]\n",
        "    \n",
        "}\n",
        "\n",
        "svm = SVC()\n",
        "grid_search = GridSearchCV(estimator = svm, param_grid=param_grid, cv=kfolds, \n",
        "                           scoring=score_measure, verbose=1, n_jobs=-1,\n",
        "                           return_train_score=True)\n",
        "\n",
        "_ = grid_search.fit(train_X, train_y)\n",
        "\n",
        "print(f\"The best {score_measure} score is {grid_search.best_score_}\")\n",
        "print(f\"... with parameters: {grid_search.best_params_}\")\n",
        "\n",
        "bestRecallSVM = grid_search.best_estimator_"
      ]
    },
    {
      "cell_type": "code",
      "execution_count": null,
      "id": "14b02eee",
      "metadata": {
        "id": "14b02eee"
      },
      "outputs": [],
      "source": [
        "c_matrix = confusion_matrix(y_test, grid_search.predict(X_test))\n",
        "TP = c_matrix[1][1]\n",
        "TN = c_matrix[0][0]\n",
        "FP = c_matrix[0][1]\n",
        "FN = c_matrix[1][0]\n",
        "performance = pd.concat([performance, pd.DataFrame({'model':\"SVM\", \n",
        "                                                    'Accuracy': [(TP+TN)/(TP+TN+FP+FN)], \n",
        "                                                    'Precision': [TP/(TP+FP)], \n",
        "                                                    'Recall': [TP/(TP+FN)], \n",
        "                                                    'F1': [2*TP/(2*TP+FP+FN)]\n",
        "                                                     }, index=[0])])"
      ]
    },
    {
      "cell_type": "markdown",
      "id": "0f565e74",
      "metadata": {
        "id": "0f565e74"
      },
      "source": [
        "## 9.0 DECISION TREE"
      ]
    },
    {
      "cell_type": "markdown",
      "id": "44edd587",
      "metadata": {
        "id": "44edd587"
      },
      "source": [
        "## 9.1 DECISION TREE - RANDOM SEARCH "
      ]
    },
    {
      "cell_type": "code",
      "execution_count": null,
      "id": "bb2d5397",
      "metadata": {
        "id": "bb2d5397"
      },
      "outputs": [],
      "source": [
        "score_measure = \"recall\"\n",
        "kfolds = 5\n",
        "\n",
        "param_grid = {\n",
        "    'min_samples_split': np.arange(2,150),  \n",
        "    'min_samples_leaf': np.arange(1,100),\n",
        "    'min_impurity_decrease': np.arange(0.0001, 0.01, 0.0005),\n",
        "    'max_leaf_nodes': np.arange(5, 100), \n",
        "    'max_depth': np.arange(1,50), \n",
        "    'criterion': ['entropy', 'gini'],\n",
        "}\n",
        "\n",
        "dtree = DecisionTreeClassifier()\n",
        "rand_search = RandomizedSearchCV(estimator = dtree, param_distributions=param_grid, cv=kfolds, n_iter=500,\n",
        "                           scoring=score_measure, verbose=1, n_jobs=-1, \n",
        "                           return_train_score=True)\n",
        "\n",
        "_ = rand_search.fit(X_train, y_train)\n",
        "\n",
        "print(f\"The best {score_measure} score is {rand_search.best_score_}\")\n",
        "print(f\"... with parameters: {rand_search.best_params_}\")"
      ]
    },
    {
      "cell_type": "markdown",
      "id": "01396f99",
      "metadata": {
        "id": "01396f99"
      },
      "source": [
        "## 9.1 DECISION TREE - GRID SEARCH"
      ]
    },
    {
      "cell_type": "code",
      "execution_count": null,
      "id": "2d1f9f49",
      "metadata": {
        "id": "2d1f9f49"
      },
      "outputs": [],
      "source": [
        "score_measure = \"recall\"\n",
        "kfolds = 5\n",
        "min_samples_split = rand_search.best_params_['min_samples_split']\n",
        "min_samples_leaf = rand_search.best_params_['min_samples_leaf']\n",
        "min_impurity_decrease = rand_search.best_params_['min_impurity_decrease']\n",
        "max_leaf_nodes = rand_search.best_params_['max_leaf_nodes']\n",
        "max_depth = rand_search.best_params_['max_depth']\n",
        "criterion = rand_search.best_params_['criterion']\n",
        "\n",
        "param_grid = {\n",
        "    'min_samples_split': np.arange(min_samples_split-2,min_samples_split+2),  \n",
        "    'min_samples_leaf': np.arange(min_samples_leaf-2,min_samples_leaf+2),\n",
        "    'min_impurity_decrease': np.arange(min_impurity_decrease-0.0001, min_impurity_decrease+0.0001, 0.00005),\n",
        "    'max_leaf_nodes': np.arange(max_leaf_nodes-2,max_leaf_nodes+2), \n",
        "    'max_depth': np.arange(max_depth-2,max_depth+2), \n",
        "    'criterion': [criterion]\n",
        "}\n",
        "\n",
        "dtree = DecisionTreeClassifier()\n",
        "grid_search = GridSearchCV(estimator = dtree, param_grid=param_grid, cv=kfolds, \n",
        "                           scoring=score_measure, verbose=1, n_jobs=-1,\n",
        "                           return_train_score=True)\n",
        "\n",
        "_ = grid_search.fit(X_train, y_train)\n",
        "\n",
        "print(f\"The best {score_measure} score is {grid_search.best_score_}\")\n",
        "print(f\"... with parameters: {grid_search.best_params_}\")\n",
        "\n",
        "bestRecallTree = grid_search.best_estimator_"
      ]
    },
    {
      "cell_type": "code",
      "execution_count": null,
      "id": "325db04d",
      "metadata": {
        "id": "325db04d"
      },
      "outputs": [],
      "source": [
        "c_matrix = confusion_matrix(y_test, grid_search.predict(X_test))\n",
        "TP = c_matrix[1][1]\n",
        "TN = c_matrix[0][0]\n",
        "FP = c_matrix[0][1]\n",
        "FN = c_matrix[1][0]\n",
        "performance = pd.concat([performance, pd.DataFrame({'model':\"Decision Tree\", \n",
        "                                                    'Accuracy': [(TP+TN)/(TP+TN+FP+FN)], \n",
        "                                                    'Precision': [TP/(TP+FP)], \n",
        "                                                    'Recall': [TP/(TP+FN)], \n",
        "                                                    'F1': [2*TP/(2*TP+FP+FN)]\n",
        "                                                     }, index=[0])])"
      ]
    },
    {
      "cell_type": "code",
      "execution_count": null,
      "id": "nwRlbrSH5uMZ",
      "metadata": {
        "id": "nwRlbrSH5uMZ"
      },
      "outputs": [],
      "source": []
    },
    {
      "cell_type": "markdown",
      "id": "q3p71E4l5wTM",
      "metadata": {
        "id": "q3p71E4l5wTM"
      },
      "source": [
        "## PERFORMANCE OF ALL MODELS"
      ]
    },
    {
      "cell_type": "code",
      "execution_count": null,
      "id": "Eh5UFHGm51Zs",
      "metadata": {
        "id": "Eh5UFHGm51Zs"
      },
      "outputs": [],
      "source": [
        "performance.sort_values(by=['Recall'])"
      ]
    },
    {
      "cell_type": "markdown",
      "id": "7d_AozEv6CID",
      "metadata": {
        "id": "7d_AozEv6CID"
      },
      "source": [
        "## ANALYSIS OF MODELS "
      ]
    },
    {
      "cell_type": "markdown",
      "id": "jJI9yPlJ6T7S",
      "metadata": {
        "id": "jJI9yPlJ6T7S"
      },
      "source": [
        "The Recall score of Logistic Regression is    , SVM Model is     and  Decision tree is    . As we are considering the Recall score as priority, Decision tree with     is better model compared to other models. "
      ]
    },
    {
      "cell_type": "markdown",
      "id": "014V0_RT6IDx",
      "metadata": {
        "id": "014V0_RT6IDx"
      },
      "source": []
    },
    {
      "cell_type": "markdown",
      "id": "Y_JX1sUY6G-M",
      "metadata": {
        "id": "Y_JX1sUY6G-M"
      },
      "source": []
    }
  ],
  "metadata": {
    "colab": {
      "provenance": []
    },
    "kernelspec": {
      "display_name": "Python 3 (ipykernel)",
      "language": "python",
      "name": "python3"
    },
    "language_info": {
      "codemirror_mode": {
        "name": "ipython",
        "version": 3
      },
      "file_extension": ".py",
      "mimetype": "text/x-python",
      "name": "python",
      "nbconvert_exporter": "python",
      "pygments_lexer": "ipython3",
      "version": "3.10.10"
    }
  },
  "nbformat": 4,
  "nbformat_minor": 5
}
